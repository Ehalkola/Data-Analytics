{
 "cells": [
  {
   "attachments": {},
   "cell_type": "markdown",
   "metadata": {},
   "source": [
    "<h3><b>Introduction to Data Analytics - Exercise set 3 - seaborn-module and data exploration</b></h3>"
   ]
  },
  {
   "attachments": {},
   "cell_type": "markdown",
   "metadata": {},
   "source": [
    "Put all your exercises (Jupyter Notebook/Python-files) in your course Git-project.\n",
    "Use either code comments or Jupyter Notebook markdown (text) to document which exercise you are doing and what a certain code section does! "
   ]
  },
  {
   "cell_type": "markdown",
   "metadata": {},
   "source": [
    "<h3 style=\"color: red;\">NOTE! Answer the questions within the exercises either as code comments or markdown text.</h3>"
   ]
  },
  {
   "attachments": {},
   "cell_type": "markdown",
   "metadata": {},
   "source": [
    "<h4><b>1. In this exercise, use the 'penguins' dataset from seaborn! </b></h4>\n",
    "<b>-> sns.load_dataset('penguins')\n",
    "</b>\n"
   ]
  },
  {
   "cell_type": "code",
   "execution_count": null,
   "metadata": {},
   "outputs": [],
   "source": [
    "import numpy as np \n",
    "import pandas as pd\n",
    "import seaborn as sns\n",
    "import matplotlib.pyplot as plt\n",
    "import calendar\n",
    "from datetime import datetime"
   ]
  },
  {
   "cell_type": "code",
   "execution_count": null,
   "metadata": {},
   "outputs": [],
   "source": [
    "%load_ext numpy_html"
   ]
  },
  {
   "cell_type": "code",
   "execution_count": null,
   "metadata": {},
   "outputs": [],
   "source": [
    "%%html\n",
    "<style>\n",
    "table {margin-top: 16pt;}\n",
    "td {font-family: Arial, Helvetica, sans-serif !important; font-weight: 600; white-space: normal !important;}\n",
    "tr:nth-child(even) {background: #b0d9eb !important; color: black}\n",
    "tr:nth-child(odd) {background: #8fb1bf !important; color: black}\n",
    "</style>"
   ]
  },
  {
   "cell_type": "code",
   "execution_count": null,
   "metadata": {},
   "outputs": [],
   "source": [
    "# Load dataset penguins from seabron\n",
    "penguins = sns.load_dataset('penguins')"
   ]
  },
  {
   "attachments": {},
   "cell_type": "markdown",
   "metadata": {},
   "source": [
    "<ul>\n",
    "<li>Create a pair plot of the data</li>\n",
    "<ul>\n",
    "    <li style=\"color: red; font-weight: bold;\">What correlations can you immediately see?</li>\n",
    "    <li><b>Bonus extra task:</b> check out the correlation matrix for this dataset too</li>\n",
    "</ul>\n",
    "</ul>"
   ]
  },
  {
   "cell_type": "markdown",
   "metadata": {},
   "source": [
    "What correlations can you immediately see?\n",
    "\n",
    "Here we can see initial insights into the data. Genthoo is the biggest of penguin species in this dataframe. Even while being the biggest they have the lowest bill depth on average."
   ]
  },
  {
   "cell_type": "code",
   "execution_count": null,
   "metadata": {},
   "outputs": [],
   "source": [
    "# Select numeric columns for computing correlation\n",
    "numeric_columns = penguins.select_dtypes(include=['number'])\n",
    "\n",
    "# Compute the correlation matrix\n",
    "penguins_matrix = numeric_columns.corr()\n",
    "\n",
    "# Plot the correlation matrix as a heatmap using Seaborn\n",
    "plt.figure(figsize=(10, 10))\n",
    "sns.heatmap(data=penguins_matrix, annot=True, cmap='coolwarm', fmt='.2f')\n",
    "plt.show()"
   ]
  },
  {
   "cell_type": "markdown",
   "metadata": {},
   "source": [
    "Here we can see correlation between flipper, bill length and body mass, this means the bigger and heavier the penguin, bigger their flippers are on average. Bill depth is seems to have negative correlation with body mass and bill depth (even while body mass has -0.47, but almost -0.5 == high negative correlation)."
   ]
  },
  {
   "cell_type": "markdown",
   "metadata": {},
   "source": [
    "Bonus extra task: check out the correlation matrix for this dataset too"
   ]
  },
  {
   "cell_type": "code",
   "execution_count": null,
   "metadata": {},
   "outputs": [],
   "source": [
    "# Create pair plot\n",
    "sns.pairplot(data=penguins, hue='species')"
   ]
  },
  {
   "attachments": {},
   "cell_type": "markdown",
   "metadata": {},
   "source": [
    "<li>Use hue for the \"island\" column, <span style=\"color: red; font-weight: bold;\">what can you see in the data this way?</span></li>"
   ]
  },
  {
   "cell_type": "code",
   "execution_count": null,
   "metadata": {},
   "outputs": [],
   "source": [
    "# Create pairplot hue island\n",
    "sns.pairplot(data=penguins, hue='island')\n",
    "plt.show()"
   ]
  },
  {
   "cell_type": "markdown",
   "metadata": {},
   "source": [
    "Here we can see that penguins from Biscoe island are the largest on average, while having the smallest bill depth. Penguins from Torgensen island seem to be the smallest in general, while having the highest bill depth. Penguins from Dream island island seems to place between these two islands."
   ]
  },
  {
   "attachments": {},
   "cell_type": "markdown",
   "metadata": {},
   "source": [
    "<ul>\n",
    "    <li>Find the amount of penguins on each island by using pandas (<b>value_counts()</b>). <span style=\"color: red; font-weight: bold;\">Which island is different compared to others?</span></li>\n",
    "    <ul>\n",
    "        <li><b>Small extra task:</b> visualize the counts with a bar plot</li>\n",
    "    </ul>\n",
    "</ul>"
   ]
  },
  {
   "cell_type": "code",
   "execution_count": null,
   "metadata": {},
   "outputs": [],
   "source": [
    "# Create sentence to count penguins on each island\n",
    "penguins_per_island = penguins.value_counts('island')\n",
    "\n",
    "# Create visualization for the user\n",
    "plt.figure(figsize=(8, 6))\n",
    "penguins_per_island.plot(kind='bar', x='island')\n",
    "plt.title('Penguins per Island')\n",
    "plt.grid(axis='y')\n",
    "plt.show()"
   ]
  },
  {
   "cell_type": "markdown",
   "metadata": {},
   "source": [
    "Which island is different compared to others?\n",
    "\n",
    "Answer: Torgersen is different due to it being over 2x smaller than dream and over 5x smaller than Biscoe."
   ]
  },
  {
   "attachments": {},
   "cell_type": "markdown",
   "metadata": {},
   "source": [
    "<ul>\n",
    "    <li>Create now another pair plot, and use hue for the \"species\" –column</li>\n",
    "    <ul>\n",
    "        <li style=\"color: red; font-weight: bold;\">Is there a difference in the distributions when using hue for the islands instead?</li>\n",
    "        <li><b>Bonus task:</b> <span style=\"color: red; font-weight: bold;\">How much does the \"sex\"-column affect the result?</span> (MALE / FEMALE)</li>\n",
    "    </ul>\n",
    "</ul>"
   ]
  },
  {
   "cell_type": "code",
   "execution_count": 1,
   "metadata": {},
   "outputs": [],
   "source": [
    "# Create pair plot, use 'species' as a hue\n",
    "sns.pairplot(data=penguins, hue='species')"
   ]
  },
  {
   "cell_type": "markdown",
   "metadata": {},
   "source": [
    "We can see differerence while using island as a hue instead of species. Here we can immidiately see that species as a hue seems much more cleaner and clearer distribution amongs the data than using island as a hue. That gives us a conclusion that there are more than one species living on the same island. Prove is below at the bottom of this task as a box plot."
   ]
  },
  {
   "cell_type": "code",
   "execution_count": null,
   "metadata": {},
   "outputs": [],
   "source": [
    "# Create pairplot for Male penguins, use island as a hue\n",
    "sns.pairplot(data=penguins[penguins['sex'] == 'Male'], hue='species')\n",
    "\n",
    "# Create pairplot for Female penguins, use island as a hue\n",
    "sns.pairplot(data=penguins[penguins['sex'] == 'Female'], hue='species')\n",
    "plt.show()"
   ]
  },
  {
   "cell_type": "code",
   "execution_count": null,
   "metadata": {},
   "outputs": [],
   "source": [
    "# Create a pair plot for sex column\n",
    "sns.pairplot(penguins, hue=\"sex\")"
   ]
  },
  {
   "cell_type": "markdown",
   "metadata": {},
   "source": [
    "How much does the \"sex\"-column affect the result?\n",
    "\n",
    "Here we can see that males are usally larger on average, Genthoo species being a exception as Female Genthoos are larger on average than male inviduals from ther species."
   ]
  },
  {
   "attachments": {},
   "cell_type": "markdown",
   "metadata": {},
   "source": [
    "<ul>\n",
    "    <li>Create a scatter plot for <b><i>bill_length_mm</i></b> and <b><i>flipper_length_mm</i></b>, use species as hue (try also island as hue)</li>\n",
    "    <ul>\n",
    "        <li style=\"color: red; font-weight: bold;\">Which affects the result more, species or island?</li> \n",
    "    </ul>\n",
    "</ul>"
   ]
  },
  {
   "cell_type": "code",
   "execution_count": null,
   "metadata": {},
   "outputs": [],
   "source": [
    "# Create Scatter plot for bill and flipper length_mm use species as a hue\n",
    "scatter_species = sns.scatterplot(x=\"bill_length_mm\", y=\"flipper_length_mm\", hue=\"island\", data=penguins)\n",
    "plt.title(\"By Island\")\n",
    "plt.xlabel(\"Bill Length\")\n",
    "plt.ylabel(\"Flipper length\")\n",
    "plt.show()"
   ]
  },
  {
   "cell_type": "code",
   "execution_count": null,
   "metadata": {},
   "outputs": [],
   "source": [
    "# Create Scatter plot for bill and flipper length_mm, use island as a hue\n",
    "scatter_species = sns.scatterplot(x=\"bill_length_mm\", y=\"flipper_length_mm\", hue=\"species\", data=penguins)\n",
    "plt.title(\"By Island\")\n",
    "plt.xlabel(\"Bill Length\")\n",
    "plt.ylabel(\"Flipper length\")\n",
    "plt.show()"
   ]
  },
  {
   "cell_type": "markdown",
   "metadata": {},
   "source": [
    "Which provides the more different result, species or island?\n",
    "\n",
    "In my opinion hue by species seems cleaner and has much clearer distribution, since penguins can live on the same island and there are genetically different from each other."
   ]
  },
  {
   "attachments": {},
   "cell_type": "markdown",
   "metadata": {},
   "source": [
    "<ul>\n",
    "    <li>Use box plots, violin plots or swarm plots:</li>\n",
    "    <ul>\n",
    "        <li>inspect the following information:</li>\n",
    "        <ul>\n",
    "            <li><b></i>flipper_length_mm</i></b></li>\n",
    "            <li><b></i>bill_length_mm</i></b></li>\n",
    "            <li><b></i>body_mass_g</i></b></li>\n",
    "        </ul>\n",
    "        <li>hue = island,  x= species</li>\n",
    "        <ul>\n",
    "            <li style=\"color: red; font-weight: bold;\">What interesting insights/findings can you see in the data this way? </li>\n",
    "            <li style=\"color: darkred; font-weight: bold;\">Or in other words: \"how the data works regarding the variables above?\" </li>\n",
    "        </ul>\n",
    "    </ul>\n",
    "</ul>"
   ]
  },
  {
   "cell_type": "code",
   "execution_count": null,
   "metadata": {},
   "outputs": [],
   "source": [
    "# Create Box plot for bill and flipper length_mm hue island\n",
    "sns.boxplot(x=\"species\", y=\"flipper_length_mm\", hue=\"island\", data=penguins)\n",
    "plt.grid(True)\n",
    "plt.show()"
   ]
  },
  {
   "cell_type": "code",
   "execution_count": null,
   "metadata": {},
   "outputs": [],
   "source": [
    "# Create box plot for bill length by island\n",
    "sns.boxplot(x=\"species\", y=\"bill_length_mm\", hue=\"island\", data=penguins)\n",
    "plt.title(\"Box Plot: Bill Length by Species and Island\")\n",
    "plt.grid(True)\n",
    "plt.show()"
   ]
  },
  {
   "cell_type": "code",
   "execution_count": null,
   "metadata": {},
   "outputs": [],
   "source": [
    "# Box plot for bill_length_mm\n",
    "sns.boxplot(x=\"species\", y=\"body_mass_g\", hue=\"island\", data=penguins,)\n",
    "plt.grid(True)\n",
    "plt.title(\"Box Plot: Body Mass by Species and Island\")\n",
    "plt.xlabel(\"Species\")\n",
    "plt.ylabel(\"Body Mass (g)\")\n",
    "plt.legend(title=\"Island\")\n",
    "plt.show()"
   ]
  },
  {
   "cell_type": "markdown",
   "metadata": {},
   "source": [
    "Here we can see that Adelie lives on all three islands as Chinstrap and Gentoo both live on their own island."
   ]
  },
  {
   "attachments": {},
   "cell_type": "markdown",
   "metadata": {},
   "source": [
    "<img src=\"http://srv.plab.fi/~tuomasv/data_analytics_2023_images/exercise_set_3/penguins.png\" />\n"
   ]
  },
  {
   "attachments": {},
   "cell_type": "markdown",
   "metadata": {},
   "source": [
    "<h4><b>2. In this exercise, use the 'mpg' dataset from seaborn! </b></h4>\n",
    "<b>-> sns.load_dataset('mpg')</b>\n",
    "<p>\n",
    "mpg stands for \"miles per gallon\", which is a common way to represent fuel consumption in USA.\n",
    "</p>\n"
   ]
  },
  {
   "attachments": {},
   "cell_type": "markdown",
   "metadata": {},
   "source": [
    "<b>Clean up the data (instructions and tasks below)</b>"
   ]
  },
  {
   "attachments": {},
   "cell_type": "markdown",
   "metadata": {},
   "source": [
    "<ul>\n",
    "<li>Create a new column: <b>\"liters_per_100km\"</b> , which converts the mpg to liters per 100 km</li>\n",
    "<ul>\n",
    "<li>You can Google the conversion formula easily: \"miles per gallon to liters per 100km\" or \"How do you convert MPG to l 100km?\"\n",
    "</li>\n",
    "<li>remove the original mpg –column after this</li>\n",
    "</ul>\n",
    "\n",
    "</ul>"
   ]
  },
  {
   "cell_type": "code",
   "execution_count": null,
   "metadata": {},
   "outputs": [],
   "source": [
    "# Load dataset 'mpg from seaborn\n",
    "mpg = sns.load_dataset('mpg')\n",
    "mpg"
   ]
  },
  {
   "attachments": {},
   "cell_type": "markdown",
   "metadata": {},
   "source": [
    "<li>Remove the \"name\" -column</li>"
   ]
  },
  {
   "cell_type": "code",
   "execution_count": null,
   "metadata": {},
   "outputs": [],
   "source": [
    "# Create a new column: \"liters_per_100km\" , which converts\n",
    "# the mpg to liters per 100 km, let's suppose that we use imperial,\n",
    "# gallon, imperial formula = 282.48 / df['mpg], us gallon 235.21 / df['mpg]\n",
    "# round the values to 1, it's more common to use it 4.7l/100km format\n",
    "mpg['liters_per_100km'] = round(235.21 / mpg['mpg'], 1)\n",
    "liters_per_100km = mpg['liters_per_100km']\n",
    "mpg['liters_per_100km']"
   ]
  },
  {
   "attachments": {},
   "cell_type": "markdown",
   "metadata": {},
   "source": [
    "<ul>\n",
    "<li>After this, create a correlation matrix. There are two\n",
    "columns that do not correlate as much as the others,\n",
    "remove these two from the dataset <span style=\"color: red; font-weight: bold;\">(mention also which columns you decided to remove and why)</span></li>\n",
    "<ul>\n",
    "<li style=\"font-weight: bold;\">Create also a heatmap of the correlation matrix after you remove the two unneeded columns</li>\n",
    "</ul>\n",
    "</ul>"
   ]
  },
  {
   "cell_type": "code",
   "execution_count": 2,
   "metadata": {},
   "outputs": [],
   "source": [
    "# Drop mpg and name column, change also variable name to dataframe\n",
    "df = mpg.drop('mpg', axis=1)\n",
    "df = df.drop('name', axis=1)\n",
    "new_df = df"
   ]
  },
  {
   "cell_type": "code",
   "execution_count": null,
   "metadata": {},
   "outputs": [],
   "source": [
    "# Remove columns that don't correlate as much\n",
    "df = df.drop('acceleration', axis=1)\n",
    "df = df.drop('model_year', axis=1)\n",
    "df.head()"
   ]
  },
  {
   "cell_type": "code",
   "execution_count": null,
   "metadata": {},
   "outputs": [],
   "source": [
    "# Create correlation matrix, remove column that don't correlate as,\n",
    "# much as others, remove these two from the data set\n",
    "liters_per_100km_corr_matrix = df.corr(numeric_only=True)\n",
    "sns.heatmap(data=liters_per_100km_corr_matrix, annot=True)"
   ]
  },
  {
   "cell_type": "markdown",
   "metadata": {},
   "source": [
    "I chose to drop acceleration and model_year since they don't correlate as much as other columns."
   ]
  },
  {
   "attachments": {},
   "cell_type": "markdown",
   "metadata": {},
   "source": [
    "<ul>\n",
    "<li>There are three different columns that are strongly\n",
    "connected to the car's efficiency (both power and\n",
    "consumption), select one of them and remove the others\n",
    "from the dataset\n",
    "</li>\n",
    "<ul>\n",
    "<li style=\"color: red; font-weight: bold;\">Which column is the best selection to indicate the\n",
    "car’s efficiency, and why? (cylinders, horsepower or\n",
    "displacement/engine size)</li>\n",
    "<li style=\"color: darkred; font-weight: bold;\">Remember: look at the big picture, also compare how well the variables correlate to other variables than just the consumption</li>\n",
    "</ul>\n",
    "</ul>"
   ]
  },
  {
   "cell_type": "code",
   "execution_count": null,
   "metadata": {},
   "outputs": [],
   "source": [
    "# Pick one from the 3 most correlating variables, select 1\n",
    "# and remove others from the dataset, I chose liters_per_100km\n",
    "columns_to_drop = ['cylinders', 'horsepower']\n",
    "\n",
    "# Drop selected columns\n",
    "df = df.drop(df[columns_to_drop], axis=1)\n",
    "df"
   ]
  },
  {
   "cell_type": "code",
   "execution_count": null,
   "metadata": {},
   "outputs": [],
   "source": [
    "# Create heatmap from the correlation matrix after you dropped\n",
    "# low correlating columns\n",
    "df_corr_matrix = df.corr(numeric_only=True)\n",
    "sns.heatmap(data=df_corr_matrix, annot=True, cmap='coolwarm')"
   ]
  },
  {
   "cell_type": "markdown",
   "metadata": {},
   "source": [
    "Best selection from mentioned columns to indicate cars efficiency is displacement/engine size according to the dataframe. Horsepower and seems to have less effect for effect on efficiency, this means motor with more cylinders or horsepowers takes more gas.\n",
    "\n",
    "Best columns to indicate cars efficiency seems to be displacement and weight, less weight means lesser effort/less gas to move the car, with bigger engine and low body weight car seems to be most effective."
   ]
  },
  {
   "cell_type": "code",
   "execution_count": null,
   "metadata": {},
   "outputs": [],
   "source": [
    "# Pick one from the 3 most correlating variables, select 1\n",
    "# and remove others from the dataset, I chose liters_per_100km\n",
    "columns_to_drop = ['cylinders', 'horsepower']\n",
    "\n",
    "# Drop selected columns\n",
    "df = df.drop(df[columns_to_drop], axis=1)\n",
    "df"
   ]
  },
  {
   "attachments": {},
   "cell_type": "markdown",
   "metadata": {},
   "source": [
    "<ul>\n",
    "    <li><b>Finally, use the pair plot and hue (origin)</b></li>\n",
    "    <ul>\n",
    "        <li style=\"color: red; font-weight: bold;\">Which origin country tends have bigger fuel consumption in\n",
    "cars?</li>\n",
    "<li><span style=\"color: red; font-weight: bold;\">Which is generally the origin with lowest consumption?</span>\n",
    "(more specific plots might be a good idea here, for example:\n",
    "box plot, scatter plot etc., pandas functions are helpful too!)</li>\n",
    "<li style=\"color: red; font-weight: bold;\">What other features the cars seem to have that result into\n",
    "bigger or lower consumption?</li>\n",
    "    </ul>\n",
    "</ul>"
   ]
  },
  {
   "cell_type": "code",
   "execution_count": null,
   "metadata": {},
   "outputs": [],
   "source": [
    "sns.pairplot(data=df, hue='origin')"
   ]
  },
  {
   "cell_type": "code",
   "execution_count": null,
   "metadata": {},
   "outputs": [],
   "source": [
    "sns.boxplot(data=df, x=\"origin\", y=\"liters_per_100km\")"
   ]
  },
  {
   "cell_type": "code",
   "execution_count": null,
   "metadata": {},
   "outputs": [],
   "source": [
    "sns.barplot(data=df, x=\"origin\", y=\"liters_per_100km\")"
   ]
  },
  {
   "cell_type": "code",
   "execution_count": null,
   "metadata": {},
   "outputs": [],
   "source": [
    "sns.pairplot(new_df, hue='origin')"
   ]
  },
  {
   "cell_type": "code",
   "execution_count": null,
   "metadata": {},
   "outputs": [],
   "source": [
    "plt.figure(figsize=(10, 10))\n",
    "plot = sns.lineplot(data=new_df, x=\"cylinders\", y=\"liters_per_100km\", hue=\"origin\", ci=None)\n",
    "sns.move_legend(plot, \"upper left\", bbox_to_anchor=(1,1))"
   ]
  },
  {
   "cell_type": "code",
   "execution_count": null,
   "metadata": {},
   "outputs": [],
   "source": [
    "plt.figure(figsize=(10, 10))\n",
    "plot = sns.lineplot(data=new_df, x=\"horsepower\", y=\"liters_per_100km\", hue=\"origin\", ci=None)\n",
    "sns.move_legend(plot, \"upper left\", bbox_to_anchor=(1,1))"
   ]
  },
  {
   "cell_type": "code",
   "execution_count": null,
   "metadata": {},
   "outputs": [],
   "source": [
    "plt.figure(figsize=(25, 10))\n",
    "plot = sns.lineplot(data=new_df, x=\"weight\", y=\"liters_per_100km\", hue=\"origin\", ci=None)\n",
    "sns.move_legend(plot, \"upper left\", bbox_to_anchor=(1,1))"
   ]
  },
  {
   "cell_type": "code",
   "execution_count": null,
   "metadata": {},
   "outputs": [],
   "source": [
    "sns.boxplot(new_df, x='cylinders', y='liters_per_100km', hue='origin')"
   ]
  },
  {
   "cell_type": "code",
   "execution_count": null,
   "metadata": {},
   "outputs": [],
   "source": [
    "# Create heatmap from liters_per_100km_corr_matrix variable\n",
    "sns.heatmap(data=liters_per_100km_corr_matrix, annot=True)"
   ]
  },
  {
   "cell_type": "markdown",
   "metadata": {},
   "source": [
    "Model year and acceleration seems to have negative correlation for liters_per_100km, this could mean that older models seems to have higher gas consumption than newer models. The weight of the car seems to correlate for gas consumption, which could mean that larger vehichles have tendency of having higher fuel consumption, this also might be affect of larger vehicles having bigger engine with more cylinders and horsepower. Here we can see them having notably high correlation with weight of the car. It also could depend from the driver of the car, since faster acceleration seems to correlate with gas consumption."
   ]
  },
  {
   "attachments": {},
   "cell_type": "markdown",
   "metadata": {},
   "source": [
    "<img src=\"http://srv.plab.fi/~tuomasv/data_analytics_2023_images/exercise_set_3/mpg.png\" />\n"
   ]
  },
  {
   "attachments": {},
   "cell_type": "markdown",
   "metadata": {},
   "source": [
    "<h4><b>3. csv-data, pandas and seaborn, groceries data</b></h4>\n"
   ]
  },
  {
   "attachments": {},
   "cell_type": "markdown",
   "metadata": {},
   "source": [
    "<p>\n",
    "This dataset has been downloaded from <b><i>kaggle.com</i></b>.<br />\n",
    "Download the \"groceries.csv\" from Moodle.\n",
    "<br /><br />\n",
    "Load the data by using pandas. (read_csv() etc.)\n",
    "<br /><br />\n",
    "\n",
    "<b>Note:</b> since this is an actual dataset from the internet, the data is in quite a rough format.\n",
    "\n",
    "</p>"
   ]
  },
  {
   "attachments": {},
   "cell_type": "markdown",
   "metadata": {},
   "source": [
    "<li>If you take a look at the data, you will notice three columns have NaN –\n",
    "values. You can either remove these columns all together, or you can fill\n",
    "the missing values with average values of that column. For example, for\n",
    "the Fish -column you could do something like this:<br /><br />\n",
    "\n",
    "<b>df['Fish'].fillna((df['Fish'].mean()), inplace=True)</b><br /><br />\n",
    "In this case, food is the name of the DataFrame we just got from the csv-file. Do this same operation to the two other columns with missing\n",
    "values.</li>"
   ]
  },
  {
   "cell_type": "code",
   "execution_count": null,
   "metadata": {},
   "outputs": [],
   "source": [
    "import calendar"
   ]
  },
  {
   "cell_type": "code",
   "execution_count": null,
   "metadata": {},
   "outputs": [],
   "source": [
    "# Load dataset 'mpg from seaborn\n",
    "groceries = pd.read_csv(\"groceries (1).csv\")\n",
    "\n",
    "# Read dataset, I use only the variable since I like to read end and tail at the same time\n",
    "groceries"
   ]
  },
  {
   "cell_type": "code",
   "execution_count": null,
   "metadata": {},
   "outputs": [],
   "source": [
    "# Check for missing values\n",
    "groceries.isnull().sum()"
   ]
  },
  {
   "cell_type": "code",
   "execution_count": null,
   "metadata": {},
   "outputs": [],
   "source": [
    "# Fill missing values, change groceries variable name to df for easier and faster coding\n",
    "df = groceries\n",
    "df[\"Sunflower-oil\"].fillna((df[\"Sunflower-oil\"].mean()), inplace=True)\n",
    "df[\"Pork\"].fillna((df[\"Pork\"].mean()), inplace=True)\n",
    "df[\"Fish\"].fillna((df[\"Fish\"].mean()), inplace=True)"
   ]
  },
  {
   "cell_type": "code",
   "execution_count": null,
   "metadata": {},
   "outputs": [],
   "source": [
    "df[\"Month\"].value_counts()"
   ]
  },
  {
   "attachments": {},
   "cell_type": "markdown",
   "metadata": {},
   "source": [
    "<ul>\n",
    "<li>In this data, the date column is a bit difficult to use, since it's not\n",
    "completely in numerical format. Split the Month-column so, that you\n",
    "have two different columns: Month and Year</li>\n",
    "<ul>\n",
    "<li>For month, use a numeric format 1-12</li>\n",
    "<li>For year, use the full year 1990-2020</li>\n",
    "<li>Check out the examples in Moodle, this one is a bit tricky, but\n",
    "very neat to know how it's done!</li>\n",
    "</ul>\n",
    "</ul>"
   ]
  },
  {
   "cell_type": "code",
   "execution_count": null,
   "metadata": {},
   "outputs": [],
   "source": [
    "# Split Month and Year for functions to go through them\n",
    "df[['Month', 'Year']] = df['Month'].str.split('-', expand=True)"
   ]
  },
  {
   "cell_type": "code",
   "execution_count": null,
   "metadata": {},
   "outputs": [],
   "source": [
    "# Define to change month in df[\"Month\"] with numbers, by using calendar module \n",
    "def change_month(row):\n",
    "    return list(calendar.month_abbr).index(row['Month'])\n",
    "\n",
    "\n",
    "# Define function to fix year columns to years from spoken language years\n",
    "def fix_year(row):\n",
    "    current_year = datetime.now().year % 100\n",
    "    year = int(row[\"Year\"])\n",
    "    if 00 <= year <= current_year:\n",
    "        return int(f\"20{row['Year']}\")\n",
    "    elif 90 <= year <= 99:\n",
    "        return int(f\"19{row['Year']}\")\n",
    "    \n",
    "\n",
    "# Apply functions for df[\"Year\"] and df[\"Month\"] columns\n",
    "df[\"Month\"] = df.apply(change_month, axis=1)\n",
    "df[\"Year\"] = df.apply(fix_year, axis=1)\n",
    "df.head()"
   ]
  },
  {
   "attachments": {},
   "cell_type": "markdown",
   "metadata": {},
   "source": [
    "<li>After the cleanups, create a correlation matrix of the data. Create a heatmap on the correlations as well.\n",
    "<br /><br />\n",
    "<span style=\"color: red; font-weight: bold;\">Which grocery stands out?</span> (i.e. there seems to be one grocery item\n",
    "whose price doesn't follow other groceries at all)\n",
    "</li>"
   ]
  },
  {
   "cell_type": "code",
   "execution_count": 2,
   "metadata": {},
   "outputs": [],
   "source": [
    "# Create groceries list to see correlation between only groceries\n",
    "groceries_list = ['Rice', 'Wheat', 'Barley', 'Corn', 'Peanuts', 'Sugar',\n",
    "       'Coconut-oil', 'Palm-oil', 'Sunflower-oil', 'Chicken', 'Beef', 'Pork',\n",
    "       'Fish', 'Tea', 'Coffee'\n",
    "       ]"
   ]
  },
  {
   "cell_type": "code",
   "execution_count": null,
   "metadata": {},
   "outputs": [],
   "source": [
    "# Create correlation matrix for the data\n",
    "groceries_corr_matrix  = round(df[groceries_list].corr(), 2)\n",
    "plt.figure(figsize=(10, 10))\n",
    "# Create heatmap for the correlation matrix\n",
    "sns.heatmap(data=groceries_corr_matrix , annot=True)\n",
    "plt.show()"
   ]
  },
  {
   "cell_type": "markdown",
   "metadata": {},
   "source": [
    "Here we can see that Sunflower oil is the only one with barely any correlation with any other variable. It could be that it has not had any significant changes to it's price through the years."
   ]
  },
  {
   "attachments": {},
   "cell_type": "markdown",
   "metadata": {},
   "source": [
    "<li style=\"color: red; font-weight: bold;\">Which groceries seem to correlate to each other's prices? What do they have in common?</li>"
   ]
  },
  {
   "cell_type": "code",
   "execution_count": null,
   "metadata": {},
   "outputs": [],
   "source": [
    "# Create list to store variables from loop that finds highly correlated groceries\n",
    "highly_correlated_pairs = []\n",
    "\n",
    "# Create for loop to go through correlation matrix and find higly correlated groceries\n",
    "for i in range(len(groceries_corr_matrix.columns)):\n",
    "    for j in range(i):\n",
    "        groceries_coefficient = groceries_corr_matrix.iloc[i, j]\n",
    "\n",
    "        # Check if the correlation coefficient exceeds the threshold\n",
    "        if abs(groceries_coefficient) > 0.7:\n",
    "            grocery1 = groceries_corr_matrix.columns[i]\n",
    "            grocery2 = groceries_corr_matrix.columns[j]\n",
    "            highly_correlated_pairs.append((grocery1, grocery2))\n",
    "\n",
    "# Create display highly correlated pairs\n",
    "if len(highly_correlated_pairs) > 0:\n",
    "    print(\"Highly correlated column pairs:\")\n",
    "    for pair in highly_correlated_pairs:\n",
    "        print(pair)\n",
    "else:\n",
    "    # If no highly correlated prices print: No highly correlated column pairs found\n",
    "    print(\"No highly correlated pairs found.\")"
   ]
  },
  {
   "cell_type": "code",
   "execution_count": null,
   "metadata": {},
   "outputs": [],
   "source": [
    "# Create list to store variables from loop that finds highly correlated groceries\n",
    "highly_correlated_pairs = []\n",
    "\n",
    "# Create for loop to go through correlation matrix and find higly correlated groceries\n",
    "for i in range(len(groceries_corr_matrix.columns)):\n",
    "    for j in range(i):\n",
    "        groceries_coefficient = groceries_corr_matrix.iloc[i, j]\n",
    "\n",
    "        # Check if the correlation coefficient exceeds the threshold\n",
    "        if abs(groceries_coefficient) > 0.7:\n",
    "            grocery1 = groceries_corr_matrix.columns[i]\n",
    "            grocery2 = groceries_corr_matrix.columns[j]\n",
    "            highly_correlated_pairs.append((grocery1, grocery2))\n",
    "\n",
    "# Create display highly correlated pairs\n",
    "if len(highly_correlated_pairs) > 0:\n",
    "    print(\"Highly correlated column pairs:\")\n",
    "    for pair in highly_correlated_pairs:\n",
    "        print(pair)\n",
    "else:\n",
    "    # If no highly correlated prices print \n",
    "    print(\"No highly correlated pairs found.\")"
   ]
  },
  {
   "cell_type": "markdown",
   "metadata": {},
   "source": [
    "These highly correlating column pairs have incommon that, they are all highly used in basic cooking in home, but also in some restaurants. Most of them are crops, used in cereals or usually consumed while eating/drinking breakfast. Some can also be found from sweets like sugar and palm oil.\n",
    "\n",
    "These are also considered \"basic\" nececcities:\n",
    "\n",
    "Crops: Rice, Wheat, Barley, Corn\n",
    "\n",
    "Bread: Wheat, Barley, Corn, Palm oil, Sugar Cereals: Crops, Palm oil, Sugar, Peanuts Sweets: Sugar, Palm oil, Peanuts Meats: Beef, Chicken Within breakfast materials: Crops, Peanuts, Sugar, Palm Oil. Drinkable: Coffee"
   ]
  },
  {
   "cell_type": "markdown",
   "metadata": {},
   "source": [
    "Extra"
   ]
  },
  {
   "cell_type": "code",
   "execution_count": null,
   "metadata": {},
   "outputs": [],
   "source": [
    "# Create correlation matrix for the data\n",
    "groceries_corr_matrix  = round(df.corr(), 2)\n",
    "plt.figure(figsize=(10, 10))\n",
    "# Create heatmap for the correlation matrix\n",
    "sns.heatmap(data=groceries_corr_matrix , annot=True)\n",
    "plt.show()"
   ]
  },
  {
   "cell_type": "code",
   "execution_count": null,
   "metadata": {},
   "outputs": [],
   "source": [
    "# Create pivot table with years as rows, months as columns, and average prices as values\n",
    "pivot_table = df.pivot_table(index=\"Year\", columns=\"Month\", aggfunc='mean')\n",
    "\n",
    "# Plot the heatmap\n",
    "plt.figure(figsize=(12, 8))\n",
    "sns.heatmap(pivot_table)\n",
    "plt.title(\"Average Prices of Food Items Over Time\")\n",
    "plt.xlabel(\"Month\")\n",
    "plt.ylabel(\"Year\")\n",
    "plt.show()"
   ]
  },
  {
   "cell_type": "code",
   "execution_count": null,
   "metadata": {},
   "outputs": [],
   "source": [
    "# Create price_peaks list to add grocery items peak year from the loop below\n",
    "price_peaks = {}\n",
    "\n",
    "# Create for loop to go through grocery items in groceries list and get the year of their peak price\n",
    "for grocery_item in groceries_list:\n",
    "    # Find the index of the food item in the DataFrame columns\n",
    "    food_index = df.columns.get_loc(grocery_item)\n",
    "    # Identify the year with the highest price for the food item\n",
    "    peak_year = df.loc[df.iloc[:, food_index].idxmax(), \"Year\"]\n",
    "    peak_price = df.iloc[:, food_index].max()\n",
    "    price_peaks[grocery_item] = {\"Year\": peak_year, \"Price\": peak_price}\n",
    "\n",
    "# Display food item and it's price peak\n",
    "for grocery_item, peak_year in price_peaks.items():\n",
    "    print(f\"{grocery_item} price peak: {peak_year['Year']}\")"
   ]
  },
  {
   "cell_type": "code",
   "execution_count": null,
   "metadata": {},
   "outputs": [],
   "source": [
    "# Create groceries list to see correlation between only groceries\n",
    "groceries_list_mid = ['Rice', 'Wheat', 'Barley', 'Corn', 'Peanuts', 'Sugar',\n",
    "       'Coconut-oil', 'Palm-oil', 'Sunflower-oil', 'Chicken', 'Beef', 'Pork',\n",
    "        'Coffee', 'Tea'\n",
    "       ]\n",
    "\n",
    "# Set figsize to 10, 10 to make lineplot more readable\n",
    "plt.figure(figsize=(10, 10))\n",
    "\n",
    "# Create for loop to create lineplot for groceries in groceries_list, add grocery label\n",
    "for grocery in groceries_list_mid:\n",
    "    sns.lineplot(data=df, x='Year', y=grocery, label=grocery)\n",
    "\n",
    "# Put labels \"Year\", \"Price\" to indicate price each year\n",
    "plt.xlabel('Year')\n",
    "plt.ylabel('Price')\n",
    "plt.legend(loc='upper left', bbox_to_anchor=(1, 1))\n",
    "# Add month to the year label\n",
    "plt.show()"
   ]
  },
  {
   "cell_type": "code",
   "execution_count": null,
   "metadata": {},
   "outputs": [],
   "source": [
    "# List of groceries to plot\n",
    "groceries_high_list = ['Fish']\n",
    "\n",
    "# Create a line plot for each grocery in the groceries_high_list\n",
    "for grocery in groceries_high_list:\n",
    "    sns.lineplot(data=df, x='Year', y=grocery, label=grocery)\n",
    "\n",
    "# Add labels for the axes\n",
    "plt.xlabel('Year')\n",
    "plt.ylabel('Price')\n",
    "\n",
    "# Add a legend to the plot\n",
    "plt.legend()\n",
    "\n",
    "# Show the plot\n",
    "plt.show()"
   ]
  },
  {
   "cell_type": "markdown",
   "metadata": {},
   "source": [
    "I did some googling and found out that and prices went up, because of global population rising and sharp decline in food crop production. This happened, because Crude Oil prices started rising significantly in 2008 February. This is why Corn, Wheat and Rice prices went up.\n",
    "\n",
    "Corn and Barley went up in 2012, because of drought in United States, which produces significant portion of Corn and Barley in the Global Market. Dryness was caused by heatwave.\n",
    "\n",
    "Other groceries that went up, relating to weather Coconut oil, Palm oil, Sugar and Peanuts.\n",
    "\n",
    "Meats price went up, because of their high cost to produce and shortage of meat producers, because of retirement.\n",
    "\n",
    "Links: crops/corn-and-other-feed-grains/feed-grains-sector-at-a-glance/\n",
    "\n",
    "https://www.alberta.ca/agri-news-us-corn-imports-and-the-barley-market https://www.bls.gov/opub/ted/2012/ted_20121128.htm https://www.bettermarkets.org/sites/default/files/The%20Accidental%20Hunt%20Brothers%20-%20Part%203.pdf https://economictimes.indiatimes.com/markets/commodities/coconut-oil-prices-slip-on-tepid-demand/articleshow/11644467.cms?from=mdr https://www.cbc.ca/news/canada/new-brunswick/meat-farmers-say-2014-year-to-remember-after-jump-in-prices-1.2885284\n",
    "Fish prices rose, because of higher demand and inflation sky rocketed to 9.3% in August 2017.\n",
    "\n",
    "https://www.thecaterer.com/news/foodservice/fish-prices-leap-23-as-food-inflation-spikes\n",
    "\n",
    "Coffee prizes went up because of Climatorial factors in Brazil, main producers of coffee. It was caused by double frosting during the summer of 1994.\n",
    "\n",
    "https://www.nytimes.com/1994/06/28/business/coffee-futures-soar-25-biggest-daily-rise-in-7-years.html"
   ]
  },
  {
   "attachments": {},
   "cell_type": "markdown",
   "metadata": {},
   "source": [
    "<b>Bonus task:</b>\n",
    "<p>Sometimes data can also reflect history! For example, \"Corn\" and some\n",
    "other foods seem to have a notable peak in its price in one of the years.\n",
    "Find this year, and Google if you can find a reason for the price peak (for\n",
    "example, search: \"us corn expensive XXXX\". <span style=\"color: red; font-weight: bold;\">Can you find any other food\n",
    "that has relation to a real world event in a similar in this dataset?</span></p>\n",
    "<p><b>Tip:</b> use pivot table and heatmap! Remember also, the first year in the\n",
    "dataset might show as blank white, that means there's no data. You\n",
    "should also split the date</p>\n",
    "<br />\n",
    "<img src=\"http://srv.plab.fi/~tuomasv/data_analytics_2023_images/exercise_set_3/food.png\" />\n"
   ]
  },
  {
   "cell_type": "markdown",
   "metadata": {},
   "source": [
    "<h4><b>4. csv-data, pandas and seaborn, mobile phone data, regression plots</b></h4>\n"
   ]
  },
  {
   "cell_type": "markdown",
   "metadata": {},
   "source": [
    "<p>This dataset has been downloaded from <b><i>kaggle.com</i></b> and modified. <br />\n",
    "Download the \"mobilephones.csv\" from Moodle.  Load the data by using pandas.  (read_csv() etc.)</p>\n",
    "\n",
    "<p>\n",
    "Regression plots (<b>lmplot()</b> in seaborn) are often extremely useful in finding more insight and \"hidden connections\" in your data. </p>\n",
    "\n",
    "<p>\n",
    "Remember to also check out the confidence interval, if it's wide around the regression line = there's usually fluctuation within the values. <br />Narrow line => the linear connection is quite evident.</p>\n"
   ]
  },
  {
   "cell_type": "markdown",
   "metadata": {},
   "source": [
    "<b>With the mobile phone data, do the following:</b>"
   ]
  },
  {
   "cell_type": "code",
   "execution_count": null,
   "metadata": {},
   "outputs": [],
   "source": [
    "# Load dataset 'mpg from seaborn\n",
    "mobilephones = pd.read_csv(\"mobilephones (1).csv\")\n",
    "\n",
    "# Read dataset, I use only the variable since I like to read end and tail at the same time\n",
    "mobilephones"
   ]
  },
  {
   "cell_type": "markdown",
   "metadata": {},
   "source": [
    "<ul>\n",
    "\n",
    "<li>Use regression plot for RAM and Price, no hue</li>\n",
    "<ul>\n",
    "    <li style=\"color: red; font-weight: bold;\">What is the correlation based on the regression line?</li>\n",
    "</ul>\n",
    "\n",
    "\n",
    "\n",
    "</ul>"
   ]
  },
  {
   "cell_type": "code",
   "execution_count": null,
   "metadata": {},
   "outputs": [],
   "source": [
    "# Use regplot for RAM and Price, no hue\n",
    "sns.lmplot(data=mobilephones, x='RAM', y='Price')"
   ]
  },
  {
   "cell_type": "markdown",
   "metadata": {},
   "source": [
    "Ram amount seems to correlate with price quite well, ram capacity equals to higher price. This does also seem like there could be other factors since price isn't same for all ram amounts, this could be cause of brands and their models, better brand and model with better ram -> higher price."
   ]
  },
  {
   "cell_type": "markdown",
   "metadata": {},
   "source": [
    "<ul>\n",
    "<li>Use regression plot for RAM and Price, hue on Brand</li>\n",
    "<ul>\n",
    "    <li style=\"color: red; font-weight: bold;\">How is the correlation different when compared to without hue?</li>\n",
    "</ul>\n",
    "</ul>"
   ]
  },
  {
   "cell_type": "code",
   "execution_count": null,
   "metadata": {},
   "outputs": [],
   "source": [
    "# Use regplot for RAM and Price, no hue\n",
    "sns.lmplot(data=mobilephones, x='RAM', y='Price', hue=\"Brand\")"
   ]
  },
  {
   "cell_type": "markdown",
   "metadata": {},
   "source": [
    "By using Brand as hue we can see that some brands are definitely more expensive. Apple seems to be most expensive compared to Ram amount, while Xiomi seems to be most affordable. Samsung seems to be only one with Ram capacity over 12, and quite low price compared to others like most expensive one Apple.\n",
    "\n",
    "End result: Ram seems to highly correlate with prize."
   ]
  },
  {
   "cell_type": "markdown",
   "metadata": {},
   "source": [
    "<ul>\n",
    "<li>Use regression plot for BatteryCapacity and Price, no hue</li>\n",
    "<ul>\n",
    "    <li style=\"color: red; font-weight: bold;\">What is the correlation based on the regression line?</li>\n",
    "</ul>\n",
    "\n",
    "\n",
    "</ul>"
   ]
  },
  {
   "cell_type": "code",
   "execution_count": null,
   "metadata": {},
   "outputs": [],
   "source": [
    "# Use regplot for RAM and Price, no hue\n",
    "sns.lmplot(data=mobilephones, x=\"BatteryCapacity\", y='Price')"
   ]
  },
  {
   "cell_type": "markdown",
   "metadata": {},
   "source": [
    "Battery amount seems to have quite noticable negative correlation to price, there are exceptions, but we might gain more knowledge using brand as hue."
   ]
  },
  {
   "cell_type": "markdown",
   "metadata": {},
   "source": [
    "<ul>\n",
    "<li>Use regression plot for BatteryCapacity and Price, hue on Brand</li>\n",
    "<ul>\n",
    "    <li style=\"color: red; font-weight: bold;\">How is the correlation different when compared to without hue?</li>\n",
    "</ul>\n",
    "</ul>"
   ]
  },
  {
   "cell_type": "code",
   "execution_count": null,
   "metadata": {},
   "outputs": [],
   "source": [
    "# Use regplot for BatteryCapacity and Price, hue on Brand\n",
    "sns.lmplot(data=mobilephones, x='BatteryCapacity', y='Price', hue='Brand')"
   ]
  },
  {
   "cell_type": "markdown",
   "metadata": {},
   "source": [
    "Here we can see that BatteryCapacity seems to have noticable or even high correlation with prize with certain brands like Apple and Asus. Brands like Samsung and Xiomi seems to have negative correlation with prize and BatteryCapacity. There are some outliers, which could indicate that same model with higher prize tag has better BatteryCapacity otherwise prize seems to have mostly negative correlation to prize, as most of the data has negative correlation(Samsung, Xiomi) to the prize."
   ]
  },
  {
   "cell_type": "code",
   "execution_count": null,
   "metadata": {},
   "outputs": [],
   "source": [
    "# Use regplot for ScreenSize and Price, without hue\n",
    "sns.lmplot(data=mobilephones, x='ScreenSize', y='Price')"
   ]
  },
  {
   "cell_type": "markdown",
   "metadata": {},
   "source": [
    "Here it seems like ScreenSize barely has any correlation with prize, seems like ScreenSize doesn't have any significant value with phones having quite similar prices no matter the size. There are still some more expensive with higher prize, which could indicate about brand and model differences with bigger ScreenSize with price."
   ]
  },
  {
   "cell_type": "markdown",
   "metadata": {},
   "source": [
    "<ul>\n",
    "<li><b>Bonus task:</b> Use regression plot for ScreenSize and Price, without and with hue on Brand</li>\n",
    "<ul>\n",
    "    <li style=\"color: red; font-weight: bold;\">Compare the correlations with and without hue. Is there a difference?</li>\n",
    "</ul>\n",
    "</ul>"
   ]
  },
  {
   "cell_type": "code",
   "execution_count": null,
   "metadata": {},
   "outputs": [],
   "source": [
    "# Use regplot for ScreenSize and Price, with hue on Brand\n",
    "sns.lmplot(data=mobilephones, x='ScreenSize', y='Price', hue='Brand')"
   ]
  },
  {
   "cell_type": "markdown",
   "metadata": {},
   "source": [
    "As we thought, ScreenSize seems to eventually have notable correlation with prize, especially high correlation with Samsung and Xiomi. For brands like Apple and Asus there seems to notable correlation. Blackberry seems to have even negative correlation.\n",
    "\n",
    "End result: After all ScreenSize does affect the prize, having quite high correlation with bigger ScreenSize, bigger the prize."
   ]
  },
  {
   "cell_type": "markdown",
   "metadata": {},
   "source": [
    "<img src=\"http://srv.plab.fi/~tuomasv/data_analytics_2023_images/exercise_set_3/mobilephone.png\" />"
   ]
  },
  {
   "attachments": {},
   "cell_type": "markdown",
   "metadata": {},
   "source": [
    "\n",
    "<h2><b>Advanced extra tasks for extra points (varying challenges, some require Googling):</b></h2>"
   ]
  },
  {
   "attachments": {},
   "cell_type": "markdown",
   "metadata": {},
   "source": [
    "<ul>\n",
    "<li>1. <b>seaborn:</b> Try out Boxenplot and/or Dendrogram in any of the previous\n",
    "dataset exercises. Do these plot types provide some interesting info on\n",
    "the data? (Google for examples on these plot types)</li>\n",
    "<ul>\n",
    "<li>You may also consider some other plots, for example:\n",
    "<b>displot, catplot, relplot</b></li>\n",
    "</ul>\n",
    "</ul>"
   ]
  },
  {
   "cell_type": "code",
   "execution_count": 3,
   "metadata": {},
   "outputs": [],
   "source": [
    "# Load dataset penguins\n",
    "penguins = sns.load_dataset('penguins')\n",
    "\n",
    "# Display the dataset\n",
    "penguins"
   ]
  },
  {
   "cell_type": "code",
   "execution_count": null,
   "metadata": {},
   "outputs": [],
   "source": [
    "# Create boxenplot for \n",
    "sns.boxenplot(x=\"species\", y=\"flipper_length_mm\", data=penguins)"
   ]
  },
  {
   "attachments": {},
   "cell_type": "markdown",
   "metadata": {},
   "source": [
    "<ul>\n",
    "<li><b>2. Use the \"titanic\" dataset from the seaborn datasets\n",
    "(sns.load_dataset('titanic')).</b> Find out the features of a typical person\n",
    "that survived or did not survive the sinking of Titanic.</li>\n",
    "</ul>\n",
    "\n",
    "<img src=\"http://srv.plab.fi/~tuomasv/data_analytics_2023_images/exercise_set_3/titanic.png\"/>"
   ]
  },
  {
   "cell_type": "code",
   "execution_count": 1,
   "metadata": {},
   "outputs": [],
   "source": [
    "# Load the Titanic dataset\n",
    "titanic_df = sns.load_dataset('titanic')\n",
    "\n",
    "# Display the titanic df\n",
    "titanic_df"
   ]
  },
  {
   "cell_type": "code",
   "execution_count": null,
   "metadata": {},
   "outputs": [],
   "source": [
    "# Desribe typical person who survived\n",
    "survived_data = titanic_df[titanic_df['survived'] == 1]\n",
    "typical_survivor = survived_data.describe()\n",
    "\n",
    "# Display the information to the user\n",
    "print(\"Survived:\")\n",
    "typical_survivor"
   ]
  },
  {
   "cell_type": "code",
   "execution_count": null,
   "metadata": {},
   "outputs": [],
   "source": [
    "# Describe typical person who did not survive\n",
    "not_survived_data = titanic_df[titanic_df['survived'] == 0]\n",
    "typical_non_survivor = not_survived_data.describe()\n",
    "\n",
    "# Display the information to the user\n",
    "print(\"Not survived:\")\n",
    "typical_non_survivor"
   ]
  },
  {
   "cell_type": "code",
   "execution_count": null,
   "metadata": {},
   "outputs": [],
   "source": [
    "print(\"Typical Person not surviving\", typical_non_survivor.iloc[1])\n",
    "print(\"\\nTypical Person surviving\", typical_survivor.iloc[1])"
   ]
  },
  {
   "attachments": {},
   "cell_type": "markdown",
   "metadata": {},
   "source": [
    "<li><b>3. Use the \"taxis\" dataset from the seaborn datasets\n",
    "(sns.load_dataset('taxis')).</b> Find out any correlations or interesting\n",
    "behaviors based on any columns in the data (color, payment,\n",
    "pickup_borough, dropoff_borough etc.)\n",
    "<br /><br />\n",
    "\n",
    "<b>Notes and ideas to try out:</b><br />\n",
    "Consider removing the pickup_zone and dropoff_zone, since there are\n",
    "way too many alternatives. Borough is the larger area in question, which\n",
    "can be helpful while grouping data (hue!)<br /><br />\n",
    "How about pickup and dropoff times, should they be modified? From\n",
    "taxi point of view, is the weekday and time of day (morning, day,\n",
    "evening, night) more interesting than the actual dates?\n",
    "<br /><br />\n",
    "These are just ideas, you're free to come up with your own ideas\n",
    "regarding the data!</li>\n",
    "<br />\n",
    "<img src=\"http://srv.plab.fi/~tuomasv/data_analytics_2023_images/exercise_set_3/taxis.png\"/>\n"
   ]
  },
  {
   "cell_type": "code",
   "execution_count": null,
   "metadata": {},
   "outputs": [],
   "source": [
    "# Load dataset taxis\n",
    "taxis_df = sns.load_dataset('taxis')  \n",
    "\n",
    "# Display the dataset\n",
    "taxis_df"
   ]
  },
  {
   "cell_type": "code",
   "execution_count": null,
   "metadata": {},
   "outputs": [],
   "source": [
    "# Drop pickup_zone and dropoff_zone columns\n",
    "taxis_data = taxis_df.drop(['pickup_zone', 'dropoff_zone'], axis=1)"
   ]
  },
  {
   "cell_type": "code",
   "execution_count": null,
   "metadata": {},
   "outputs": [],
   "source": [
    "# Create correlation matrix for the dataset\n",
    "correlation_matrix = df.corr(numeric_only=True)\n",
    "\n",
    "# Display the correlation matrix\n",
    "correlation_matrix"
   ]
  },
  {
   "cell_type": "code",
   "execution_count": null,
   "metadata": {},
   "outputs": [],
   "source": [
    "# Display a heatmap of the correlation matrix\n",
    "sns.heatmap(correlation_matrix, annot=True, cmap='coolwarm', fmt=\".2f\")\n",
    "\n",
    "#Correlation Heatmap of Taxi Dataset\n",
    "plt.show()"
   ]
  },
  {
   "cell_type": "markdown",
   "metadata": {},
   "source": [
    "From this heatmap we can see that Distance, Fare and Total correlates perfectly with each other while tip and tolls have considarable correlation with everything but not significant."
   ]
  },
  {
   "attachments": {},
   "cell_type": "markdown",
   "metadata": {},
   "source": [
    "<ul>\n",
    "<li><b>4. Try out any of the previous examples and exercises by using any or many\n",
    "of the following additional plotting libraries:<br /><br />\n",
    "</li>\n",
    "<ul>\n",
    "<li><b>Matplotlib (this is the most common in addition to seaborn,\n",
    "especially regarding machine learning, recommended to learn)</b><br />\n",
    "<a href=\"https://matplotlib.org/stable/tutorials/index.html#introductory\">https://matplotlib.org/stable/tutorials/index.html#introductory</a><br /><br /></li>\n",
    "<li><b>Plotly</b><br />\n",
    "<a href=\"https://plotly.com/python/getting-started/\">https://plotly.com/python/getting-started/</a><br /><br /></li>\n",
    "<li><b>Bokeh</b><br /><a href=\"https://docs.bokeh.org/en/latest/docs/user_guide.html\">https://docs.bokeh.org/en/latest/docs/user_guide.html</a>\n",
    "<br /><br /></li>\n",
    "</ul>\n",
    "</ul>\n",
    "<img src=\"http://srv.plab.fi/~tuomasv/data_analytics_2023_images/exercise_set_3/charts.png\" />"
   ]
  },
  {
   "cell_type": "code",
   "execution_count": null,
   "metadata": {},
   "outputs": [],
   "source": [
    "# code for the advanced extra task, you can also create a separate notebook for this \n",
    "# (might be a better idea, since a new dataset always adds quite much new code)"
   ]
  },
  {
   "attachments": {},
   "cell_type": "markdown",
   "metadata": {},
   "source": [
    "<ul>\n",
    "<li><b>5. Try out any of the datasets below, or find yourself an interesting csvdataset from kaggle.com!  </b><br>\n",
    "\n",
    "Use all your skills in numpy, pandas and seaborn, and find out features in\n",
    "the data. <br ><br />\n",
    "<b>Was there something that is surprising in the dataset? What\n",
    "interesting correlations did you find?</b>\n",
    "<br><br>\n",
    "<b>Some interesting datasets, examples (you can find you own too!):</b>\n",
    "</li>\n",
    "<ul>\n",
    "<li><a href=\"https://www.kaggle.com/anamvillalpando/world-happiness-ranking\">https://www.kaggle.com/anamvillalpando/world-happiness-ranking</a></li>\n",
    "<li><a href=\"https://www.kaggle.com/sakshigoyal7/credit-card-customers\">https://www.kaggle.com/sakshigoyal7/credit-card-customers</a></li>\n",
    "<li><a href=\"https://www.kaggle.com/lucabasa/dutch-energy\">https://www.kaggle.com/lucabasa/dutch-energy</a></li>\n",
    "<li><a href=\"https://www.kaggle.com/yamaerenay/spotify-dataset-19212020-160k-tracks?select=data_w_genres.csv\">https://www.kaggle.com/yamaerenay/spotify-dataset-19212020-160k-tracks?select=data_w_genres.csv</a></li>\n",
    "<li><a href=\"https://www.kaggle.com/kboghe/android-apps-metadata?select=Android+apps+csv.csv\">https://www.kaggle.com/kboghe/android-apps-metadata?select=Android+apps+csv.csv</a></li>\n",
    "<li><a href=\"https://www.kaggle.com/sudalairajkumar/cryptocurrencypricehistory?select=coin_Bitcoin.csv\">https://www.kaggle.com/sudalairajkumar/cryptocurrencypricehistory?select=coin_Bitcoin.csv</a><br /><br /></li>\n",
    "</ul>\n",
    "<li><b>Note:</b> These datasets can be quite rough to handle at first, feel free to\n",
    "ask tips from your instructor if some dataset interests you!</li>\n",
    "</ul>\n",
    "\n",
    "<img src=\"http://srv.plab.fi/~tuomasv/data_analytics_2023_images/exercise_set_2/es2_5.png\" />"
   ]
  },
  {
   "cell_type": "code",
   "execution_count": null,
   "metadata": {},
   "outputs": [],
   "source": [
    "# do any Kaggle.com -related extra tasks in their own Jupyter notebooks for easier coding"
   ]
  },
  {
   "cell_type": "markdown",
   "metadata": {},
   "source": []
  }
 ],
 "metadata": {
  "kernelspec": {
   "display_name": ".venv",
   "language": "python",
   "name": "python3"
  },
  "language_info": {
   "codemirror_mode": {
    "name": "ipython",
    "version": 3
   },
   "file_extension": ".py",
   "mimetype": "text/x-python",
   "name": "python",
   "nbconvert_exporter": "python",
   "pygments_lexer": "ipython3",
   "version": "3.9.13"
  },
  "orig_nbformat": 4,
  "vscode": {
   "interpreter": {
    "hash": "7b393597a1a01400f99fd0b0bd7e53e32f7c09a6c4e3f1d7dcfe73f5e3a50c61"
   }
  }
 },
 "nbformat": 4,
 "nbformat_minor": 2
}
