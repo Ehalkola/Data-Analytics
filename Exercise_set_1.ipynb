{
 "cells": [
  {
   "cell_type": "markdown",
   "metadata": {},
   "source": [
    "<h3>Here are all the exercises from exercise set 1.<h3>"
   ]
  },
  {
   "cell_type": "markdown",
   "metadata": {},
   "source": [
    "<h3>Exercise 1.1<h3>"
   ]
  },
  {
   "cell_type": "code",
   "execution_count": 3,
   "metadata": {},
   "outputs": [
    {
     "name": "stdout",
     "output_type": "stream",
     "text": [
      "Here is 15 ones: [1, 1, 1, 1, 1, 1, 1, 1, 1, 1, 1, 1, 1, 1, 1]\n",
      "Here is 15 sevens: [7, 7, 7, 7, 7, 7, 7, 7, 7, 7, 7, 7, 7, 7, 7]\n",
      "Here is list of numbers between 100-150: [100, 101, 102, 103, 104, 105, 106, 107, 108, 109, 110, 111, 112, 113, 114, 115, 116, 117, 118, 119, 120, 121, 122, 123, 124, 125, 126, 127, 128, 129, 130, 131, 132, 133, 134, 135, 136, 137, 138, 139, 140, 141, 142, 143, 144, 145, 146, 147, 148, 149, 150]\n",
      "Here is list of even numbers between numbers 0-100: [0, 2, 4, 6, 8, 10, 12, 14, 16, 18, 20, 22, 24, 26, 28, 30, 32, 34, 36, 38, 40, 42, 44, 46, 48, 50, 52, 54, 56, 58, 60, 62, 64, 66, 68, 70, 72, 74, 76, 78, 80, 82, 84, 86, 88, 90, 92, 94, 96, 98, 100]\n",
      "Here are all the years divisable by number 4 between years 1950-2020: [1952, 1956, 1960, 1964, 1968, 1972, 1976, 1980, 1984, 1988, 1992, 1996, 2000, 2004, 2008, 2012, 2016, 2020]\n"
     ]
    }
   ],
   "source": [
    "# Create a list to store 15 number ones \n",
    "ones = []\n",
    "\n",
    "# Create for loop to append 15 number ones to the previously created list(ones) above\n",
    "for x in range(15):\n",
    "    ones.append(1)\n",
    "\n",
    "# Create print to display the list of ones to the user\n",
    "print(f\"Here is 15 ones: {ones}\")\n",
    "\n",
    "# Create list to store 15 number sevens\n",
    "sevens = []\n",
    "\n",
    "# Create for loop to append 15 number sevens to the previously created list(sevens) above\n",
    "for x in range(15):\n",
    "    sevens.append(7)\n",
    "\n",
    "# Create a print to display the 15 number sevens to the user\n",
    "print(f\"Here is 15 sevens: {sevens}\")\n",
    "\n",
    "# Create list to store numbers between 100-150\n",
    "list100_150 = []\n",
    "\n",
    "# Create for loop to append x to the previously created list, +1 to the x to create list(list100_150) of numbers between 100-150, +1 to 151 to get all,\n",
    "# numbers between 100-150\"\n",
    "for x in range(100, 151):\n",
    "    list100_150.append(x)\n",
    "    x += 1\n",
    "\n",
    "# Create print to display numbers between 100-150 to the user\n",
    "print(f\"Here is list of numbers between 100-150: {list100_150}\")\n",
    "\n",
    "# Create list to store even numbers between numbers 0-100\n",
    "even_numbers = []\n",
    "\n",
    "# Create for loop to calculate even numbers between 0-100, use if loop to append information to the privously created list\n",
    "for x in range(0, 102):\n",
    "    evens = x%2\n",
    "    if evens == 0:\n",
    "        even_numbers.append(x)\n",
    "\n",
    "# Create print to display the list(even_numbers) of even numbers between 0-100 to the user\n",
    "print(f\"Here is list of even numbers between numbers 0-100: {even_numbers}\")\n",
    "\n",
    "# Create a list to store years divisable by 4\n",
    "divisable_years = []\n",
    "\n",
    "# Create for loop to calculate years divisable by 4 between years 1950-2020\n",
    "for x in range(1950, 2024):\n",
    "    years_divided = x%4\n",
    "    if years_divided == 0:\n",
    "        divisable_years.append(x)\n",
    "\n",
    "# Create print to display the list(divisable_years) of years divisable by 4\n",
    "print(f\"Here are all the years divisable by number 4 between years 1950-2020: {divisable_years}\")"
   ]
  },
  {
   "cell_type": "markdown",
   "metadata": {},
   "source": [
    "<h3>Under this markdown you can find all code imports to display all the following exercises!<h3>"
   ]
  },
  {
   "cell_type": "code",
   "execution_count": 4,
   "metadata": {},
   "outputs": [],
   "source": [
    "# Import numpy as np, so it can be used in the following exercises\n",
    "import numpy as np"
   ]
  },
  {
   "cell_type": "code",
   "execution_count": 5,
   "metadata": {},
   "outputs": [
    {
     "name": "stdout",
     "output_type": "stream",
     "text": [
      "The numpy_html extension is already loaded. To reload it, use:\n",
      "  %reload_ext numpy_html\n"
     ]
    }
   ],
   "source": [
    "%load_ext numpy_html"
   ]
  },
  {
   "cell_type": "code",
   "execution_count": 6,
   "metadata": {},
   "outputs": [
    {
     "data": {
      "text/html": [
       "<style>\n",
       "table {margin-top: 16pt;}\n",
       "td {font-family: Arial, Helvetica, sans-serif !important; font-weight: 600; white-space: normal !important;}\n",
       "tr:nth-child(even) {background: #b0d9eb !important; color: black}\n",
       "tr:nth-child(odd) {background: #8fb1bf !important; color: black}\n",
       "</style>\n"
      ],
      "text/plain": [
       "<IPython.core.display.HTML object>"
      ]
     },
     "metadata": {},
     "output_type": "display_data"
    }
   ],
   "source": [
    "%%html\n",
    "<style>\n",
    "table {margin-top: 16pt;}\n",
    "td {font-family: Arial, Helvetica, sans-serif !important; font-weight: 600; white-space: normal !important;}\n",
    "tr:nth-child(even) {background: #b0d9eb !important; color: black}\n",
    "tr:nth-child(odd) {background: #8fb1bf !important; color: black}\n",
    "</style>"
   ]
  },
  {
   "cell_type": "markdown",
   "metadata": {},
   "source": [
    "<h2>Exercise 1.2<h2>\n"
   ]
  },
  {
   "cell_type": "markdown",
   "metadata": {},
   "source": [
    "<h2>Following exercises have been created with the help of numpy.<h2>"
   ]
  },
  {
   "cell_type": "code",
   "execution_count": 7,
   "metadata": {},
   "outputs": [
    {
     "data": {
      "text/html": [
       "<table style='border-style:solid;border-width:1px;'>\n",
       "<tr>\n",
       "<td style=\"font-family:monospace;white-space: pre;\" title=\"(0, 0)\"><center>0</center></td>\n",
       "<td style=\"font-family:monospace;white-space: pre;\" title=\"(0, 1)\"><center>0</center></td>\n",
       "<td style=\"font-family:monospace;white-space: pre;\" title=\"(0, 2)\"><center>0</center></td>\n",
       "<td style=\"font-family:monospace;white-space: pre;\" title=\"(0, 3)\"><center>0</center></td>\n",
       "<td style=\"font-family:monospace;white-space: pre;\" title=\"(0, 4)\"><center>0</center></td>\n",
       "<td style=\"font-family:monospace;white-space: pre;\" title=\"(0, 5)\"><center>0</center></td>\n",
       "<td style=\"font-family:monospace;white-space: pre;\" title=\"(0, 6)\"><center>0</center></td>\n",
       "<td style=\"font-family:monospace;white-space: pre;\" title=\"(0, 7)\"><center>0</center></td>\n",
       "<td style=\"font-family:monospace;white-space: pre;\" title=\"(0, 8)\"><center>0</center></td>\n",
       "<td style=\"font-family:monospace;white-space: pre;\" title=\"(0, 9)\"><center>0</center></td>\n",
       "<td style=\"font-family:monospace;white-space: pre;\" title=\"(0, 10)\"><center>0</center></td>\n",
       "<td style=\"font-family:monospace;white-space: pre;\" title=\"(0, 11)\"><center>0</center></td>\n",
       "<td style=\"font-family:monospace;white-space: pre;\" title=\"(0, 12)\"><center>0</center></td>\n",
       "<td style=\"font-family:monospace;white-space: pre;\" title=\"(0, 13)\"><center>0</center></td>\n",
       "<td style=\"font-family:monospace;white-space: pre;\" title=\"(0, 14)\"><center>0</center></td>\n",
       "</tr>\n",
       "</table>"
      ],
      "text/plain": [
       "array([[0, 0, 0, 0, 0, 0, 0, 0, 0, 0, 0, 0, 0, 0, 0]])"
      ]
     },
     "execution_count": 7,
     "metadata": {},
     "output_type": "execute_result"
    }
   ],
   "source": [
    "# Create an array of 15 number 0\n",
    "zeros = np.zeros((1, 15)).astype(int)\n",
    "\n",
    "# Display the array\n",
    "zeros"
   ]
  },
  {
   "cell_type": "code",
   "execution_count": 8,
   "metadata": {},
   "outputs": [
    {
     "data": {
      "text/html": [
       "<table style='border-style:solid;border-width:1px;'>\n",
       "<tr>\n",
       "<td style=\"font-family:monospace;white-space: pre;\" title=\"(0, 0)\"><center>1</center></td>\n",
       "<td style=\"font-family:monospace;white-space: pre;\" title=\"(0, 1)\"><center>1</center></td>\n",
       "<td style=\"font-family:monospace;white-space: pre;\" title=\"(0, 2)\"><center>1</center></td>\n",
       "<td style=\"font-family:monospace;white-space: pre;\" title=\"(0, 3)\"><center>1</center></td>\n",
       "<td style=\"font-family:monospace;white-space: pre;\" title=\"(0, 4)\"><center>1</center></td>\n",
       "<td style=\"font-family:monospace;white-space: pre;\" title=\"(0, 5)\"><center>1</center></td>\n",
       "<td style=\"font-family:monospace;white-space: pre;\" title=\"(0, 6)\"><center>1</center></td>\n",
       "<td style=\"font-family:monospace;white-space: pre;\" title=\"(0, 7)\"><center>1</center></td>\n",
       "<td style=\"font-family:monospace;white-space: pre;\" title=\"(0, 8)\"><center>1</center></td>\n",
       "<td style=\"font-family:monospace;white-space: pre;\" title=\"(0, 9)\"><center>1</center></td>\n",
       "<td style=\"font-family:monospace;white-space: pre;\" title=\"(0, 10)\"><center>1</center></td>\n",
       "<td style=\"font-family:monospace;white-space: pre;\" title=\"(0, 11)\"><center>1</center></td>\n",
       "<td style=\"font-family:monospace;white-space: pre;\" title=\"(0, 12)\"><center>1</center></td>\n",
       "<td style=\"font-family:monospace;white-space: pre;\" title=\"(0, 13)\"><center>1</center></td>\n",
       "<td style=\"font-family:monospace;white-space: pre;\" title=\"(0, 14)\"><center>1</center></td>\n",
       "</tr>\n",
       "</table>"
      ],
      "text/plain": [
       "array([[1, 1, 1, 1, 1, 1, 1, 1, 1, 1, 1, 1, 1, 1, 1]])"
      ]
     },
     "execution_count": 8,
     "metadata": {},
     "output_type": "execute_result"
    }
   ],
   "source": [
    "# Create an array of 15 number 1\n",
    "ones = np.ones((1, 15)).astype(int)\n",
    "\n",
    "# Display the array\n",
    "ones"
   ]
  },
  {
   "cell_type": "code",
   "execution_count": 9,
   "metadata": {},
   "outputs": [
    {
     "data": {
      "text/html": [
       "<table style='border-style:solid;border-width:1px;'>\n",
       "<tr>\n",
       "<td style=\"font-family:monospace;white-space: pre;\" title=\"(0, 0)\"><center>7</center></td>\n",
       "<td style=\"font-family:monospace;white-space: pre;\" title=\"(0, 1)\"><center>7</center></td>\n",
       "<td style=\"font-family:monospace;white-space: pre;\" title=\"(0, 2)\"><center>7</center></td>\n",
       "<td style=\"font-family:monospace;white-space: pre;\" title=\"(0, 3)\"><center>7</center></td>\n",
       "<td style=\"font-family:monospace;white-space: pre;\" title=\"(0, 4)\"><center>7</center></td>\n",
       "<td style=\"font-family:monospace;white-space: pre;\" title=\"(0, 5)\"><center>7</center></td>\n",
       "<td style=\"font-family:monospace;white-space: pre;\" title=\"(0, 6)\"><center>7</center></td>\n",
       "<td style=\"font-family:monospace;white-space: pre;\" title=\"(0, 7)\"><center>7</center></td>\n",
       "<td style=\"font-family:monospace;white-space: pre;\" title=\"(0, 8)\"><center>7</center></td>\n",
       "<td style=\"font-family:monospace;white-space: pre;\" title=\"(0, 9)\"><center>7</center></td>\n",
       "<td style=\"font-family:monospace;white-space: pre;\" title=\"(0, 10)\"><center>7</center></td>\n",
       "<td style=\"font-family:monospace;white-space: pre;\" title=\"(0, 11)\"><center>7</center></td>\n",
       "<td style=\"font-family:monospace;white-space: pre;\" title=\"(0, 12)\"><center>7</center></td>\n",
       "<td style=\"font-family:monospace;white-space: pre;\" title=\"(0, 13)\"><center>7</center></td>\n",
       "<td style=\"font-family:monospace;white-space: pre;\" title=\"(0, 14)\"><center>7</center></td>\n",
       "</tr>\n",
       "</table>"
      ],
      "text/plain": [
       "array([[7, 7, 7, 7, 7, 7, 7, 7, 7, 7, 7, 7, 7, 7, 7]])"
      ]
     },
     "execution_count": 9,
     "metadata": {},
     "output_type": "execute_result"
    }
   ],
   "source": [
    "# Create an array of 15 number 7\n",
    "sevens = np.zeros((1, 15)).astype(int) + 7\n",
    "\n",
    "# Display the array\n",
    "sevens"
   ]
  },
  {
   "cell_type": "code",
   "execution_count": 10,
   "metadata": {},
   "outputs": [
    {
     "data": {
      "text/html": [
       "<table style='border-style:solid;border-width:1px;'>\n",
       "<tr><td style=\"font-family:monospace;white-space: pre;\" title=\"0\"><center>100</center></td></tr>\n",
       "<tr><td style=\"font-family:monospace;white-space: pre;\" title=\"1\"><center>101</center></td></tr>\n",
       "<tr><td style=\"font-family:monospace;white-space: pre;\" title=\"2\"><center>102</center></td></tr>\n",
       "<tr><td style=\"font-family:monospace;white-space: pre;\" title=\"3\"><center>103</center></td></tr>\n",
       "<tr><td style=\"font-family:monospace;white-space: pre;\" title=\"4\"><center>104</center></td></tr>\n",
       "<tr><td style=\"font-family:monospace;white-space: pre;\" title=\"5\"><center>105</center></td></tr>\n",
       "<tr><td style=\"font-family:monospace;white-space: pre;\" title=\"6\"><center>106</center></td></tr>\n",
       "<tr><td style=\"font-family:monospace;white-space: pre;\" title=\"7\"><center>107</center></td></tr>\n",
       "<tr><td style=\"font-family:monospace;white-space: pre;\" title=\"8\"><center>108</center></td></tr>\n",
       "<tr><td style=\"font-family:monospace;white-space: pre;\" title=\"9\"><center>109</center></td></tr>\n",
       "<tr><td style=\"font-family:monospace;white-space: pre;\" title=\"10\"><center>110</center></td></tr>\n",
       "<tr><td style=\"font-family:monospace;white-space: pre;\" title=\"11\"><center>111</center></td></tr>\n",
       "<tr><td style=\"font-family:monospace;white-space: pre;\" title=\"12\"><center>112</center></td></tr>\n",
       "<tr><td style=\"font-family:monospace;white-space: pre;\" title=\"13\"><center>113</center></td></tr>\n",
       "<tr><td style=\"font-family:monospace;white-space: pre;\" title=\"14\"><center>114</center></td></tr>\n",
       "<tr><td style=\"font-family:monospace;white-space: pre;\" title=\"15\"><center>115</center></td></tr>\n",
       "<tr><td style=\"font-family:monospace;white-space: pre;\" title=\"16\"><center>116</center></td></tr>\n",
       "<tr><td style=\"font-family:monospace;white-space: pre;\" title=\"17\"><center>117</center></td></tr>\n",
       "<tr><td style=\"font-family:monospace;white-space: pre;\" title=\"18\"><center>118</center></td></tr>\n",
       "<tr><td style=\"font-family:monospace;white-space: pre;\" title=\"19\"><center>119</center></td></tr>\n",
       "<tr><td style=\"font-family:monospace;white-space: pre;\" title=\"20\"><center>120</center></td></tr>\n",
       "<tr><td style=\"font-family:monospace;white-space: pre;\" title=\"21\"><center>121</center></td></tr>\n",
       "<tr><td style=\"font-family:monospace;white-space: pre;\" title=\"22\"><center>122</center></td></tr>\n",
       "<tr><td style=\"font-family:monospace;white-space: pre;\" title=\"23\"><center>123</center></td></tr>\n",
       "<tr><td style=\"font-family:monospace;white-space: pre;\" title=\"24\"><center>124</center></td></tr>\n",
       "<tr><td style=\"font-family:monospace;white-space: pre;\" title=\"25\"><center>125</center></td></tr>\n",
       "<tr><td style=\"font-family:monospace;white-space: pre;\" title=\"26\"><center>126</center></td></tr>\n",
       "<tr><td style=\"font-family:monospace;white-space: pre;\" title=\"27\"><center>127</center></td></tr>\n",
       "<tr><td style=\"font-family:monospace;white-space: pre;\" title=\"28\"><center>128</center></td></tr>\n",
       "<tr><td style=\"font-family:monospace;white-space: pre;\" title=\"29\"><center>129</center></td></tr>\n",
       "<tr><td style=\"font-family:monospace;white-space: pre;\" title=\"30\"><center>130</center></td></tr>\n",
       "<tr><td style=\"font-family:monospace;white-space: pre;\" title=\"31\"><center>131</center></td></tr>\n",
       "<tr><td style=\"font-family:monospace;white-space: pre;\" title=\"32\"><center>132</center></td></tr>\n",
       "<tr><td style=\"font-family:monospace;white-space: pre;\" title=\"33\"><center>133</center></td></tr>\n",
       "<tr><td style=\"font-family:monospace;white-space: pre;\" title=\"34\"><center>134</center></td></tr>\n",
       "<tr><td style=\"font-family:monospace;white-space: pre;\" title=\"35\"><center>135</center></td></tr>\n",
       "<tr><td style=\"font-family:monospace;white-space: pre;\" title=\"36\"><center>136</center></td></tr>\n",
       "<tr><td style=\"font-family:monospace;white-space: pre;\" title=\"37\"><center>137</center></td></tr>\n",
       "<tr><td style=\"font-family:monospace;white-space: pre;\" title=\"38\"><center>138</center></td></tr>\n",
       "<tr><td style=\"font-family:monospace;white-space: pre;\" title=\"39\"><center>139</center></td></tr>\n",
       "<tr><td style=\"font-family:monospace;white-space: pre;\" title=\"40\"><center>140</center></td></tr>\n",
       "<tr><td style=\"font-family:monospace;white-space: pre;\" title=\"41\"><center>141</center></td></tr>\n",
       "<tr><td style=\"font-family:monospace;white-space: pre;\" title=\"42\"><center>142</center></td></tr>\n",
       "<tr><td style=\"font-family:monospace;white-space: pre;\" title=\"43\"><center>143</center></td></tr>\n",
       "<tr><td style=\"font-family:monospace;white-space: pre;\" title=\"44\"><center>144</center></td></tr>\n",
       "<tr><td style=\"font-family:monospace;white-space: pre;\" title=\"45\"><center>145</center></td></tr>\n",
       "<tr><td style=\"font-family:monospace;white-space: pre;\" title=\"46\"><center>146</center></td></tr>\n",
       "<tr><td style=\"font-family:monospace;white-space: pre;\" title=\"47\"><center>147</center></td></tr>\n",
       "<tr><td style=\"font-family:monospace;white-space: pre;\" title=\"48\"><center>148</center></td></tr>\n",
       "<tr><td style=\"font-family:monospace;white-space: pre;\" title=\"49\"><center>149</center></td></tr>\n",
       "<tr><td style=\"font-family:monospace;white-space: pre;\" title=\"50\"><center>150</center></td></tr>\n",
       "</table>"
      ],
      "text/plain": [
       "array([100, 101, 102, 103, 104, 105, 106, 107, 108, 109, 110, 111, 112,\n",
       "       113, 114, 115, 116, 117, 118, 119, 120, 121, 122, 123, 124, 125,\n",
       "       126, 127, 128, 129, 130, 131, 132, 133, 134, 135, 136, 137, 138,\n",
       "       139, 140, 141, 142, 143, 144, 145, 146, 147, 148, 149, 150])"
      ]
     },
     "execution_count": 10,
     "metadata": {},
     "output_type": "execute_result"
    }
   ],
   "source": [
    "# Create an array of numbers between 100-150, +1 to 150 to get all numbers between the numbers\n",
    "num100_150 = np.arange(100, 151)\n",
    "\n",
    "# Display the array\n",
    "num100_150"
   ]
  },
  {
   "cell_type": "code",
   "execution_count": 11,
   "metadata": {},
   "outputs": [
    {
     "data": {
      "text/html": [
       "<table style='border-style:solid;border-width:1px;'>\n",
       "<tr><td style=\"font-family:monospace;white-space: pre;\" title=\"0\"><center>1900</center></td></tr>\n",
       "<tr><td style=\"font-family:monospace;white-space: pre;\" title=\"1\"><center>1901</center></td></tr>\n",
       "<tr><td style=\"font-family:monospace;white-space: pre;\" title=\"2\"><center>1902</center></td></tr>\n",
       "<tr><td style=\"font-family:monospace;white-space: pre;\" title=\"3\"><center>1903</center></td></tr>\n",
       "<tr><td style=\"font-family:monospace;white-space: pre;\" title=\"4\"><center>1904</center></td></tr>\n",
       "<tr><td style=\"font-family:monospace;white-space: pre;\" title=\"5\"><center>1905</center></td></tr>\n",
       "<tr><td style=\"font-family:monospace;white-space: pre;\" title=\"6\"><center>1906</center></td></tr>\n",
       "<tr><td style=\"font-family:monospace;white-space: pre;\" title=\"7\"><center>1907</center></td></tr>\n",
       "<tr><td style=\"font-family:monospace;white-space: pre;\" title=\"8\"><center>1908</center></td></tr>\n",
       "<tr><td style=\"font-family:monospace;white-space: pre;\" title=\"9\"><center>1909</center></td></tr>\n",
       "<tr><td style=\"font-family:monospace;white-space: pre;\" title=\"10\"><center>1910</center></td></tr>\n",
       "<tr><td style=\"font-family:monospace;white-space: pre;\" title=\"11\"><center>1911</center></td></tr>\n",
       "<tr><td style=\"font-family:monospace;white-space: pre;\" title=\"12\"><center>1912</center></td></tr>\n",
       "<tr><td style=\"font-family:monospace;white-space: pre;\" title=\"13\"><center>1913</center></td></tr>\n",
       "<tr><td style=\"font-family:monospace;white-space: pre;\" title=\"14\"><center>1914</center></td></tr>\n",
       "<tr><td style=\"font-family:monospace;white-space: pre;\" title=\"15\"><center>1915</center></td></tr>\n",
       "<tr><td style=\"font-family:monospace;white-space: pre;\" title=\"16\"><center>1916</center></td></tr>\n",
       "<tr><td style=\"font-family:monospace;white-space: pre;\" title=\"17\"><center>1917</center></td></tr>\n",
       "<tr><td style=\"font-family:monospace;white-space: pre;\" title=\"18\"><center>1918</center></td></tr>\n",
       "<tr><td style=\"font-family:monospace;white-space: pre;\" title=\"19\"><center>1919</center></td></tr>\n",
       "<tr><td style=\"font-family:monospace;white-space: pre;\" title=\"20\"><center>1920</center></td></tr>\n",
       "<tr><td style=\"font-family:monospace;white-space: pre;\" title=\"21\"><center>1921</center></td></tr>\n",
       "<tr><td style=\"font-family:monospace;white-space: pre;\" title=\"22\"><center>1922</center></td></tr>\n",
       "<tr><td style=\"font-family:monospace;white-space: pre;\" title=\"23\"><center>1923</center></td></tr>\n",
       "<tr><td style=\"font-family:monospace;white-space: pre;\" title=\"24\"><center>1924</center></td></tr>\n",
       "<tr><td style=\"font-family:monospace;white-space: pre;\" title=\"25\"><center>1925</center></td></tr>\n",
       "<tr><td style=\"font-family:monospace;white-space: pre;\" title=\"26\"><center>1926</center></td></tr>\n",
       "<tr><td style=\"font-family:monospace;white-space: pre;\" title=\"27\"><center>1927</center></td></tr>\n",
       "<tr><td style=\"font-family:monospace;white-space: pre;\" title=\"28\"><center>1928</center></td></tr>\n",
       "<tr><td style=\"font-family:monospace;white-space: pre;\" title=\"29\"><center>1929</center></td></tr>\n",
       "<tr><td style=\"font-family:monospace;white-space: pre;\" title=\"30\"><center>1930</center></td></tr>\n",
       "<tr><td style=\"font-family:monospace;white-space: pre;\" title=\"31\"><center>1931</center></td></tr>\n",
       "<tr><td style=\"font-family:monospace;white-space: pre;\" title=\"32\"><center>1932</center></td></tr>\n",
       "<tr><td style=\"font-family:monospace;white-space: pre;\" title=\"33\"><center>1933</center></td></tr>\n",
       "<tr><td style=\"font-family:monospace;white-space: pre;\" title=\"34\"><center>1934</center></td></tr>\n",
       "<tr><td style=\"font-family:monospace;white-space: pre;\" title=\"35\"><center>1935</center></td></tr>\n",
       "<tr><td style=\"font-family:monospace;white-space: pre;\" title=\"36\"><center>1936</center></td></tr>\n",
       "<tr><td style=\"font-family:monospace;white-space: pre;\" title=\"37\"><center>1937</center></td></tr>\n",
       "<tr><td style=\"font-family:monospace;white-space: pre;\" title=\"38\"><center>1938</center></td></tr>\n",
       "<tr><td style=\"font-family:monospace;white-space: pre;\" title=\"39\"><center>1939</center></td></tr>\n",
       "<tr><td style=\"font-family:monospace;white-space: pre;\" title=\"40\"><center>1940</center></td></tr>\n",
       "<tr><td style=\"font-family:monospace;white-space: pre;\" title=\"41\"><center>1941</center></td></tr>\n",
       "<tr><td style=\"font-family:monospace;white-space: pre;\" title=\"42\"><center>1942</center></td></tr>\n",
       "<tr><td style=\"font-family:monospace;white-space: pre;\" title=\"43\"><center>1943</center></td></tr>\n",
       "<tr><td style=\"font-family:monospace;white-space: pre;\" title=\"44\"><center>1944</center></td></tr>\n",
       "<tr><td style=\"font-family:monospace;white-space: pre;\" title=\"45\"><center>1945</center></td></tr>\n",
       "<tr><td style=\"font-family:monospace;white-space: pre;\" title=\"46\"><center>1946</center></td></tr>\n",
       "<tr><td style=\"font-family:monospace;white-space: pre;\" title=\"47\"><center>1947</center></td></tr>\n",
       "<tr><td style=\"font-family:monospace;white-space: pre;\" title=\"48\"><center>1948</center></td></tr>\n",
       "<tr><td style=\"font-family:monospace;white-space: pre;\" title=\"49\"><center>1949</center></td></tr>\n",
       "<tr><td style=\"font-family:monospace;white-space: pre;\" title=\"50\"><center>1950</center></td></tr>\n",
       "<tr><td style=\"font-family:monospace;white-space: pre;\" title=\"51\"><center>1951</center></td></tr>\n",
       "<tr><td style=\"font-family:monospace;white-space: pre;\" title=\"52\"><center>1952</center></td></tr>\n",
       "<tr><td style=\"font-family:monospace;white-space: pre;\" title=\"53\"><center>1953</center></td></tr>\n",
       "<tr><td style=\"font-family:monospace;white-space: pre;\" title=\"54\"><center>1954</center></td></tr>\n",
       "<tr><td style=\"font-family:monospace;white-space: pre;\" title=\"55\"><center>1955</center></td></tr>\n",
       "<tr><td style=\"font-family:monospace;white-space: pre;\" title=\"56\"><center>1956</center></td></tr>\n",
       "<tr><td style=\"font-family:monospace;white-space: pre;\" title=\"57\"><center>1957</center></td></tr>\n",
       "<tr><td style=\"font-family:monospace;white-space: pre;\" title=\"58\"><center>1958</center></td></tr>\n",
       "<tr><td style=\"font-family:monospace;white-space: pre;\" title=\"59\"><center>1959</center></td></tr>\n",
       "<tr><td style=\"font-family:monospace;white-space: pre;\" title=\"60\"><center>1960</center></td></tr>\n",
       "<tr><td style=\"font-family:monospace;white-space: pre;\" title=\"61\"><center>1961</center></td></tr>\n",
       "<tr><td style=\"font-family:monospace;white-space: pre;\" title=\"62\"><center>1962</center></td></tr>\n",
       "<tr><td style=\"font-family:monospace;white-space: pre;\" title=\"63\"><center>1963</center></td></tr>\n",
       "<tr><td style=\"font-family:monospace;white-space: pre;\" title=\"64\"><center>1964</center></td></tr>\n",
       "<tr><td style=\"font-family:monospace;white-space: pre;\" title=\"65\"><center>1965</center></td></tr>\n",
       "<tr><td style=\"font-family:monospace;white-space: pre;\" title=\"66\"><center>1966</center></td></tr>\n",
       "<tr><td style=\"font-family:monospace;white-space: pre;\" title=\"67\"><center>1967</center></td></tr>\n",
       "<tr><td style=\"font-family:monospace;white-space: pre;\" title=\"68\"><center>1968</center></td></tr>\n",
       "<tr><td style=\"font-family:monospace;white-space: pre;\" title=\"69\"><center>1969</center></td></tr>\n",
       "<tr><td style=\"font-family:monospace;white-space: pre;\" title=\"70\"><center>1970</center></td></tr>\n",
       "<tr><td style=\"font-family:monospace;white-space: pre;\" title=\"71\"><center>1971</center></td></tr>\n",
       "<tr><td style=\"font-family:monospace;white-space: pre;\" title=\"72\"><center>1972</center></td></tr>\n",
       "<tr><td style=\"font-family:monospace;white-space: pre;\" title=\"73\"><center>1973</center></td></tr>\n",
       "<tr><td style=\"font-family:monospace;white-space: pre;\" title=\"74\"><center>1974</center></td></tr>\n",
       "<tr><td style=\"font-family:monospace;white-space: pre;\" title=\"75\"><center>1975</center></td></tr>\n",
       "<tr><td style=\"font-family:monospace;white-space: pre;\" title=\"76\"><center>1976</center></td></tr>\n",
       "<tr><td style=\"font-family:monospace;white-space: pre;\" title=\"77\"><center>1977</center></td></tr>\n",
       "<tr><td style=\"font-family:monospace;white-space: pre;\" title=\"78\"><center>1978</center></td></tr>\n",
       "<tr><td style=\"font-family:monospace;white-space: pre;\" title=\"79\"><center>1979</center></td></tr>\n",
       "<tr><td style=\"font-family:monospace;white-space: pre;\" title=\"80\"><center>1980</center></td></tr>\n",
       "<tr><td style=\"font-family:monospace;white-space: pre;\" title=\"81\"><center>1981</center></td></tr>\n",
       "<tr><td style=\"font-family:monospace;white-space: pre;\" title=\"82\"><center>1982</center></td></tr>\n",
       "<tr><td style=\"font-family:monospace;white-space: pre;\" title=\"83\"><center>1983</center></td></tr>\n",
       "<tr><td style=\"font-family:monospace;white-space: pre;\" title=\"84\"><center>1984</center></td></tr>\n",
       "<tr><td style=\"font-family:monospace;white-space: pre;\" title=\"85\"><center>1985</center></td></tr>\n",
       "<tr><td style=\"font-family:monospace;white-space: pre;\" title=\"86\"><center>1986</center></td></tr>\n",
       "<tr><td style=\"font-family:monospace;white-space: pre;\" title=\"87\"><center>1987</center></td></tr>\n",
       "<tr><td style=\"font-family:monospace;white-space: pre;\" title=\"88\"><center>1988</center></td></tr>\n",
       "<tr><td style=\"font-family:monospace;white-space: pre;\" title=\"89\"><center>1989</center></td></tr>\n",
       "<tr><td style=\"font-family:monospace;white-space: pre;\" title=\"90\"><center>1990</center></td></tr>\n",
       "<tr><td style=\"font-family:monospace;white-space: pre;\" title=\"91\"><center>1991</center></td></tr>\n",
       "<tr><td style=\"font-family:monospace;white-space: pre;\" title=\"92\"><center>1992</center></td></tr>\n",
       "<tr><td style=\"font-family:monospace;white-space: pre;\" title=\"93\"><center>1993</center></td></tr>\n",
       "<tr><td style=\"font-family:monospace;white-space: pre;\" title=\"94\"><center>1994</center></td></tr>\n",
       "<tr><td style=\"font-family:monospace;white-space: pre;\" title=\"95\"><center>1995</center></td></tr>\n",
       "<tr><td style=\"font-family:monospace;white-space: pre;\" title=\"96\"><center>1996</center></td></tr>\n",
       "<tr><td style=\"font-family:monospace;white-space: pre;\" title=\"97\"><center>1997</center></td></tr>\n",
       "<tr><td style=\"font-family:monospace;white-space: pre;\" title=\"98\"><center>1998</center></td></tr>\n",
       "<tr><td style=\"font-family:monospace;white-space: pre;\" title=\"99\"><center>1999</center></td></tr>\n",
       "<tr><td style=\"font-family:monospace;white-space: pre;\" title=\"100\"><center>2000</center></td></tr>\n",
       "<tr><td style=\"font-family:monospace;white-space: pre;\" title=\"101\"><center>2001</center></td></tr>\n",
       "<tr><td style=\"font-family:monospace;white-space: pre;\" title=\"102\"><center>2002</center></td></tr>\n",
       "<tr><td style=\"font-family:monospace;white-space: pre;\" title=\"103\"><center>2003</center></td></tr>\n",
       "<tr><td style=\"font-family:monospace;white-space: pre;\" title=\"104\"><center>2004</center></td></tr>\n",
       "<tr><td style=\"font-family:monospace;white-space: pre;\" title=\"105\"><center>2005</center></td></tr>\n",
       "<tr><td style=\"font-family:monospace;white-space: pre;\" title=\"106\"><center>2006</center></td></tr>\n",
       "<tr><td style=\"font-family:monospace;white-space: pre;\" title=\"107\"><center>2007</center></td></tr>\n",
       "<tr><td style=\"font-family:monospace;white-space: pre;\" title=\"108\"><center>2008</center></td></tr>\n",
       "<tr><td style=\"font-family:monospace;white-space: pre;\" title=\"109\"><center>2009</center></td></tr>\n",
       "<tr><td style=\"font-family:monospace;white-space: pre;\" title=\"110\"><center>2010</center></td></tr>\n",
       "<tr><td style=\"font-family:monospace;white-space: pre;\" title=\"111\"><center>2011</center></td></tr>\n",
       "<tr><td style=\"font-family:monospace;white-space: pre;\" title=\"112\"><center>2012</center></td></tr>\n",
       "<tr><td style=\"font-family:monospace;white-space: pre;\" title=\"113\"><center>2013</center></td></tr>\n",
       "<tr><td style=\"font-family:monospace;white-space: pre;\" title=\"114\"><center>2014</center></td></tr>\n",
       "<tr><td style=\"font-family:monospace;white-space: pre;\" title=\"115\"><center>2015</center></td></tr>\n",
       "<tr><td style=\"font-family:monospace;white-space: pre;\" title=\"116\"><center>2016</center></td></tr>\n",
       "<tr><td style=\"font-family:monospace;white-space: pre;\" title=\"117\"><center>2017</center></td></tr>\n",
       "<tr><td style=\"font-family:monospace;white-space: pre;\" title=\"118\"><center>2018</center></td></tr>\n",
       "<tr><td style=\"font-family:monospace;white-space: pre;\" title=\"119\"><center>2019</center></td></tr>\n",
       "<tr><td style=\"font-family:monospace;white-space: pre;\" title=\"120\"><center>2020</center></td></tr>\n",
       "<tr><td style=\"font-family:monospace;white-space: pre;\" title=\"121\"><center>2021</center></td></tr>\n",
       "</table>"
      ],
      "text/plain": [
       "array([1900, 1901, 1902, 1903, 1904, 1905, 1906, 1907, 1908, 1909, 1910,\n",
       "       1911, 1912, 1913, 1914, 1915, 1916, 1917, 1918, 1919, 1920, 1921,\n",
       "       1922, 1923, 1924, 1925, 1926, 1927, 1928, 1929, 1930, 1931, 1932,\n",
       "       1933, 1934, 1935, 1936, 1937, 1938, 1939, 1940, 1941, 1942, 1943,\n",
       "       1944, 1945, 1946, 1947, 1948, 1949, 1950, 1951, 1952, 1953, 1954,\n",
       "       1955, 1956, 1957, 1958, 1959, 1960, 1961, 1962, 1963, 1964, 1965,\n",
       "       1966, 1967, 1968, 1969, 1970, 1971, 1972, 1973, 1974, 1975, 1976,\n",
       "       1977, 1978, 1979, 1980, 1981, 1982, 1983, 1984, 1985, 1986, 1987,\n",
       "       1988, 1989, 1990, 1991, 1992, 1993, 1994, 1995, 1996, 1997, 1998,\n",
       "       1999, 2000, 2001, 2002, 2003, 2004, 2005, 2006, 2007, 2008, 2009,\n",
       "       2010, 2011, 2012, 2013, 2014, 2015, 2016, 2017, 2018, 2019, 2020,\n",
       "       2021])"
      ]
     },
     "execution_count": 11,
     "metadata": {},
     "output_type": "execute_result"
    }
   ],
   "source": [
    "# Create an array of between numbers 1900-2021, +1 to the 2021 to get all numbers between numbers 1900-2021\n",
    "num1900_2020 = np.arange(1900, 2022)\n",
    "\n",
    "# Display the array\n",
    "num1900_2020"
   ]
  },
  {
   "cell_type": "code",
   "execution_count": 12,
   "metadata": {},
   "outputs": [
    {
     "data": {
      "text/html": [
       "<table style='border-style:solid;border-width:1px;'>\n",
       "<tr><td style=\"font-family:monospace;white-space: pre;\" title=\"0\"><center>0  </center></td></tr>\n",
       "<tr><td style=\"font-family:monospace;white-space: pre;\" title=\"1\"><center>2  </center></td></tr>\n",
       "<tr><td style=\"font-family:monospace;white-space: pre;\" title=\"2\"><center>4  </center></td></tr>\n",
       "<tr><td style=\"font-family:monospace;white-space: pre;\" title=\"3\"><center>6  </center></td></tr>\n",
       "<tr><td style=\"font-family:monospace;white-space: pre;\" title=\"4\"><center>8  </center></td></tr>\n",
       "<tr><td style=\"font-family:monospace;white-space: pre;\" title=\"5\"><center>10 </center></td></tr>\n",
       "<tr><td style=\"font-family:monospace;white-space: pre;\" title=\"6\"><center>12 </center></td></tr>\n",
       "<tr><td style=\"font-family:monospace;white-space: pre;\" title=\"7\"><center>14 </center></td></tr>\n",
       "<tr><td style=\"font-family:monospace;white-space: pre;\" title=\"8\"><center>16 </center></td></tr>\n",
       "<tr><td style=\"font-family:monospace;white-space: pre;\" title=\"9\"><center>18 </center></td></tr>\n",
       "<tr><td style=\"font-family:monospace;white-space: pre;\" title=\"10\"><center>20 </center></td></tr>\n",
       "<tr><td style=\"font-family:monospace;white-space: pre;\" title=\"11\"><center>22 </center></td></tr>\n",
       "<tr><td style=\"font-family:monospace;white-space: pre;\" title=\"12\"><center>24 </center></td></tr>\n",
       "<tr><td style=\"font-family:monospace;white-space: pre;\" title=\"13\"><center>26 </center></td></tr>\n",
       "<tr><td style=\"font-family:monospace;white-space: pre;\" title=\"14\"><center>28 </center></td></tr>\n",
       "<tr><td style=\"font-family:monospace;white-space: pre;\" title=\"15\"><center>30 </center></td></tr>\n",
       "<tr><td style=\"font-family:monospace;white-space: pre;\" title=\"16\"><center>32 </center></td></tr>\n",
       "<tr><td style=\"font-family:monospace;white-space: pre;\" title=\"17\"><center>34 </center></td></tr>\n",
       "<tr><td style=\"font-family:monospace;white-space: pre;\" title=\"18\"><center>36 </center></td></tr>\n",
       "<tr><td style=\"font-family:monospace;white-space: pre;\" title=\"19\"><center>38 </center></td></tr>\n",
       "<tr><td style=\"font-family:monospace;white-space: pre;\" title=\"20\"><center>40 </center></td></tr>\n",
       "<tr><td style=\"font-family:monospace;white-space: pre;\" title=\"21\"><center>42 </center></td></tr>\n",
       "<tr><td style=\"font-family:monospace;white-space: pre;\" title=\"22\"><center>44 </center></td></tr>\n",
       "<tr><td style=\"font-family:monospace;white-space: pre;\" title=\"23\"><center>46 </center></td></tr>\n",
       "<tr><td style=\"font-family:monospace;white-space: pre;\" title=\"24\"><center>48 </center></td></tr>\n",
       "<tr><td style=\"font-family:monospace;white-space: pre;\" title=\"25\"><center>50 </center></td></tr>\n",
       "<tr><td style=\"font-family:monospace;white-space: pre;\" title=\"26\"><center>52 </center></td></tr>\n",
       "<tr><td style=\"font-family:monospace;white-space: pre;\" title=\"27\"><center>54 </center></td></tr>\n",
       "<tr><td style=\"font-family:monospace;white-space: pre;\" title=\"28\"><center>56 </center></td></tr>\n",
       "<tr><td style=\"font-family:monospace;white-space: pre;\" title=\"29\"><center>58 </center></td></tr>\n",
       "<tr><td style=\"font-family:monospace;white-space: pre;\" title=\"30\"><center>60 </center></td></tr>\n",
       "<tr><td style=\"font-family:monospace;white-space: pre;\" title=\"31\"><center>62 </center></td></tr>\n",
       "<tr><td style=\"font-family:monospace;white-space: pre;\" title=\"32\"><center>64 </center></td></tr>\n",
       "<tr><td style=\"font-family:monospace;white-space: pre;\" title=\"33\"><center>66 </center></td></tr>\n",
       "<tr><td style=\"font-family:monospace;white-space: pre;\" title=\"34\"><center>68 </center></td></tr>\n",
       "<tr><td style=\"font-family:monospace;white-space: pre;\" title=\"35\"><center>70 </center></td></tr>\n",
       "<tr><td style=\"font-family:monospace;white-space: pre;\" title=\"36\"><center>72 </center></td></tr>\n",
       "<tr><td style=\"font-family:monospace;white-space: pre;\" title=\"37\"><center>74 </center></td></tr>\n",
       "<tr><td style=\"font-family:monospace;white-space: pre;\" title=\"38\"><center>76 </center></td></tr>\n",
       "<tr><td style=\"font-family:monospace;white-space: pre;\" title=\"39\"><center>78 </center></td></tr>\n",
       "<tr><td style=\"font-family:monospace;white-space: pre;\" title=\"40\"><center>80 </center></td></tr>\n",
       "<tr><td style=\"font-family:monospace;white-space: pre;\" title=\"41\"><center>82 </center></td></tr>\n",
       "<tr><td style=\"font-family:monospace;white-space: pre;\" title=\"42\"><center>84 </center></td></tr>\n",
       "<tr><td style=\"font-family:monospace;white-space: pre;\" title=\"43\"><center>86 </center></td></tr>\n",
       "<tr><td style=\"font-family:monospace;white-space: pre;\" title=\"44\"><center>88 </center></td></tr>\n",
       "<tr><td style=\"font-family:monospace;white-space: pre;\" title=\"45\"><center>90 </center></td></tr>\n",
       "<tr><td style=\"font-family:monospace;white-space: pre;\" title=\"46\"><center>92 </center></td></tr>\n",
       "<tr><td style=\"font-family:monospace;white-space: pre;\" title=\"47\"><center>94 </center></td></tr>\n",
       "<tr><td style=\"font-family:monospace;white-space: pre;\" title=\"48\"><center>96 </center></td></tr>\n",
       "<tr><td style=\"font-family:monospace;white-space: pre;\" title=\"49\"><center>98 </center></td></tr>\n",
       "<tr><td style=\"font-family:monospace;white-space: pre;\" title=\"50\"><center>100</center></td></tr>\n",
       "</table>"
      ],
      "text/plain": [
       "array([  0,   2,   4,   6,   8,  10,  12,  14,  16,  18,  20,  22,  24,\n",
       "        26,  28,  30,  32,  34,  36,  38,  40,  42,  44,  46,  48,  50,\n",
       "        52,  54,  56,  58,  60,  62,  64,  66,  68,  70,  72,  74,  76,\n",
       "        78,  80,  82,  84,  86,  88,  90,  92,  94,  96,  98, 100])"
      ]
     },
     "execution_count": 12,
     "metadata": {},
     "output_type": "execute_result"
    }
   ],
   "source": [
    "# Create an array of even numbers between 0-100 with the help of numpy\n",
    "num0_100_numpy = np.arange(0, 102, 2)\n",
    "\n",
    "# Display the array\n",
    "num0_100_numpy"
   ]
  },
  {
   "cell_type": "code",
   "execution_count": 13,
   "metadata": {},
   "outputs": [
    {
     "data": {
      "text/html": [
       "<table style='border-style:solid;border-width:1px;'>\n",
       "<tr><td style=\"font-family:monospace;white-space: pre;\" title=\"0\"><center>1950</center></td></tr>\n",
       "<tr><td style=\"font-family:monospace;white-space: pre;\" title=\"1\"><center>1954</center></td></tr>\n",
       "<tr><td style=\"font-family:monospace;white-space: pre;\" title=\"2\"><center>1958</center></td></tr>\n",
       "<tr><td style=\"font-family:monospace;white-space: pre;\" title=\"3\"><center>1962</center></td></tr>\n",
       "<tr><td style=\"font-family:monospace;white-space: pre;\" title=\"4\"><center>1966</center></td></tr>\n",
       "<tr><td style=\"font-family:monospace;white-space: pre;\" title=\"5\"><center>1970</center></td></tr>\n",
       "<tr><td style=\"font-family:monospace;white-space: pre;\" title=\"6\"><center>1974</center></td></tr>\n",
       "<tr><td style=\"font-family:monospace;white-space: pre;\" title=\"7\"><center>1978</center></td></tr>\n",
       "<tr><td style=\"font-family:monospace;white-space: pre;\" title=\"8\"><center>1982</center></td></tr>\n",
       "<tr><td style=\"font-family:monospace;white-space: pre;\" title=\"9\"><center>1986</center></td></tr>\n",
       "<tr><td style=\"font-family:monospace;white-space: pre;\" title=\"10\"><center>1990</center></td></tr>\n",
       "<tr><td style=\"font-family:monospace;white-space: pre;\" title=\"11\"><center>1994</center></td></tr>\n",
       "<tr><td style=\"font-family:monospace;white-space: pre;\" title=\"12\"><center>1998</center></td></tr>\n",
       "<tr><td style=\"font-family:monospace;white-space: pre;\" title=\"13\"><center>2002</center></td></tr>\n",
       "<tr><td style=\"font-family:monospace;white-space: pre;\" title=\"14\"><center>2006</center></td></tr>\n",
       "<tr><td style=\"font-family:monospace;white-space: pre;\" title=\"15\"><center>2010</center></td></tr>\n",
       "<tr><td style=\"font-family:monospace;white-space: pre;\" title=\"16\"><center>2014</center></td></tr>\n",
       "<tr><td style=\"font-family:monospace;white-space: pre;\" title=\"17\"><center>2018</center></td></tr>\n",
       "</table>"
      ],
      "text/plain": [
       "array([1950, 1954, 1958, 1962, 1966, 1970, 1974, 1978, 1982, 1986, 1990,\n",
       "       1994, 1998, 2002, 2006, 2010, 2014, 2018])"
      ]
     },
     "execution_count": 13,
     "metadata": {},
     "output_type": "execute_result"
    }
   ],
   "source": [
    "# Create an array of years divisable by 4 between years 1950-2020\n",
    "numpy_divi_years = np.arange(1950, 2022, 4)\n",
    "\n",
    "# Display the array\n",
    "numpy_divi_years"
   ]
  },
  {
   "cell_type": "markdown",
   "metadata": {},
   "source": [
    "<h2>Exercise 1.3<h2>"
   ]
  },
  {
   "cell_type": "code",
   "execution_count": 14,
   "metadata": {},
   "outputs": [
    {
     "data": {
      "text/plain": [
       "4"
      ]
     },
     "execution_count": 14,
     "metadata": {},
     "output_type": "execute_result"
    }
   ],
   "source": [
    "# Create a vector list of numbers(5, 16, 9, 2, 19, 18, 7)\n",
    "vector_list = ([5, 16, 9, 2, 19, 18, 11, 7])\n",
    "\n",
    "# Create a sentence, which finds max position of largest value in the vector\n",
    "vect_listmax = np.argmax(vector_list)\n",
    "\n",
    "# Display the vector listmax\n",
    "vect_listmax"
   ]
  },
  {
   "cell_type": "code",
   "execution_count": 15,
   "metadata": {},
   "outputs": [
    {
     "data": {
      "text/html": [
       "<table style='border-style:solid;border-width:1px;'>\n",
       "<tr>\n",
       "<td style=\"font-family:monospace;white-space: pre;\" title=\"(0, 0)\"><center>1 </center></td>\n",
       "<td style=\"font-family:monospace;white-space: pre;\" title=\"(0, 1)\"><center>2 </center></td>\n",
       "<td style=\"font-family:monospace;white-space: pre;\" title=\"(0, 2)\"><center>3 </center></td>\n",
       "<td style=\"font-family:monospace;white-space: pre;\" title=\"(0, 3)\"><center>4 </center></td>\n",
       "<td style=\"font-family:monospace;white-space: pre;\" title=\"(0, 4)\"><center>5 </center></td>\n",
       "<td style=\"font-family:monospace;white-space: pre;\" title=\"(0, 5)\"><center>6 </center></td>\n",
       "<td style=\"font-family:monospace;white-space: pre;\" title=\"(0, 6)\"><center>7 </center></td>\n",
       "</tr>\n",
       "<tr>\n",
       "<td style=\"font-family:monospace;white-space: pre;\" title=\"(1, 0)\"><center>8 </center></td>\n",
       "<td style=\"font-family:monospace;white-space: pre;\" title=\"(1, 1)\"><center>9 </center></td>\n",
       "<td style=\"font-family:monospace;white-space: pre;\" title=\"(1, 2)\"><center>10</center></td>\n",
       "<td style=\"font-family:monospace;white-space: pre;\" title=\"(1, 3)\"><center>11</center></td>\n",
       "<td style=\"font-family:monospace;white-space: pre;\" title=\"(1, 4)\"><center>12</center></td>\n",
       "<td style=\"font-family:monospace;white-space: pre;\" title=\"(1, 5)\"><center>13</center></td>\n",
       "<td style=\"font-family:monospace;white-space: pre;\" title=\"(1, 6)\"><center>14</center></td>\n",
       "</tr>\n",
       "<tr>\n",
       "<td style=\"font-family:monospace;white-space: pre;\" title=\"(2, 0)\"><center>15</center></td>\n",
       "<td style=\"font-family:monospace;white-space: pre;\" title=\"(2, 1)\"><center>16</center></td>\n",
       "<td style=\"font-family:monospace;white-space: pre;\" title=\"(2, 2)\"><center>17</center></td>\n",
       "<td style=\"font-family:monospace;white-space: pre;\" title=\"(2, 3)\"><center>18</center></td>\n",
       "<td style=\"font-family:monospace;white-space: pre;\" title=\"(2, 4)\"><center>19</center></td>\n",
       "<td style=\"font-family:monospace;white-space: pre;\" title=\"(2, 5)\"><center>20</center></td>\n",
       "<td style=\"font-family:monospace;white-space: pre;\" title=\"(2, 6)\"><center>21</center></td>\n",
       "</tr>\n",
       "<tr>\n",
       "<td style=\"font-family:monospace;white-space: pre;\" title=\"(3, 0)\"><center>22</center></td>\n",
       "<td style=\"font-family:monospace;white-space: pre;\" title=\"(3, 1)\"><center>23</center></td>\n",
       "<td style=\"font-family:monospace;white-space: pre;\" title=\"(3, 2)\"><center>24</center></td>\n",
       "<td style=\"font-family:monospace;white-space: pre;\" title=\"(3, 3)\"><center>25</center></td>\n",
       "<td style=\"font-family:monospace;white-space: pre;\" title=\"(3, 4)\"><center>26</center></td>\n",
       "<td style=\"font-family:monospace;white-space: pre;\" title=\"(3, 5)\"><center>27</center></td>\n",
       "<td style=\"font-family:monospace;white-space: pre;\" title=\"(3, 6)\"><center>28</center></td>\n",
       "</tr>\n",
       "<tr>\n",
       "<td style=\"font-family:monospace;white-space: pre;\" title=\"(4, 0)\"><center>29</center></td>\n",
       "<td style=\"font-family:monospace;white-space: pre;\" title=\"(4, 1)\"><center>30</center></td>\n",
       "<td style=\"font-family:monospace;white-space: pre;\" title=\"(4, 2)\"><center>31</center></td>\n",
       "<td style=\"font-family:monospace;white-space: pre;\" title=\"(4, 3)\"><center>32</center></td>\n",
       "<td style=\"font-family:monospace;white-space: pre;\" title=\"(4, 4)\"><center>33</center></td>\n",
       "<td style=\"font-family:monospace;white-space: pre;\" title=\"(4, 5)\"><center>34</center></td>\n",
       "<td style=\"font-family:monospace;white-space: pre;\" title=\"(4, 6)\"><center>35</center></td>\n",
       "</tr>\n",
       "<tr>\n",
       "<td style=\"font-family:monospace;white-space: pre;\" title=\"(5, 0)\"><center>36</center></td>\n",
       "<td style=\"font-family:monospace;white-space: pre;\" title=\"(5, 1)\"><center>37</center></td>\n",
       "<td style=\"font-family:monospace;white-space: pre;\" title=\"(5, 2)\"><center>38</center></td>\n",
       "<td style=\"font-family:monospace;white-space: pre;\" title=\"(5, 3)\"><center>39</center></td>\n",
       "<td style=\"font-family:monospace;white-space: pre;\" title=\"(5, 4)\"><center>40</center></td>\n",
       "<td style=\"font-family:monospace;white-space: pre;\" title=\"(5, 5)\"><center>41</center></td>\n",
       "<td style=\"font-family:monospace;white-space: pre;\" title=\"(5, 6)\"><center>42</center></td>\n",
       "</tr>\n",
       "<tr>\n",
       "<td style=\"font-family:monospace;white-space: pre;\" title=\"(6, 0)\"><center>43</center></td>\n",
       "<td style=\"font-family:monospace;white-space: pre;\" title=\"(6, 1)\"><center>44</center></td>\n",
       "<td style=\"font-family:monospace;white-space: pre;\" title=\"(6, 2)\"><center>45</center></td>\n",
       "<td style=\"font-family:monospace;white-space: pre;\" title=\"(6, 3)\"><center>46</center></td>\n",
       "<td style=\"font-family:monospace;white-space: pre;\" title=\"(6, 4)\"><center>47</center></td>\n",
       "<td style=\"font-family:monospace;white-space: pre;\" title=\"(6, 5)\"><center>48</center></td>\n",
       "<td style=\"font-family:monospace;white-space: pre;\" title=\"(6, 6)\"><center>49</center></td>\n",
       "</tr>\n",
       "</table>"
      ],
      "text/plain": [
       "array([[ 1,  2,  3,  4,  5,  6,  7],\n",
       "       [ 8,  9, 10, 11, 12, 13, 14],\n",
       "       [15, 16, 17, 18, 19, 20, 21],\n",
       "       [22, 23, 24, 25, 26, 27, 28],\n",
       "       [29, 30, 31, 32, 33, 34, 35],\n",
       "       [36, 37, 38, 39, 40, 41, 42],\n",
       "       [43, 44, 45, 46, 47, 48, 49]])"
      ]
     },
     "execution_count": 15,
     "metadata": {},
     "output_type": "execute_result"
    }
   ],
   "source": [
    "# Create 7x7 matrix of values between 1-49\n",
    "matrix_1_3b = np.arange(1,50).reshape(7, 7)\n",
    "\n",
    "# Display the 7x7 matrix for 1.3b\n",
    "matrix_1_3b"
   ]
  },
  {
   "cell_type": "code",
   "execution_count": 16,
   "metadata": {},
   "outputs": [
    {
     "data": {
      "text/html": [
       "<table style='border-style:solid;border-width:1px;'>\n",
       "<tr>\n",
       "<td style=\"font-family:monospace;white-space: pre;\" title=\"(0, 0)\"><center>1</center></td>\n",
       "<td style=\"font-family:monospace;white-space: pre;\" title=\"(0, 1)\"><center>4</center></td>\n",
       "<td style=\"font-family:monospace;white-space: pre;\" title=\"(0, 2)\"><center>4</center></td>\n",
       "<td style=\"font-family:monospace;white-space: pre;\" title=\"(0, 3)\"><center>1</center></td>\n",
       "<td style=\"font-family:monospace;white-space: pre;\" title=\"(0, 4)\"><center>4</center></td>\n",
       "<td style=\"font-family:monospace;white-space: pre;\" title=\"(0, 5)\"><center>0</center></td>\n",
       "<td style=\"font-family:monospace;white-space: pre;\" title=\"(0, 6)\"><center>4</center></td>\n",
       "<td style=\"font-family:monospace;white-space: pre;\" title=\"(0, 7)\"><center>0</center></td>\n",
       "</tr>\n",
       "<tr>\n",
       "<td style=\"font-family:monospace;white-space: pre;\" title=\"(1, 0)\"><center>3</center></td>\n",
       "<td style=\"font-family:monospace;white-space: pre;\" title=\"(1, 1)\"><center>3</center></td>\n",
       "<td style=\"font-family:monospace;white-space: pre;\" title=\"(1, 2)\"><center>0</center></td>\n",
       "<td style=\"font-family:monospace;white-space: pre;\" title=\"(1, 3)\"><center>1</center></td>\n",
       "<td style=\"font-family:monospace;white-space: pre;\" title=\"(1, 4)\"><center>0</center></td>\n",
       "<td style=\"font-family:monospace;white-space: pre;\" title=\"(1, 5)\"><center>2</center></td>\n",
       "<td style=\"font-family:monospace;white-space: pre;\" title=\"(1, 6)\"><center>1</center></td>\n",
       "<td style=\"font-family:monospace;white-space: pre;\" title=\"(1, 7)\"><center>2</center></td>\n",
       "</tr>\n",
       "<tr>\n",
       "<td style=\"font-family:monospace;white-space: pre;\" title=\"(2, 0)\"><center>4</center></td>\n",
       "<td style=\"font-family:monospace;white-space: pre;\" title=\"(2, 1)\"><center>4</center></td>\n",
       "<td style=\"font-family:monospace;white-space: pre;\" title=\"(2, 2)\"><center>2</center></td>\n",
       "<td style=\"font-family:monospace;white-space: pre;\" title=\"(2, 3)\"><center>1</center></td>\n",
       "<td style=\"font-family:monospace;white-space: pre;\" title=\"(2, 4)\"><center>2</center></td>\n",
       "<td style=\"font-family:monospace;white-space: pre;\" title=\"(2, 5)\"><center>2</center></td>\n",
       "<td style=\"font-family:monospace;white-space: pre;\" title=\"(2, 6)\"><center>3</center></td>\n",
       "<td style=\"font-family:monospace;white-space: pre;\" title=\"(2, 7)\"><center>1</center></td>\n",
       "</tr>\n",
       "<tr>\n",
       "<td style=\"font-family:monospace;white-space: pre;\" title=\"(3, 0)\"><center>3</center></td>\n",
       "<td style=\"font-family:monospace;white-space: pre;\" title=\"(3, 1)\"><center>4</center></td>\n",
       "<td style=\"font-family:monospace;white-space: pre;\" title=\"(3, 2)\"><center>3</center></td>\n",
       "<td style=\"font-family:monospace;white-space: pre;\" title=\"(3, 3)\"><center>2</center></td>\n",
       "<td style=\"font-family:monospace;white-space: pre;\" title=\"(3, 4)\"><center>3</center></td>\n",
       "<td style=\"font-family:monospace;white-space: pre;\" title=\"(3, 5)\"><center>0</center></td>\n",
       "<td style=\"font-family:monospace;white-space: pre;\" title=\"(3, 6)\"><center>4</center></td>\n",
       "<td style=\"font-family:monospace;white-space: pre;\" title=\"(3, 7)\"><center>2</center></td>\n",
       "</tr>\n",
       "<tr>\n",
       "<td style=\"font-family:monospace;white-space: pre;\" title=\"(4, 0)\"><center>2</center></td>\n",
       "<td style=\"font-family:monospace;white-space: pre;\" title=\"(4, 1)\"><center>0</center></td>\n",
       "<td style=\"font-family:monospace;white-space: pre;\" title=\"(4, 2)\"><center>2</center></td>\n",
       "<td style=\"font-family:monospace;white-space: pre;\" title=\"(4, 3)\"><center>4</center></td>\n",
       "<td style=\"font-family:monospace;white-space: pre;\" title=\"(4, 4)\"><center>3</center></td>\n",
       "<td style=\"font-family:monospace;white-space: pre;\" title=\"(4, 5)\"><center>0</center></td>\n",
       "<td style=\"font-family:monospace;white-space: pre;\" title=\"(4, 6)\"><center>1</center></td>\n",
       "<td style=\"font-family:monospace;white-space: pre;\" title=\"(4, 7)\"><center>1</center></td>\n",
       "</tr>\n",
       "<tr>\n",
       "<td style=\"font-family:monospace;white-space: pre;\" title=\"(5, 0)\"><center>0</center></td>\n",
       "<td style=\"font-family:monospace;white-space: pre;\" title=\"(5, 1)\"><center>1</center></td>\n",
       "<td style=\"font-family:monospace;white-space: pre;\" title=\"(5, 2)\"><center>1</center></td>\n",
       "<td style=\"font-family:monospace;white-space: pre;\" title=\"(5, 3)\"><center>3</center></td>\n",
       "<td style=\"font-family:monospace;white-space: pre;\" title=\"(5, 4)\"><center>3</center></td>\n",
       "<td style=\"font-family:monospace;white-space: pre;\" title=\"(5, 5)\"><center>0</center></td>\n",
       "<td style=\"font-family:monospace;white-space: pre;\" title=\"(5, 6)\"><center>4</center></td>\n",
       "<td style=\"font-family:monospace;white-space: pre;\" title=\"(5, 7)\"><center>4</center></td>\n",
       "</tr>\n",
       "<tr>\n",
       "<td style=\"font-family:monospace;white-space: pre;\" title=\"(6, 0)\"><center>4</center></td>\n",
       "<td style=\"font-family:monospace;white-space: pre;\" title=\"(6, 1)\"><center>4</center></td>\n",
       "<td style=\"font-family:monospace;white-space: pre;\" title=\"(6, 2)\"><center>4</center></td>\n",
       "<td style=\"font-family:monospace;white-space: pre;\" title=\"(6, 3)\"><center>2</center></td>\n",
       "<td style=\"font-family:monospace;white-space: pre;\" title=\"(6, 4)\"><center>0</center></td>\n",
       "<td style=\"font-family:monospace;white-space: pre;\" title=\"(6, 5)\"><center>4</center></td>\n",
       "<td style=\"font-family:monospace;white-space: pre;\" title=\"(6, 6)\"><center>0</center></td>\n",
       "<td style=\"font-family:monospace;white-space: pre;\" title=\"(6, 7)\"><center>2</center></td>\n",
       "</tr>\n",
       "<tr>\n",
       "<td style=\"font-family:monospace;white-space: pre;\" title=\"(7, 0)\"><center>1</center></td>\n",
       "<td style=\"font-family:monospace;white-space: pre;\" title=\"(7, 1)\"><center>0</center></td>\n",
       "<td style=\"font-family:monospace;white-space: pre;\" title=\"(7, 2)\"><center>3</center></td>\n",
       "<td style=\"font-family:monospace;white-space: pre;\" title=\"(7, 3)\"><center>1</center></td>\n",
       "<td style=\"font-family:monospace;white-space: pre;\" title=\"(7, 4)\"><center>0</center></td>\n",
       "<td style=\"font-family:monospace;white-space: pre;\" title=\"(7, 5)\"><center>4</center></td>\n",
       "<td style=\"font-family:monospace;white-space: pre;\" title=\"(7, 6)\"><center>3</center></td>\n",
       "<td style=\"font-family:monospace;white-space: pre;\" title=\"(7, 7)\"><center>3</center></td>\n",
       "</tr>\n",
       "</table>"
      ],
      "text/plain": [
       "array([[1, 4, 4, 1, 4, 0, 4, 0],\n",
       "       [3, 3, 0, 1, 0, 2, 1, 2],\n",
       "       [4, 4, 2, 1, 2, 2, 3, 1],\n",
       "       [3, 4, 3, 2, 3, 0, 4, 2],\n",
       "       [2, 0, 2, 4, 3, 0, 1, 1],\n",
       "       [0, 1, 1, 3, 3, 0, 4, 4],\n",
       "       [4, 4, 4, 2, 0, 4, 0, 2],\n",
       "       [1, 0, 3, 1, 0, 4, 3, 3]])"
      ]
     },
     "execution_count": 16,
     "metadata": {},
     "output_type": "execute_result"
    }
   ],
   "source": [
    "# Create a 8x8 matrix of random numbers\n",
    "matrix1_3c = np.random.randint(0, 5, 64).reshape(8, 8)\n",
    "\n",
    "# Display the 8x8 matrix for 1.3c\n",
    "matrix1_3c"
   ]
  },
  {
   "cell_type": "code",
   "execution_count": 60,
   "metadata": {},
   "outputs": [
    {
     "data": {
      "text/html": [
       "<table style='border-style:solid;border-width:1px;'>\n",
       "<tr>\n",
       "<td style=\"font-family:monospace;white-space: pre;\" title=\"(0, 0)\"><center>1.83984123 </center></td>\n",
       "<td style=\"font-family:monospace;white-space: pre;\" title=\"(0, 1)\"><center>2.07550733 </center></td>\n",
       "<td style=\"font-family:monospace;white-space: pre;\" title=\"(0, 2)\"><center>0.2249396  </center></td>\n",
       "<td style=\"font-family:monospace;white-space: pre;\" title=\"(0, 3)\"><center>-0.81446074</center></td>\n",
       "<td style=\"font-family:monospace;white-space: pre;\" title=\"(0, 4)\"><center>-1.40110413</center></td>\n",
       "<td style=\"font-family:monospace;white-space: pre;\" title=\"(0, 5)\"><center>0.22419312 </center></td>\n",
       "<td style=\"font-family:monospace;white-space: pre;\" title=\"(0, 6)\"><center>-0.43116466</center></td>\n",
       "<td style=\"font-family:monospace;white-space: pre;\" title=\"(0, 7)\"><center>-0.76733342</center></td>\n",
       "</tr>\n",
       "<tr>\n",
       "<td style=\"font-family:monospace;white-space: pre;\" title=\"(1, 0)\"><center>-2.46288491</center></td>\n",
       "<td style=\"font-family:monospace;white-space: pre;\" title=\"(1, 1)\"><center>-0.97361958</center></td>\n",
       "<td style=\"font-family:monospace;white-space: pre;\" title=\"(1, 2)\"><center>-1.00204362</center></td>\n",
       "<td style=\"font-family:monospace;white-space: pre;\" title=\"(1, 3)\"><center>2.05608074 </center></td>\n",
       "<td style=\"font-family:monospace;white-space: pre;\" title=\"(1, 4)\"><center>2.27109927 </center></td>\n",
       "<td style=\"font-family:monospace;white-space: pre;\" title=\"(1, 5)\"><center>0.40277347 </center></td>\n",
       "<td style=\"font-family:monospace;white-space: pre;\" title=\"(1, 6)\"><center>-1.00808351</center></td>\n",
       "<td style=\"font-family:monospace;white-space: pre;\" title=\"(1, 7)\"><center>-0.79687479</center></td>\n",
       "</tr>\n",
       "<tr>\n",
       "<td style=\"font-family:monospace;white-space: pre;\" title=\"(2, 0)\"><center>-0.2706746 </center></td>\n",
       "<td style=\"font-family:monospace;white-space: pre;\" title=\"(2, 1)\"><center>-0.53378345</center></td>\n",
       "<td style=\"font-family:monospace;white-space: pre;\" title=\"(2, 2)\"><center>-0.91216261</center></td>\n",
       "<td style=\"font-family:monospace;white-space: pre;\" title=\"(2, 3)\"><center>1.13207128 </center></td>\n",
       "<td style=\"font-family:monospace;white-space: pre;\" title=\"(2, 4)\"><center>0.40207058 </center></td>\n",
       "<td style=\"font-family:monospace;white-space: pre;\" title=\"(2, 5)\"><center>1.44596908 </center></td>\n",
       "<td style=\"font-family:monospace;white-space: pre;\" title=\"(2, 6)\"><center>-2.12128087</center></td>\n",
       "<td style=\"font-family:monospace;white-space: pre;\" title=\"(2, 7)\"><center>-0.12957957</center></td>\n",
       "</tr>\n",
       "<tr>\n",
       "<td style=\"font-family:monospace;white-space: pre;\" title=\"(3, 0)\"><center>-1.14333116</center></td>\n",
       "<td style=\"font-family:monospace;white-space: pre;\" title=\"(3, 1)\"><center>-0.15345804</center></td>\n",
       "<td style=\"font-family:monospace;white-space: pre;\" title=\"(3, 2)\"><center>0.70908882 </center></td>\n",
       "<td style=\"font-family:monospace;white-space: pre;\" title=\"(3, 3)\"><center>-1.25923849</center></td>\n",
       "<td style=\"font-family:monospace;white-space: pre;\" title=\"(3, 4)\"><center>1.94337905 </center></td>\n",
       "<td style=\"font-family:monospace;white-space: pre;\" title=\"(3, 5)\"><center>1.01798181 </center></td>\n",
       "<td style=\"font-family:monospace;white-space: pre;\" title=\"(3, 6)\"><center>1.51870789 </center></td>\n",
       "<td style=\"font-family:monospace;white-space: pre;\" title=\"(3, 7)\"><center>-1.38175529</center></td>\n",
       "</tr>\n",
       "<tr>\n",
       "<td style=\"font-family:monospace;white-space: pre;\" title=\"(4, 0)\"><center>-0.27921409</center></td>\n",
       "<td style=\"font-family:monospace;white-space: pre;\" title=\"(4, 1)\"><center>1.16781353 </center></td>\n",
       "<td style=\"font-family:monospace;white-space: pre;\" title=\"(4, 2)\"><center>0.52268226 </center></td>\n",
       "<td style=\"font-family:monospace;white-space: pre;\" title=\"(4, 3)\"><center>-0.33512344</center></td>\n",
       "<td style=\"font-family:monospace;white-space: pre;\" title=\"(4, 4)\"><center>0.12204844 </center></td>\n",
       "<td style=\"font-family:monospace;white-space: pre;\" title=\"(4, 5)\"><center>-0.33114479</center></td>\n",
       "<td style=\"font-family:monospace;white-space: pre;\" title=\"(4, 6)\"><center>-0.14065512</center></td>\n",
       "<td style=\"font-family:monospace;white-space: pre;\" title=\"(4, 7)\"><center>1.3771914  </center></td>\n",
       "</tr>\n",
       "<tr>\n",
       "<td style=\"font-family:monospace;white-space: pre;\" title=\"(5, 0)\"><center>-2.32199873</center></td>\n",
       "<td style=\"font-family:monospace;white-space: pre;\" title=\"(5, 1)\"><center>-1.42092724</center></td>\n",
       "<td style=\"font-family:monospace;white-space: pre;\" title=\"(5, 2)\"><center>1.14700683 </center></td>\n",
       "<td style=\"font-family:monospace;white-space: pre;\" title=\"(5, 3)\"><center>-1.37879224</center></td>\n",
       "<td style=\"font-family:monospace;white-space: pre;\" title=\"(5, 4)\"><center>0.99532959 </center></td>\n",
       "<td style=\"font-family:monospace;white-space: pre;\" title=\"(5, 5)\"><center>0.99179651 </center></td>\n",
       "<td style=\"font-family:monospace;white-space: pre;\" title=\"(5, 6)\"><center>-0.01394581</center></td>\n",
       "<td style=\"font-family:monospace;white-space: pre;\" title=\"(5, 7)\"><center>1.0758963  </center></td>\n",
       "</tr>\n",
       "<tr>\n",
       "<td style=\"font-family:monospace;white-space: pre;\" title=\"(6, 0)\"><center>-0.9013437 </center></td>\n",
       "<td style=\"font-family:monospace;white-space: pre;\" title=\"(6, 1)\"><center>-0.52823966</center></td>\n",
       "<td style=\"font-family:monospace;white-space: pre;\" title=\"(6, 2)\"><center>-1.64405395</center></td>\n",
       "<td style=\"font-family:monospace;white-space: pre;\" title=\"(6, 3)\"><center>-0.67932581</center></td>\n",
       "<td style=\"font-family:monospace;white-space: pre;\" title=\"(6, 4)\"><center>-0.39463224</center></td>\n",
       "<td style=\"font-family:monospace;white-space: pre;\" title=\"(6, 5)\"><center>-0.88692744</center></td>\n",
       "<td style=\"font-family:monospace;white-space: pre;\" title=\"(6, 6)\"><center>-1.28175421</center></td>\n",
       "<td style=\"font-family:monospace;white-space: pre;\" title=\"(6, 7)\"><center>0.61804663 </center></td>\n",
       "</tr>\n",
       "<tr>\n",
       "<td style=\"font-family:monospace;white-space: pre;\" title=\"(7, 0)\"><center>1.43515773 </center></td>\n",
       "<td style=\"font-family:monospace;white-space: pre;\" title=\"(7, 1)\"><center>-0.10770209</center></td>\n",
       "<td style=\"font-family:monospace;white-space: pre;\" title=\"(7, 2)\"><center>0.98107218 </center></td>\n",
       "<td style=\"font-family:monospace;white-space: pre;\" title=\"(7, 3)\"><center>-1.30593642</center></td>\n",
       "<td style=\"font-family:monospace;white-space: pre;\" title=\"(7, 4)\"><center>0.40102996 </center></td>\n",
       "<td style=\"font-family:monospace;white-space: pre;\" title=\"(7, 5)\"><center>-0.13577736</center></td>\n",
       "<td style=\"font-family:monospace;white-space: pre;\" title=\"(7, 6)\"><center>0.66387625 </center></td>\n",
       "<td style=\"font-family:monospace;white-space: pre;\" title=\"(7, 7)\"><center>-1.8518061 </center></td>\n",
       "</tr>\n",
       "</table>"
      ],
      "text/plain": [
       "array([[ 1.83984123,  2.07550733,  0.2249396 , -0.81446074, -1.40110413,\n",
       "         0.22419312, -0.43116466, -0.76733342],\n",
       "       [-2.46288491, -0.97361958, -1.00204362,  2.05608074,  2.27109927,\n",
       "         0.40277347, -1.00808351, -0.79687479],\n",
       "       [-0.2706746 , -0.53378345, -0.91216261,  1.13207128,  0.40207058,\n",
       "         1.44596908, -2.12128087, -0.12957957],\n",
       "       [-1.14333116, -0.15345804,  0.70908882, -1.25923849,  1.94337905,\n",
       "         1.01798181,  1.51870789, -1.38175529],\n",
       "       [-0.27921409,  1.16781353,  0.52268226, -0.33512344,  0.12204844,\n",
       "        -0.33114479, -0.14065512,  1.3771914 ],\n",
       "       [-2.32199873, -1.42092724,  1.14700683, -1.37879224,  0.99532959,\n",
       "         0.99179651, -0.01394581,  1.0758963 ],\n",
       "       [-0.9013437 , -0.52823966, -1.64405395, -0.67932581, -0.39463224,\n",
       "        -0.88692744, -1.28175421,  0.61804663],\n",
       "       [ 1.43515773, -0.10770209,  0.98107218, -1.30593642,  0.40102996,\n",
       "        -0.13577736,  0.66387625, -1.8518061 ]])"
      ]
     },
     "execution_count": 60,
     "metadata": {},
     "output_type": "execute_result"
    }
   ],
   "source": [
    "# Create 8x8 matrix of random numbers by using standard normal distributions(values between -3 and 3)\n",
    "random_matrix1_3d = np.random.randn(3)\n",
    "random_matrix1_3d = np.random.randn(8, 8)\n",
    "\n",
    "# Display the 8x8 matrix for 1.3d\n",
    "random_matrix1_3d"
   ]
  },
  {
   "cell_type": "markdown",
   "metadata": {},
   "source": [
    "<h2>Exercise 1.4<h2>"
   ]
  },
  {
   "cell_type": "code",
   "execution_count": 18,
   "metadata": {},
   "outputs": [
    {
     "data": {
      "text/html": [
       "<table style='border-style:solid;border-width:1px;'>\n",
       "<tr>\n",
       "<td style=\"font-family:monospace;white-space: pre;\" title=\"(0, 0)\"><center>0.        </center></td>\n",
       "<td style=\"font-family:monospace;white-space: pre;\" title=\"(0, 1)\"><center>0.11111111</center></td>\n",
       "<td style=\"font-family:monospace;white-space: pre;\" title=\"(0, 2)\"><center>0.22222222</center></td>\n",
       "<td style=\"font-family:monospace;white-space: pre;\" title=\"(0, 3)\"><center>0.33333333</center></td>\n",
       "<td style=\"font-family:monospace;white-space: pre;\" title=\"(0, 4)\"><center>0.44444444</center></td>\n",
       "</tr>\n",
       "<tr>\n",
       "<td style=\"font-family:monospace;white-space: pre;\" title=\"(1, 0)\"><center>0.55555556</center></td>\n",
       "<td style=\"font-family:monospace;white-space: pre;\" title=\"(1, 1)\"><center>0.66666667</center></td>\n",
       "<td style=\"font-family:monospace;white-space: pre;\" title=\"(1, 2)\"><center>0.77777778</center></td>\n",
       "<td style=\"font-family:monospace;white-space: pre;\" title=\"(1, 3)\"><center>0.88888889</center></td>\n",
       "<td style=\"font-family:monospace;white-space: pre;\" title=\"(1, 4)\"><center>1.        </center></td>\n",
       "</tr>\n",
       "</table>"
      ],
      "text/plain": [
       "array([[0.        , 0.11111111, 0.22222222, 0.33333333, 0.44444444],\n",
       "       [0.55555556, 0.66666667, 0.77777778, 0.88888889, 1.        ]])"
      ]
     },
     "execution_count": 18,
     "metadata": {},
     "output_type": "execute_result"
    }
   ],
   "source": [
    "# Create array of 10 values between 0 and 1 with the help of linspace\n",
    "zero_to_one = np.linspace(0, 1, 10)\n",
    "zero_to_one_matrix = zero_to_one.reshape(2, 5)\n",
    "\n",
    "# Display the matrix\n",
    "zero_to_one_matrix"
   ]
  },
  {
   "cell_type": "code",
   "execution_count": 19,
   "metadata": {},
   "outputs": [
    {
     "data": {
      "text/html": [
       "<table style='border-style:solid;border-width:1px;'>\n",
       "<tr>\n",
       "<td style=\"font-family:monospace;white-space: pre;\" title=\"(0, 0)\"><center>0.        </center></td>\n",
       "<td style=\"font-family:monospace;white-space: pre;\" title=\"(0, 1)\"><center>0.05050505</center></td>\n",
       "<td style=\"font-family:monospace;white-space: pre;\" title=\"(0, 2)\"><center>0.1010101 </center></td>\n",
       "<td style=\"font-family:monospace;white-space: pre;\" title=\"(0, 3)\"><center>0.15151515</center></td>\n",
       "<td style=\"font-family:monospace;white-space: pre;\" title=\"(0, 4)\"><center>0.2020202 </center></td>\n",
       "<td style=\"font-family:monospace;white-space: pre;\" title=\"(0, 5)\"><center>0.25252525</center></td>\n",
       "<td style=\"font-family:monospace;white-space: pre;\" title=\"(0, 6)\"><center>0.3030303 </center></td>\n",
       "<td style=\"font-family:monospace;white-space: pre;\" title=\"(0, 7)\"><center>0.35353535</center></td>\n",
       "<td style=\"font-family:monospace;white-space: pre;\" title=\"(0, 8)\"><center>0.4040404 </center></td>\n",
       "<td style=\"font-family:monospace;white-space: pre;\" title=\"(0, 9)\"><center>0.45454545</center></td>\n",
       "</tr>\n",
       "<tr>\n",
       "<td style=\"font-family:monospace;white-space: pre;\" title=\"(1, 0)\"><center>0.50505051</center></td>\n",
       "<td style=\"font-family:monospace;white-space: pre;\" title=\"(1, 1)\"><center>0.55555556</center></td>\n",
       "<td style=\"font-family:monospace;white-space: pre;\" title=\"(1, 2)\"><center>0.60606061</center></td>\n",
       "<td style=\"font-family:monospace;white-space: pre;\" title=\"(1, 3)\"><center>0.65656566</center></td>\n",
       "<td style=\"font-family:monospace;white-space: pre;\" title=\"(1, 4)\"><center>0.70707071</center></td>\n",
       "<td style=\"font-family:monospace;white-space: pre;\" title=\"(1, 5)\"><center>0.75757576</center></td>\n",
       "<td style=\"font-family:monospace;white-space: pre;\" title=\"(1, 6)\"><center>0.80808081</center></td>\n",
       "<td style=\"font-family:monospace;white-space: pre;\" title=\"(1, 7)\"><center>0.85858586</center></td>\n",
       "<td style=\"font-family:monospace;white-space: pre;\" title=\"(1, 8)\"><center>0.90909091</center></td>\n",
       "<td style=\"font-family:monospace;white-space: pre;\" title=\"(1, 9)\"><center>0.95959596</center></td>\n",
       "</tr>\n",
       "<tr>\n",
       "<td style=\"font-family:monospace;white-space: pre;\" title=\"(2, 0)\"><center>1.01010101</center></td>\n",
       "<td style=\"font-family:monospace;white-space: pre;\" title=\"(2, 1)\"><center>1.06060606</center></td>\n",
       "<td style=\"font-family:monospace;white-space: pre;\" title=\"(2, 2)\"><center>1.11111111</center></td>\n",
       "<td style=\"font-family:monospace;white-space: pre;\" title=\"(2, 3)\"><center>1.16161616</center></td>\n",
       "<td style=\"font-family:monospace;white-space: pre;\" title=\"(2, 4)\"><center>1.21212121</center></td>\n",
       "<td style=\"font-family:monospace;white-space: pre;\" title=\"(2, 5)\"><center>1.26262626</center></td>\n",
       "<td style=\"font-family:monospace;white-space: pre;\" title=\"(2, 6)\"><center>1.31313131</center></td>\n",
       "<td style=\"font-family:monospace;white-space: pre;\" title=\"(2, 7)\"><center>1.36363636</center></td>\n",
       "<td style=\"font-family:monospace;white-space: pre;\" title=\"(2, 8)\"><center>1.41414141</center></td>\n",
       "<td style=\"font-family:monospace;white-space: pre;\" title=\"(2, 9)\"><center>1.46464646</center></td>\n",
       "</tr>\n",
       "<tr>\n",
       "<td style=\"font-family:monospace;white-space: pre;\" title=\"(3, 0)\"><center>1.51515152</center></td>\n",
       "<td style=\"font-family:monospace;white-space: pre;\" title=\"(3, 1)\"><center>1.56565657</center></td>\n",
       "<td style=\"font-family:monospace;white-space: pre;\" title=\"(3, 2)\"><center>1.61616162</center></td>\n",
       "<td style=\"font-family:monospace;white-space: pre;\" title=\"(3, 3)\"><center>1.66666667</center></td>\n",
       "<td style=\"font-family:monospace;white-space: pre;\" title=\"(3, 4)\"><center>1.71717172</center></td>\n",
       "<td style=\"font-family:monospace;white-space: pre;\" title=\"(3, 5)\"><center>1.76767677</center></td>\n",
       "<td style=\"font-family:monospace;white-space: pre;\" title=\"(3, 6)\"><center>1.81818182</center></td>\n",
       "<td style=\"font-family:monospace;white-space: pre;\" title=\"(3, 7)\"><center>1.86868687</center></td>\n",
       "<td style=\"font-family:monospace;white-space: pre;\" title=\"(3, 8)\"><center>1.91919192</center></td>\n",
       "<td style=\"font-family:monospace;white-space: pre;\" title=\"(3, 9)\"><center>1.96969697</center></td>\n",
       "</tr>\n",
       "<tr>\n",
       "<td style=\"font-family:monospace;white-space: pre;\" title=\"(4, 0)\"><center>2.02020202</center></td>\n",
       "<td style=\"font-family:monospace;white-space: pre;\" title=\"(4, 1)\"><center>2.07070707</center></td>\n",
       "<td style=\"font-family:monospace;white-space: pre;\" title=\"(4, 2)\"><center>2.12121212</center></td>\n",
       "<td style=\"font-family:monospace;white-space: pre;\" title=\"(4, 3)\"><center>2.17171717</center></td>\n",
       "<td style=\"font-family:monospace;white-space: pre;\" title=\"(4, 4)\"><center>2.22222222</center></td>\n",
       "<td style=\"font-family:monospace;white-space: pre;\" title=\"(4, 5)\"><center>2.27272727</center></td>\n",
       "<td style=\"font-family:monospace;white-space: pre;\" title=\"(4, 6)\"><center>2.32323232</center></td>\n",
       "<td style=\"font-family:monospace;white-space: pre;\" title=\"(4, 7)\"><center>2.37373737</center></td>\n",
       "<td style=\"font-family:monospace;white-space: pre;\" title=\"(4, 8)\"><center>2.42424242</center></td>\n",
       "<td style=\"font-family:monospace;white-space: pre;\" title=\"(4, 9)\"><center>2.47474747</center></td>\n",
       "</tr>\n",
       "<tr>\n",
       "<td style=\"font-family:monospace;white-space: pre;\" title=\"(5, 0)\"><center>2.52525253</center></td>\n",
       "<td style=\"font-family:monospace;white-space: pre;\" title=\"(5, 1)\"><center>2.57575758</center></td>\n",
       "<td style=\"font-family:monospace;white-space: pre;\" title=\"(5, 2)\"><center>2.62626263</center></td>\n",
       "<td style=\"font-family:monospace;white-space: pre;\" title=\"(5, 3)\"><center>2.67676768</center></td>\n",
       "<td style=\"font-family:monospace;white-space: pre;\" title=\"(5, 4)\"><center>2.72727273</center></td>\n",
       "<td style=\"font-family:monospace;white-space: pre;\" title=\"(5, 5)\"><center>2.77777778</center></td>\n",
       "<td style=\"font-family:monospace;white-space: pre;\" title=\"(5, 6)\"><center>2.82828283</center></td>\n",
       "<td style=\"font-family:monospace;white-space: pre;\" title=\"(5, 7)\"><center>2.87878788</center></td>\n",
       "<td style=\"font-family:monospace;white-space: pre;\" title=\"(5, 8)\"><center>2.92929293</center></td>\n",
       "<td style=\"font-family:monospace;white-space: pre;\" title=\"(5, 9)\"><center>2.97979798</center></td>\n",
       "</tr>\n",
       "<tr>\n",
       "<td style=\"font-family:monospace;white-space: pre;\" title=\"(6, 0)\"><center>3.03030303</center></td>\n",
       "<td style=\"font-family:monospace;white-space: pre;\" title=\"(6, 1)\"><center>3.08080808</center></td>\n",
       "<td style=\"font-family:monospace;white-space: pre;\" title=\"(6, 2)\"><center>3.13131313</center></td>\n",
       "<td style=\"font-family:monospace;white-space: pre;\" title=\"(6, 3)\"><center>3.18181818</center></td>\n",
       "<td style=\"font-family:monospace;white-space: pre;\" title=\"(6, 4)\"><center>3.23232323</center></td>\n",
       "<td style=\"font-family:monospace;white-space: pre;\" title=\"(6, 5)\"><center>3.28282828</center></td>\n",
       "<td style=\"font-family:monospace;white-space: pre;\" title=\"(6, 6)\"><center>3.33333333</center></td>\n",
       "<td style=\"font-family:monospace;white-space: pre;\" title=\"(6, 7)\"><center>3.38383838</center></td>\n",
       "<td style=\"font-family:monospace;white-space: pre;\" title=\"(6, 8)\"><center>3.43434343</center></td>\n",
       "<td style=\"font-family:monospace;white-space: pre;\" title=\"(6, 9)\"><center>3.48484848</center></td>\n",
       "</tr>\n",
       "<tr>\n",
       "<td style=\"font-family:monospace;white-space: pre;\" title=\"(7, 0)\"><center>3.53535354</center></td>\n",
       "<td style=\"font-family:monospace;white-space: pre;\" title=\"(7, 1)\"><center>3.58585859</center></td>\n",
       "<td style=\"font-family:monospace;white-space: pre;\" title=\"(7, 2)\"><center>3.63636364</center></td>\n",
       "<td style=\"font-family:monospace;white-space: pre;\" title=\"(7, 3)\"><center>3.68686869</center></td>\n",
       "<td style=\"font-family:monospace;white-space: pre;\" title=\"(7, 4)\"><center>3.73737374</center></td>\n",
       "<td style=\"font-family:monospace;white-space: pre;\" title=\"(7, 5)\"><center>3.78787879</center></td>\n",
       "<td style=\"font-family:monospace;white-space: pre;\" title=\"(7, 6)\"><center>3.83838384</center></td>\n",
       "<td style=\"font-family:monospace;white-space: pre;\" title=\"(7, 7)\"><center>3.88888889</center></td>\n",
       "<td style=\"font-family:monospace;white-space: pre;\" title=\"(7, 8)\"><center>3.93939394</center></td>\n",
       "<td style=\"font-family:monospace;white-space: pre;\" title=\"(7, 9)\"><center>3.98989899</center></td>\n",
       "</tr>\n",
       "<tr>\n",
       "<td style=\"font-family:monospace;white-space: pre;\" title=\"(8, 0)\"><center>4.04040404</center></td>\n",
       "<td style=\"font-family:monospace;white-space: pre;\" title=\"(8, 1)\"><center>4.09090909</center></td>\n",
       "<td style=\"font-family:monospace;white-space: pre;\" title=\"(8, 2)\"><center>4.14141414</center></td>\n",
       "<td style=\"font-family:monospace;white-space: pre;\" title=\"(8, 3)\"><center>4.19191919</center></td>\n",
       "<td style=\"font-family:monospace;white-space: pre;\" title=\"(8, 4)\"><center>4.24242424</center></td>\n",
       "<td style=\"font-family:monospace;white-space: pre;\" title=\"(8, 5)\"><center>4.29292929</center></td>\n",
       "<td style=\"font-family:monospace;white-space: pre;\" title=\"(8, 6)\"><center>4.34343434</center></td>\n",
       "<td style=\"font-family:monospace;white-space: pre;\" title=\"(8, 7)\"><center>4.39393939</center></td>\n",
       "<td style=\"font-family:monospace;white-space: pre;\" title=\"(8, 8)\"><center>4.44444444</center></td>\n",
       "<td style=\"font-family:monospace;white-space: pre;\" title=\"(8, 9)\"><center>4.49494949</center></td>\n",
       "</tr>\n",
       "<tr>\n",
       "<td style=\"font-family:monospace;white-space: pre;\" title=\"(9, 0)\"><center>4.54545455</center></td>\n",
       "<td style=\"font-family:monospace;white-space: pre;\" title=\"(9, 1)\"><center>4.5959596 </center></td>\n",
       "<td style=\"font-family:monospace;white-space: pre;\" title=\"(9, 2)\"><center>4.64646465</center></td>\n",
       "<td style=\"font-family:monospace;white-space: pre;\" title=\"(9, 3)\"><center>4.6969697 </center></td>\n",
       "<td style=\"font-family:monospace;white-space: pre;\" title=\"(9, 4)\"><center>4.74747475</center></td>\n",
       "<td style=\"font-family:monospace;white-space: pre;\" title=\"(9, 5)\"><center>4.7979798 </center></td>\n",
       "<td style=\"font-family:monospace;white-space: pre;\" title=\"(9, 6)\"><center>4.84848485</center></td>\n",
       "<td style=\"font-family:monospace;white-space: pre;\" title=\"(9, 7)\"><center>4.8989899 </center></td>\n",
       "<td style=\"font-family:monospace;white-space: pre;\" title=\"(9, 8)\"><center>4.94949495</center></td>\n",
       "<td style=\"font-family:monospace;white-space: pre;\" title=\"(9, 9)\"><center>5.        </center></td>\n",
       "</tr>\n",
       "</table>"
      ],
      "text/plain": [
       "array([[0.        , 0.05050505, 0.1010101 , 0.15151515, 0.2020202 ,\n",
       "        0.25252525, 0.3030303 , 0.35353535, 0.4040404 , 0.45454545],\n",
       "       [0.50505051, 0.55555556, 0.60606061, 0.65656566, 0.70707071,\n",
       "        0.75757576, 0.80808081, 0.85858586, 0.90909091, 0.95959596],\n",
       "       [1.01010101, 1.06060606, 1.11111111, 1.16161616, 1.21212121,\n",
       "        1.26262626, 1.31313131, 1.36363636, 1.41414141, 1.46464646],\n",
       "       [1.51515152, 1.56565657, 1.61616162, 1.66666667, 1.71717172,\n",
       "        1.76767677, 1.81818182, 1.86868687, 1.91919192, 1.96969697],\n",
       "       [2.02020202, 2.07070707, 2.12121212, 2.17171717, 2.22222222,\n",
       "        2.27272727, 2.32323232, 2.37373737, 2.42424242, 2.47474747],\n",
       "       [2.52525253, 2.57575758, 2.62626263, 2.67676768, 2.72727273,\n",
       "        2.77777778, 2.82828283, 2.87878788, 2.92929293, 2.97979798],\n",
       "       [3.03030303, 3.08080808, 3.13131313, 3.18181818, 3.23232323,\n",
       "        3.28282828, 3.33333333, 3.38383838, 3.43434343, 3.48484848],\n",
       "       [3.53535354, 3.58585859, 3.63636364, 3.68686869, 3.73737374,\n",
       "        3.78787879, 3.83838384, 3.88888889, 3.93939394, 3.98989899],\n",
       "       [4.04040404, 4.09090909, 4.14141414, 4.19191919, 4.24242424,\n",
       "        4.29292929, 4.34343434, 4.39393939, 4.44444444, 4.49494949],\n",
       "       [4.54545455, 4.5959596 , 4.64646465, 4.6969697 , 4.74747475,\n",
       "        4.7979798 , 4.84848485, 4.8989899 , 4.94949495, 5.        ]])"
      ]
     },
     "execution_count": 19,
     "metadata": {},
     "output_type": "execute_result"
    }
   ],
   "source": [
    "# Create a 10x10 matrix of all values between 0 and 5 by using linspace\n",
    "one_to_five = np.linspace(0, 5, 100)\n",
    "one_to_five_matrix = one_to_five.reshape(10, 10)\n",
    "\n",
    "# Display the matrix\n",
    "one_to_five_matrix"
   ]
  },
  {
   "cell_type": "markdown",
   "metadata": {},
   "source": [
    "<h2>Exercise 1.5<h2>"
   ]
  },
  {
   "cell_type": "code",
   "execution_count": 49,
   "metadata": {},
   "outputs": [
    {
     "name": "stdout",
     "output_type": "stream",
     "text": [
      "(3, 5)\n"
     ]
    },
    {
     "data": {
      "text/html": [
       "<table style='border-style:solid;border-width:1px;'>\n",
       "<tr>\n",
       "<td style=\"font-family:monospace;white-space: pre;\" title=\"(0, 0)\"><center>23</center></td>\n",
       "<td style=\"font-family:monospace;white-space: pre;\" title=\"(0, 1)\"><center>34</center></td>\n",
       "<td style=\"font-family:monospace;white-space: pre;\" title=\"(0, 2)\"><center>54</center></td>\n",
       "<td style=\"font-family:monospace;white-space: pre;\" title=\"(0, 3)\"><center>31</center></td>\n",
       "<td style=\"font-family:monospace;white-space: pre;\" title=\"(0, 4)\"><center>75</center></td>\n",
       "</tr>\n",
       "<tr>\n",
       "<td style=\"font-family:monospace;white-space: pre;\" title=\"(1, 0)\"><center>33</center></td>\n",
       "<td style=\"font-family:monospace;white-space: pre;\" title=\"(1, 1)\"><center>56</center></td>\n",
       "<td style=\"font-family:monospace;white-space: pre;\" title=\"(1, 2)\"><center>78</center></td>\n",
       "<td style=\"font-family:monospace;white-space: pre;\" title=\"(1, 3)\"><center>65</center></td>\n",
       "<td style=\"font-family:monospace;white-space: pre;\" title=\"(1, 4)\"><center>97</center></td>\n",
       "</tr>\n",
       "<tr>\n",
       "<td style=\"font-family:monospace;white-space: pre;\" title=\"(2, 0)\"><center>41</center></td>\n",
       "<td style=\"font-family:monospace;white-space: pre;\" title=\"(2, 1)\"><center>32</center></td>\n",
       "<td style=\"font-family:monospace;white-space: pre;\" title=\"(2, 2)\"><center>11</center></td>\n",
       "<td style=\"font-family:monospace;white-space: pre;\" title=\"(2, 3)\"><center>39</center></td>\n",
       "<td style=\"font-family:monospace;white-space: pre;\" title=\"(2, 4)\"><center>51</center></td>\n",
       "</tr>\n",
       "</table>"
      ],
      "text/plain": [
       "array([[23, 34, 54, 31, 75],\n",
       "       [33, 56, 78, 65, 97],\n",
       "       [41, 32, 11, 39, 51]])"
      ]
     },
     "execution_count": 49,
     "metadata": {},
     "output_type": "execute_result"
    }
   ],
   "source": [
    "# Create a 3x5 matrix from values(23, 34, 54, 75, 33, 56, 78, 65, 97, 41, 32, 11, 39, 51)\n",
    "numbers_1_5a = ([23, 34, 54, 31, 75, 33, 56, 78, 65, 97, 41, 32, 11, 39, 51])\n",
    "array_1_5a = np.array(numbers_1_5a).reshape(3, 5)\n",
    "\n",
    "# Display the matrix\n",
    "print(\"(3, 5)\")\n",
    "array_1_5a"
   ]
  },
  {
   "cell_type": "code",
   "execution_count": 48,
   "metadata": {},
   "outputs": [
    {
     "name": "stdout",
     "output_type": "stream",
     "text": [
      "(8, 16)\n"
     ]
    },
    {
     "data": {
      "text/html": [
       "<table style='border-style:solid;border-width:1px;'>\n",
       "<tr>\n",
       "<td style=\"font-family:monospace;white-space: pre;\" title=\"(0, 0)\"><center>128</center></td>\n",
       "<td style=\"font-family:monospace;white-space: pre;\" title=\"(0, 1)\"><center>129</center></td>\n",
       "<td style=\"font-family:monospace;white-space: pre;\" title=\"(0, 2)\"><center>130</center></td>\n",
       "<td style=\"font-family:monospace;white-space: pre;\" title=\"(0, 3)\"><center>131</center></td>\n",
       "<td style=\"font-family:monospace;white-space: pre;\" title=\"(0, 4)\"><center>132</center></td>\n",
       "<td style=\"font-family:monospace;white-space: pre;\" title=\"(0, 5)\"><center>133</center></td>\n",
       "<td style=\"font-family:monospace;white-space: pre;\" title=\"(0, 6)\"><center>134</center></td>\n",
       "<td style=\"font-family:monospace;white-space: pre;\" title=\"(0, 7)\"><center>135</center></td>\n",
       "<td style=\"font-family:monospace;white-space: pre;\" title=\"(0, 8)\"><center>136</center></td>\n",
       "<td style=\"font-family:monospace;white-space: pre;\" title=\"(0, 9)\"><center>137</center></td>\n",
       "<td style=\"font-family:monospace;white-space: pre;\" title=\"(0, 10)\"><center>138</center></td>\n",
       "<td style=\"font-family:monospace;white-space: pre;\" title=\"(0, 11)\"><center>139</center></td>\n",
       "<td style=\"font-family:monospace;white-space: pre;\" title=\"(0, 12)\"><center>140</center></td>\n",
       "<td style=\"font-family:monospace;white-space: pre;\" title=\"(0, 13)\"><center>141</center></td>\n",
       "<td style=\"font-family:monospace;white-space: pre;\" title=\"(0, 14)\"><center>142</center></td>\n",
       "<td style=\"font-family:monospace;white-space: pre;\" title=\"(0, 15)\"><center>143</center></td>\n",
       "</tr>\n",
       "<tr>\n",
       "<td style=\"font-family:monospace;white-space: pre;\" title=\"(1, 0)\"><center>144</center></td>\n",
       "<td style=\"font-family:monospace;white-space: pre;\" title=\"(1, 1)\"><center>145</center></td>\n",
       "<td style=\"font-family:monospace;white-space: pre;\" title=\"(1, 2)\"><center>146</center></td>\n",
       "<td style=\"font-family:monospace;white-space: pre;\" title=\"(1, 3)\"><center>147</center></td>\n",
       "<td style=\"font-family:monospace;white-space: pre;\" title=\"(1, 4)\"><center>148</center></td>\n",
       "<td style=\"font-family:monospace;white-space: pre;\" title=\"(1, 5)\"><center>149</center></td>\n",
       "<td style=\"font-family:monospace;white-space: pre;\" title=\"(1, 6)\"><center>150</center></td>\n",
       "<td style=\"font-family:monospace;white-space: pre;\" title=\"(1, 7)\"><center>151</center></td>\n",
       "<td style=\"font-family:monospace;white-space: pre;\" title=\"(1, 8)\"><center>152</center></td>\n",
       "<td style=\"font-family:monospace;white-space: pre;\" title=\"(1, 9)\"><center>153</center></td>\n",
       "<td style=\"font-family:monospace;white-space: pre;\" title=\"(1, 10)\"><center>154</center></td>\n",
       "<td style=\"font-family:monospace;white-space: pre;\" title=\"(1, 11)\"><center>155</center></td>\n",
       "<td style=\"font-family:monospace;white-space: pre;\" title=\"(1, 12)\"><center>156</center></td>\n",
       "<td style=\"font-family:monospace;white-space: pre;\" title=\"(1, 13)\"><center>157</center></td>\n",
       "<td style=\"font-family:monospace;white-space: pre;\" title=\"(1, 14)\"><center>158</center></td>\n",
       "<td style=\"font-family:monospace;white-space: pre;\" title=\"(1, 15)\"><center>159</center></td>\n",
       "</tr>\n",
       "<tr>\n",
       "<td style=\"font-family:monospace;white-space: pre;\" title=\"(2, 0)\"><center>160</center></td>\n",
       "<td style=\"font-family:monospace;white-space: pre;\" title=\"(2, 1)\"><center>161</center></td>\n",
       "<td style=\"font-family:monospace;white-space: pre;\" title=\"(2, 2)\"><center>162</center></td>\n",
       "<td style=\"font-family:monospace;white-space: pre;\" title=\"(2, 3)\"><center>163</center></td>\n",
       "<td style=\"font-family:monospace;white-space: pre;\" title=\"(2, 4)\"><center>164</center></td>\n",
       "<td style=\"font-family:monospace;white-space: pre;\" title=\"(2, 5)\"><center>165</center></td>\n",
       "<td style=\"font-family:monospace;white-space: pre;\" title=\"(2, 6)\"><center>166</center></td>\n",
       "<td style=\"font-family:monospace;white-space: pre;\" title=\"(2, 7)\"><center>167</center></td>\n",
       "<td style=\"font-family:monospace;white-space: pre;\" title=\"(2, 8)\"><center>168</center></td>\n",
       "<td style=\"font-family:monospace;white-space: pre;\" title=\"(2, 9)\"><center>169</center></td>\n",
       "<td style=\"font-family:monospace;white-space: pre;\" title=\"(2, 10)\"><center>170</center></td>\n",
       "<td style=\"font-family:monospace;white-space: pre;\" title=\"(2, 11)\"><center>171</center></td>\n",
       "<td style=\"font-family:monospace;white-space: pre;\" title=\"(2, 12)\"><center>172</center></td>\n",
       "<td style=\"font-family:monospace;white-space: pre;\" title=\"(2, 13)\"><center>173</center></td>\n",
       "<td style=\"font-family:monospace;white-space: pre;\" title=\"(2, 14)\"><center>174</center></td>\n",
       "<td style=\"font-family:monospace;white-space: pre;\" title=\"(2, 15)\"><center>175</center></td>\n",
       "</tr>\n",
       "<tr>\n",
       "<td style=\"font-family:monospace;white-space: pre;\" title=\"(3, 0)\"><center>176</center></td>\n",
       "<td style=\"font-family:monospace;white-space: pre;\" title=\"(3, 1)\"><center>177</center></td>\n",
       "<td style=\"font-family:monospace;white-space: pre;\" title=\"(3, 2)\"><center>178</center></td>\n",
       "<td style=\"font-family:monospace;white-space: pre;\" title=\"(3, 3)\"><center>179</center></td>\n",
       "<td style=\"font-family:monospace;white-space: pre;\" title=\"(3, 4)\"><center>180</center></td>\n",
       "<td style=\"font-family:monospace;white-space: pre;\" title=\"(3, 5)\"><center>181</center></td>\n",
       "<td style=\"font-family:monospace;white-space: pre;\" title=\"(3, 6)\"><center>182</center></td>\n",
       "<td style=\"font-family:monospace;white-space: pre;\" title=\"(3, 7)\"><center>183</center></td>\n",
       "<td style=\"font-family:monospace;white-space: pre;\" title=\"(3, 8)\"><center>184</center></td>\n",
       "<td style=\"font-family:monospace;white-space: pre;\" title=\"(3, 9)\"><center>185</center></td>\n",
       "<td style=\"font-family:monospace;white-space: pre;\" title=\"(3, 10)\"><center>186</center></td>\n",
       "<td style=\"font-family:monospace;white-space: pre;\" title=\"(3, 11)\"><center>187</center></td>\n",
       "<td style=\"font-family:monospace;white-space: pre;\" title=\"(3, 12)\"><center>188</center></td>\n",
       "<td style=\"font-family:monospace;white-space: pre;\" title=\"(3, 13)\"><center>189</center></td>\n",
       "<td style=\"font-family:monospace;white-space: pre;\" title=\"(3, 14)\"><center>190</center></td>\n",
       "<td style=\"font-family:monospace;white-space: pre;\" title=\"(3, 15)\"><center>191</center></td>\n",
       "</tr>\n",
       "<tr>\n",
       "<td style=\"font-family:monospace;white-space: pre;\" title=\"(4, 0)\"><center>192</center></td>\n",
       "<td style=\"font-family:monospace;white-space: pre;\" title=\"(4, 1)\"><center>193</center></td>\n",
       "<td style=\"font-family:monospace;white-space: pre;\" title=\"(4, 2)\"><center>194</center></td>\n",
       "<td style=\"font-family:monospace;white-space: pre;\" title=\"(4, 3)\"><center>195</center></td>\n",
       "<td style=\"font-family:monospace;white-space: pre;\" title=\"(4, 4)\"><center>196</center></td>\n",
       "<td style=\"font-family:monospace;white-space: pre;\" title=\"(4, 5)\"><center>197</center></td>\n",
       "<td style=\"font-family:monospace;white-space: pre;\" title=\"(4, 6)\"><center>198</center></td>\n",
       "<td style=\"font-family:monospace;white-space: pre;\" title=\"(4, 7)\"><center>199</center></td>\n",
       "<td style=\"font-family:monospace;white-space: pre;\" title=\"(4, 8)\"><center>200</center></td>\n",
       "<td style=\"font-family:monospace;white-space: pre;\" title=\"(4, 9)\"><center>201</center></td>\n",
       "<td style=\"font-family:monospace;white-space: pre;\" title=\"(4, 10)\"><center>202</center></td>\n",
       "<td style=\"font-family:monospace;white-space: pre;\" title=\"(4, 11)\"><center>203</center></td>\n",
       "<td style=\"font-family:monospace;white-space: pre;\" title=\"(4, 12)\"><center>204</center></td>\n",
       "<td style=\"font-family:monospace;white-space: pre;\" title=\"(4, 13)\"><center>205</center></td>\n",
       "<td style=\"font-family:monospace;white-space: pre;\" title=\"(4, 14)\"><center>206</center></td>\n",
       "<td style=\"font-family:monospace;white-space: pre;\" title=\"(4, 15)\"><center>207</center></td>\n",
       "</tr>\n",
       "<tr>\n",
       "<td style=\"font-family:monospace;white-space: pre;\" title=\"(5, 0)\"><center>208</center></td>\n",
       "<td style=\"font-family:monospace;white-space: pre;\" title=\"(5, 1)\"><center>209</center></td>\n",
       "<td style=\"font-family:monospace;white-space: pre;\" title=\"(5, 2)\"><center>210</center></td>\n",
       "<td style=\"font-family:monospace;white-space: pre;\" title=\"(5, 3)\"><center>211</center></td>\n",
       "<td style=\"font-family:monospace;white-space: pre;\" title=\"(5, 4)\"><center>212</center></td>\n",
       "<td style=\"font-family:monospace;white-space: pre;\" title=\"(5, 5)\"><center>213</center></td>\n",
       "<td style=\"font-family:monospace;white-space: pre;\" title=\"(5, 6)\"><center>214</center></td>\n",
       "<td style=\"font-family:monospace;white-space: pre;\" title=\"(5, 7)\"><center>215</center></td>\n",
       "<td style=\"font-family:monospace;white-space: pre;\" title=\"(5, 8)\"><center>216</center></td>\n",
       "<td style=\"font-family:monospace;white-space: pre;\" title=\"(5, 9)\"><center>217</center></td>\n",
       "<td style=\"font-family:monospace;white-space: pre;\" title=\"(5, 10)\"><center>218</center></td>\n",
       "<td style=\"font-family:monospace;white-space: pre;\" title=\"(5, 11)\"><center>219</center></td>\n",
       "<td style=\"font-family:monospace;white-space: pre;\" title=\"(5, 12)\"><center>220</center></td>\n",
       "<td style=\"font-family:monospace;white-space: pre;\" title=\"(5, 13)\"><center>221</center></td>\n",
       "<td style=\"font-family:monospace;white-space: pre;\" title=\"(5, 14)\"><center>222</center></td>\n",
       "<td style=\"font-family:monospace;white-space: pre;\" title=\"(5, 15)\"><center>223</center></td>\n",
       "</tr>\n",
       "<tr>\n",
       "<td style=\"font-family:monospace;white-space: pre;\" title=\"(6, 0)\"><center>224</center></td>\n",
       "<td style=\"font-family:monospace;white-space: pre;\" title=\"(6, 1)\"><center>225</center></td>\n",
       "<td style=\"font-family:monospace;white-space: pre;\" title=\"(6, 2)\"><center>226</center></td>\n",
       "<td style=\"font-family:monospace;white-space: pre;\" title=\"(6, 3)\"><center>227</center></td>\n",
       "<td style=\"font-family:monospace;white-space: pre;\" title=\"(6, 4)\"><center>228</center></td>\n",
       "<td style=\"font-family:monospace;white-space: pre;\" title=\"(6, 5)\"><center>229</center></td>\n",
       "<td style=\"font-family:monospace;white-space: pre;\" title=\"(6, 6)\"><center>230</center></td>\n",
       "<td style=\"font-family:monospace;white-space: pre;\" title=\"(6, 7)\"><center>231</center></td>\n",
       "<td style=\"font-family:monospace;white-space: pre;\" title=\"(6, 8)\"><center>232</center></td>\n",
       "<td style=\"font-family:monospace;white-space: pre;\" title=\"(6, 9)\"><center>233</center></td>\n",
       "<td style=\"font-family:monospace;white-space: pre;\" title=\"(6, 10)\"><center>234</center></td>\n",
       "<td style=\"font-family:monospace;white-space: pre;\" title=\"(6, 11)\"><center>235</center></td>\n",
       "<td style=\"font-family:monospace;white-space: pre;\" title=\"(6, 12)\"><center>236</center></td>\n",
       "<td style=\"font-family:monospace;white-space: pre;\" title=\"(6, 13)\"><center>237</center></td>\n",
       "<td style=\"font-family:monospace;white-space: pre;\" title=\"(6, 14)\"><center>238</center></td>\n",
       "<td style=\"font-family:monospace;white-space: pre;\" title=\"(6, 15)\"><center>239</center></td>\n",
       "</tr>\n",
       "<tr>\n",
       "<td style=\"font-family:monospace;white-space: pre;\" title=\"(7, 0)\"><center>240</center></td>\n",
       "<td style=\"font-family:monospace;white-space: pre;\" title=\"(7, 1)\"><center>241</center></td>\n",
       "<td style=\"font-family:monospace;white-space: pre;\" title=\"(7, 2)\"><center>242</center></td>\n",
       "<td style=\"font-family:monospace;white-space: pre;\" title=\"(7, 3)\"><center>243</center></td>\n",
       "<td style=\"font-family:monospace;white-space: pre;\" title=\"(7, 4)\"><center>244</center></td>\n",
       "<td style=\"font-family:monospace;white-space: pre;\" title=\"(7, 5)\"><center>245</center></td>\n",
       "<td style=\"font-family:monospace;white-space: pre;\" title=\"(7, 6)\"><center>246</center></td>\n",
       "<td style=\"font-family:monospace;white-space: pre;\" title=\"(7, 7)\"><center>247</center></td>\n",
       "<td style=\"font-family:monospace;white-space: pre;\" title=\"(7, 8)\"><center>248</center></td>\n",
       "<td style=\"font-family:monospace;white-space: pre;\" title=\"(7, 9)\"><center>249</center></td>\n",
       "<td style=\"font-family:monospace;white-space: pre;\" title=\"(7, 10)\"><center>250</center></td>\n",
       "<td style=\"font-family:monospace;white-space: pre;\" title=\"(7, 11)\"><center>251</center></td>\n",
       "<td style=\"font-family:monospace;white-space: pre;\" title=\"(7, 12)\"><center>252</center></td>\n",
       "<td style=\"font-family:monospace;white-space: pre;\" title=\"(7, 13)\"><center>253</center></td>\n",
       "<td style=\"font-family:monospace;white-space: pre;\" title=\"(7, 14)\"><center>254</center></td>\n",
       "<td style=\"font-family:monospace;white-space: pre;\" title=\"(7, 15)\"><center>255</center></td>\n",
       "</tr>\n",
       "</table>"
      ],
      "text/plain": [
       "array([[128, 129, 130, 131, 132, 133, 134, 135, 136, 137, 138, 139, 140,\n",
       "        141, 142, 143],\n",
       "       [144, 145, 146, 147, 148, 149, 150, 151, 152, 153, 154, 155, 156,\n",
       "        157, 158, 159],\n",
       "       [160, 161, 162, 163, 164, 165, 166, 167, 168, 169, 170, 171, 172,\n",
       "        173, 174, 175],\n",
       "       [176, 177, 178, 179, 180, 181, 182, 183, 184, 185, 186, 187, 188,\n",
       "        189, 190, 191],\n",
       "       [192, 193, 194, 195, 196, 197, 198, 199, 200, 201, 202, 203, 204,\n",
       "        205, 206, 207],\n",
       "       [208, 209, 210, 211, 212, 213, 214, 215, 216, 217, 218, 219, 220,\n",
       "        221, 222, 223],\n",
       "       [224, 225, 226, 227, 228, 229, 230, 231, 232, 233, 234, 235, 236,\n",
       "        237, 238, 239],\n",
       "       [240, 241, 242, 243, 244, 245, 246, 247, 248, 249, 250, 251, 252,\n",
       "        253, 254, 255]])"
      ]
     },
     "execution_count": 48,
     "metadata": {},
     "output_type": "execute_result"
    }
   ],
   "source": [
    "# Create a 8x16 matrix from values between  128-256\n",
    "matrix1_5b = np.arange(128, 256).reshape(8, 16)\n",
    "\n",
    "# Display the matrix\n",
    "print(\"(8, 16)\")\n",
    "matrix1_5b"
   ]
  },
  {
   "cell_type": "code",
   "execution_count": 47,
   "metadata": {},
   "outputs": [
    {
     "name": "stdout",
     "output_type": "stream",
     "text": [
      "(10, 10)\n"
     ]
    },
    {
     "data": {
      "text/html": [
       "<table style='border-style:solid;border-width:1px;'>\n",
       "<tr>\n",
       "<td style=\"font-family:monospace;white-space: pre;\" title=\"(0, 0)\"><center>0.05</center></td>\n",
       "<td style=\"font-family:monospace;white-space: pre;\" title=\"(0, 1)\"><center>0.1 </center></td>\n",
       "<td style=\"font-family:monospace;white-space: pre;\" title=\"(0, 2)\"><center>0.15</center></td>\n",
       "<td style=\"font-family:monospace;white-space: pre;\" title=\"(0, 3)\"><center>0.2 </center></td>\n",
       "<td style=\"font-family:monospace;white-space: pre;\" title=\"(0, 4)\"><center>0.25</center></td>\n",
       "<td style=\"font-family:monospace;white-space: pre;\" title=\"(0, 5)\"><center>0.3 </center></td>\n",
       "<td style=\"font-family:monospace;white-space: pre;\" title=\"(0, 6)\"><center>0.35</center></td>\n",
       "<td style=\"font-family:monospace;white-space: pre;\" title=\"(0, 7)\"><center>0.4 </center></td>\n",
       "<td style=\"font-family:monospace;white-space: pre;\" title=\"(0, 8)\"><center>0.45</center></td>\n",
       "<td style=\"font-family:monospace;white-space: pre;\" title=\"(0, 9)\"><center>0.5 </center></td>\n",
       "</tr>\n",
       "<tr>\n",
       "<td style=\"font-family:monospace;white-space: pre;\" title=\"(1, 0)\"><center>0.55</center></td>\n",
       "<td style=\"font-family:monospace;white-space: pre;\" title=\"(1, 1)\"><center>0.6 </center></td>\n",
       "<td style=\"font-family:monospace;white-space: pre;\" title=\"(1, 2)\"><center>0.65</center></td>\n",
       "<td style=\"font-family:monospace;white-space: pre;\" title=\"(1, 3)\"><center>0.7 </center></td>\n",
       "<td style=\"font-family:monospace;white-space: pre;\" title=\"(1, 4)\"><center>0.75</center></td>\n",
       "<td style=\"font-family:monospace;white-space: pre;\" title=\"(1, 5)\"><center>0.8 </center></td>\n",
       "<td style=\"font-family:monospace;white-space: pre;\" title=\"(1, 6)\"><center>0.85</center></td>\n",
       "<td style=\"font-family:monospace;white-space: pre;\" title=\"(1, 7)\"><center>0.9 </center></td>\n",
       "<td style=\"font-family:monospace;white-space: pre;\" title=\"(1, 8)\"><center>0.95</center></td>\n",
       "<td style=\"font-family:monospace;white-space: pre;\" title=\"(1, 9)\"><center>1.  </center></td>\n",
       "</tr>\n",
       "<tr>\n",
       "<td style=\"font-family:monospace;white-space: pre;\" title=\"(2, 0)\"><center>1.05</center></td>\n",
       "<td style=\"font-family:monospace;white-space: pre;\" title=\"(2, 1)\"><center>1.1 </center></td>\n",
       "<td style=\"font-family:monospace;white-space: pre;\" title=\"(2, 2)\"><center>1.15</center></td>\n",
       "<td style=\"font-family:monospace;white-space: pre;\" title=\"(2, 3)\"><center>1.2 </center></td>\n",
       "<td style=\"font-family:monospace;white-space: pre;\" title=\"(2, 4)\"><center>1.25</center></td>\n",
       "<td style=\"font-family:monospace;white-space: pre;\" title=\"(2, 5)\"><center>1.3 </center></td>\n",
       "<td style=\"font-family:monospace;white-space: pre;\" title=\"(2, 6)\"><center>1.35</center></td>\n",
       "<td style=\"font-family:monospace;white-space: pre;\" title=\"(2, 7)\"><center>1.4 </center></td>\n",
       "<td style=\"font-family:monospace;white-space: pre;\" title=\"(2, 8)\"><center>1.45</center></td>\n",
       "<td style=\"font-family:monospace;white-space: pre;\" title=\"(2, 9)\"><center>1.5 </center></td>\n",
       "</tr>\n",
       "<tr>\n",
       "<td style=\"font-family:monospace;white-space: pre;\" title=\"(3, 0)\"><center>1.55</center></td>\n",
       "<td style=\"font-family:monospace;white-space: pre;\" title=\"(3, 1)\"><center>1.6 </center></td>\n",
       "<td style=\"font-family:monospace;white-space: pre;\" title=\"(3, 2)\"><center>1.65</center></td>\n",
       "<td style=\"font-family:monospace;white-space: pre;\" title=\"(3, 3)\"><center>1.7 </center></td>\n",
       "<td style=\"font-family:monospace;white-space: pre;\" title=\"(3, 4)\"><center>1.75</center></td>\n",
       "<td style=\"font-family:monospace;white-space: pre;\" title=\"(3, 5)\"><center>1.8 </center></td>\n",
       "<td style=\"font-family:monospace;white-space: pre;\" title=\"(3, 6)\"><center>1.85</center></td>\n",
       "<td style=\"font-family:monospace;white-space: pre;\" title=\"(3, 7)\"><center>1.9 </center></td>\n",
       "<td style=\"font-family:monospace;white-space: pre;\" title=\"(3, 8)\"><center>1.95</center></td>\n",
       "<td style=\"font-family:monospace;white-space: pre;\" title=\"(3, 9)\"><center>2.  </center></td>\n",
       "</tr>\n",
       "<tr>\n",
       "<td style=\"font-family:monospace;white-space: pre;\" title=\"(4, 0)\"><center>2.05</center></td>\n",
       "<td style=\"font-family:monospace;white-space: pre;\" title=\"(4, 1)\"><center>2.1 </center></td>\n",
       "<td style=\"font-family:monospace;white-space: pre;\" title=\"(4, 2)\"><center>2.15</center></td>\n",
       "<td style=\"font-family:monospace;white-space: pre;\" title=\"(4, 3)\"><center>2.2 </center></td>\n",
       "<td style=\"font-family:monospace;white-space: pre;\" title=\"(4, 4)\"><center>2.25</center></td>\n",
       "<td style=\"font-family:monospace;white-space: pre;\" title=\"(4, 5)\"><center>2.3 </center></td>\n",
       "<td style=\"font-family:monospace;white-space: pre;\" title=\"(4, 6)\"><center>2.35</center></td>\n",
       "<td style=\"font-family:monospace;white-space: pre;\" title=\"(4, 7)\"><center>2.4 </center></td>\n",
       "<td style=\"font-family:monospace;white-space: pre;\" title=\"(4, 8)\"><center>2.45</center></td>\n",
       "<td style=\"font-family:monospace;white-space: pre;\" title=\"(4, 9)\"><center>2.5 </center></td>\n",
       "</tr>\n",
       "<tr>\n",
       "<td style=\"font-family:monospace;white-space: pre;\" title=\"(5, 0)\"><center>2.55</center></td>\n",
       "<td style=\"font-family:monospace;white-space: pre;\" title=\"(5, 1)\"><center>2.6 </center></td>\n",
       "<td style=\"font-family:monospace;white-space: pre;\" title=\"(5, 2)\"><center>2.65</center></td>\n",
       "<td style=\"font-family:monospace;white-space: pre;\" title=\"(5, 3)\"><center>2.7 </center></td>\n",
       "<td style=\"font-family:monospace;white-space: pre;\" title=\"(5, 4)\"><center>2.75</center></td>\n",
       "<td style=\"font-family:monospace;white-space: pre;\" title=\"(5, 5)\"><center>2.8 </center></td>\n",
       "<td style=\"font-family:monospace;white-space: pre;\" title=\"(5, 6)\"><center>2.85</center></td>\n",
       "<td style=\"font-family:monospace;white-space: pre;\" title=\"(5, 7)\"><center>2.9 </center></td>\n",
       "<td style=\"font-family:monospace;white-space: pre;\" title=\"(5, 8)\"><center>2.95</center></td>\n",
       "<td style=\"font-family:monospace;white-space: pre;\" title=\"(5, 9)\"><center>3.  </center></td>\n",
       "</tr>\n",
       "<tr>\n",
       "<td style=\"font-family:monospace;white-space: pre;\" title=\"(6, 0)\"><center>3.05</center></td>\n",
       "<td style=\"font-family:monospace;white-space: pre;\" title=\"(6, 1)\"><center>3.1 </center></td>\n",
       "<td style=\"font-family:monospace;white-space: pre;\" title=\"(6, 2)\"><center>3.15</center></td>\n",
       "<td style=\"font-family:monospace;white-space: pre;\" title=\"(6, 3)\"><center>3.2 </center></td>\n",
       "<td style=\"font-family:monospace;white-space: pre;\" title=\"(6, 4)\"><center>3.25</center></td>\n",
       "<td style=\"font-family:monospace;white-space: pre;\" title=\"(6, 5)\"><center>3.3 </center></td>\n",
       "<td style=\"font-family:monospace;white-space: pre;\" title=\"(6, 6)\"><center>3.35</center></td>\n",
       "<td style=\"font-family:monospace;white-space: pre;\" title=\"(6, 7)\"><center>3.4 </center></td>\n",
       "<td style=\"font-family:monospace;white-space: pre;\" title=\"(6, 8)\"><center>3.45</center></td>\n",
       "<td style=\"font-family:monospace;white-space: pre;\" title=\"(6, 9)\"><center>3.5 </center></td>\n",
       "</tr>\n",
       "<tr>\n",
       "<td style=\"font-family:monospace;white-space: pre;\" title=\"(7, 0)\"><center>3.55</center></td>\n",
       "<td style=\"font-family:monospace;white-space: pre;\" title=\"(7, 1)\"><center>3.6 </center></td>\n",
       "<td style=\"font-family:monospace;white-space: pre;\" title=\"(7, 2)\"><center>3.65</center></td>\n",
       "<td style=\"font-family:monospace;white-space: pre;\" title=\"(7, 3)\"><center>3.7 </center></td>\n",
       "<td style=\"font-family:monospace;white-space: pre;\" title=\"(7, 4)\"><center>3.75</center></td>\n",
       "<td style=\"font-family:monospace;white-space: pre;\" title=\"(7, 5)\"><center>3.8 </center></td>\n",
       "<td style=\"font-family:monospace;white-space: pre;\" title=\"(7, 6)\"><center>3.85</center></td>\n",
       "<td style=\"font-family:monospace;white-space: pre;\" title=\"(7, 7)\"><center>3.9 </center></td>\n",
       "<td style=\"font-family:monospace;white-space: pre;\" title=\"(7, 8)\"><center>3.95</center></td>\n",
       "<td style=\"font-family:monospace;white-space: pre;\" title=\"(7, 9)\"><center>4.  </center></td>\n",
       "</tr>\n",
       "<tr>\n",
       "<td style=\"font-family:monospace;white-space: pre;\" title=\"(8, 0)\"><center>4.05</center></td>\n",
       "<td style=\"font-family:monospace;white-space: pre;\" title=\"(8, 1)\"><center>4.1 </center></td>\n",
       "<td style=\"font-family:monospace;white-space: pre;\" title=\"(8, 2)\"><center>4.15</center></td>\n",
       "<td style=\"font-family:monospace;white-space: pre;\" title=\"(8, 3)\"><center>4.2 </center></td>\n",
       "<td style=\"font-family:monospace;white-space: pre;\" title=\"(8, 4)\"><center>4.25</center></td>\n",
       "<td style=\"font-family:monospace;white-space: pre;\" title=\"(8, 5)\"><center>4.3 </center></td>\n",
       "<td style=\"font-family:monospace;white-space: pre;\" title=\"(8, 6)\"><center>4.35</center></td>\n",
       "<td style=\"font-family:monospace;white-space: pre;\" title=\"(8, 7)\"><center>4.4 </center></td>\n",
       "<td style=\"font-family:monospace;white-space: pre;\" title=\"(8, 8)\"><center>4.45</center></td>\n",
       "<td style=\"font-family:monospace;white-space: pre;\" title=\"(8, 9)\"><center>4.5 </center></td>\n",
       "</tr>\n",
       "<tr>\n",
       "<td style=\"font-family:monospace;white-space: pre;\" title=\"(9, 0)\"><center>4.55</center></td>\n",
       "<td style=\"font-family:monospace;white-space: pre;\" title=\"(9, 1)\"><center>4.6 </center></td>\n",
       "<td style=\"font-family:monospace;white-space: pre;\" title=\"(9, 2)\"><center>4.65</center></td>\n",
       "<td style=\"font-family:monospace;white-space: pre;\" title=\"(9, 3)\"><center>4.7 </center></td>\n",
       "<td style=\"font-family:monospace;white-space: pre;\" title=\"(9, 4)\"><center>4.75</center></td>\n",
       "<td style=\"font-family:monospace;white-space: pre;\" title=\"(9, 5)\"><center>4.8 </center></td>\n",
       "<td style=\"font-family:monospace;white-space: pre;\" title=\"(9, 6)\"><center>4.85</center></td>\n",
       "<td style=\"font-family:monospace;white-space: pre;\" title=\"(9, 7)\"><center>4.9 </center></td>\n",
       "<td style=\"font-family:monospace;white-space: pre;\" title=\"(9, 8)\"><center>4.95</center></td>\n",
       "<td style=\"font-family:monospace;white-space: pre;\" title=\"(9, 9)\"><center>5.  </center></td>\n",
       "</tr>\n",
       "</table>"
      ],
      "text/plain": [
       "array([[0.05, 0.1 , 0.15, 0.2 , 0.25, 0.3 , 0.35, 0.4 , 0.45, 0.5 ],\n",
       "       [0.55, 0.6 , 0.65, 0.7 , 0.75, 0.8 , 0.85, 0.9 , 0.95, 1.  ],\n",
       "       [1.05, 1.1 , 1.15, 1.2 , 1.25, 1.3 , 1.35, 1.4 , 1.45, 1.5 ],\n",
       "       [1.55, 1.6 , 1.65, 1.7 , 1.75, 1.8 , 1.85, 1.9 , 1.95, 2.  ],\n",
       "       [2.05, 2.1 , 2.15, 2.2 , 2.25, 2.3 , 2.35, 2.4 , 2.45, 2.5 ],\n",
       "       [2.55, 2.6 , 2.65, 2.7 , 2.75, 2.8 , 2.85, 2.9 , 2.95, 3.  ],\n",
       "       [3.05, 3.1 , 3.15, 3.2 , 3.25, 3.3 , 3.35, 3.4 , 3.45, 3.5 ],\n",
       "       [3.55, 3.6 , 3.65, 3.7 , 3.75, 3.8 , 3.85, 3.9 , 3.95, 4.  ],\n",
       "       [4.05, 4.1 , 4.15, 4.2 , 4.25, 4.3 , 4.35, 4.4 , 4.45, 4.5 ],\n",
       "       [4.55, 4.6 , 4.65, 4.7 , 4.75, 4.8 , 4.85, 4.9 , 4.95, 5.  ]])"
      ]
     },
     "execution_count": 47,
     "metadata": {},
     "output_type": "execute_result"
    }
   ],
   "source": [
    "# Create 10x10 matrix from values between 0 and 5 with 0.05 increase to previous value\n",
    "matrix1_5c = np.linspace(0.05, 5, 100).reshape(10, 10)\n",
    "\n",
    "# Display the matrix\n",
    "print(\"(10, 10)\")\n",
    "matrix1_5c\n"
   ]
  },
  {
   "cell_type": "markdown",
   "metadata": {},
   "source": [
    "<h2>Exercise 1.6<h2>"
   ]
  },
  {
   "cell_type": "code",
   "execution_count": 89,
   "metadata": {},
   "outputs": [
    {
     "data": {
      "text/html": [
       "<table style='border-style:solid;border-width:1px;'>\n",
       "<tr>\n",
       "<td style=\"font-family:monospace;white-space: pre;\" title=\"(0, 0)\"><center>1 </center></td>\n",
       "<td style=\"font-family:monospace;white-space: pre;\" title=\"(0, 1)\"><center>2 </center></td>\n",
       "<td style=\"font-family:monospace;white-space: pre;\" title=\"(0, 2)\"><center>3 </center></td>\n",
       "<td style=\"font-family:monospace;white-space: pre;\" title=\"(0, 3)\"><center>4 </center></td>\n",
       "<td style=\"font-family:monospace;white-space: pre;\" title=\"(0, 4)\"><center>5 </center></td>\n",
       "<td style=\"font-family:monospace;white-space: pre;\" title=\"(0, 5)\"><center>6 </center></td>\n",
       "</tr>\n",
       "<tr>\n",
       "<td style=\"font-family:monospace;white-space: pre;\" title=\"(1, 0)\"><center>7 </center></td>\n",
       "<td style=\"font-family:monospace;white-space: pre;\" title=\"(1, 1)\"><center>8 </center></td>\n",
       "<td style=\"font-family:monospace;white-space: pre;\" title=\"(1, 2)\"><center>9 </center></td>\n",
       "<td style=\"font-family:monospace;white-space: pre;\" title=\"(1, 3)\"><center>10</center></td>\n",
       "<td style=\"font-family:monospace;white-space: pre;\" title=\"(1, 4)\"><center>11</center></td>\n",
       "<td style=\"font-family:monospace;white-space: pre;\" title=\"(1, 5)\"><center>12</center></td>\n",
       "</tr>\n",
       "<tr>\n",
       "<td style=\"font-family:monospace;white-space: pre;\" title=\"(2, 0)\"><center>13</center></td>\n",
       "<td style=\"font-family:monospace;white-space: pre;\" title=\"(2, 1)\"><center>14</center></td>\n",
       "<td style=\"font-family:monospace;white-space: pre;\" title=\"(2, 2)\"><center>15</center></td>\n",
       "<td style=\"font-family:monospace;white-space: pre;\" title=\"(2, 3)\"><center>16</center></td>\n",
       "<td style=\"font-family:monospace;white-space: pre;\" title=\"(2, 4)\"><center>17</center></td>\n",
       "<td style=\"font-family:monospace;white-space: pre;\" title=\"(2, 5)\"><center>18</center></td>\n",
       "</tr>\n",
       "<tr>\n",
       "<td style=\"font-family:monospace;white-space: pre;\" title=\"(3, 0)\"><center>19</center></td>\n",
       "<td style=\"font-family:monospace;white-space: pre;\" title=\"(3, 1)\"><center>20</center></td>\n",
       "<td style=\"font-family:monospace;white-space: pre;\" title=\"(3, 2)\"><center>21</center></td>\n",
       "<td style=\"font-family:monospace;white-space: pre;\" title=\"(3, 3)\"><center>22</center></td>\n",
       "<td style=\"font-family:monospace;white-space: pre;\" title=\"(3, 4)\"><center>23</center></td>\n",
       "<td style=\"font-family:monospace;white-space: pre;\" title=\"(3, 5)\"><center>24</center></td>\n",
       "</tr>\n",
       "<tr>\n",
       "<td style=\"font-family:monospace;white-space: pre;\" title=\"(4, 0)\"><center>25</center></td>\n",
       "<td style=\"font-family:monospace;white-space: pre;\" title=\"(4, 1)\"><center>26</center></td>\n",
       "<td style=\"font-family:monospace;white-space: pre;\" title=\"(4, 2)\"><center>27</center></td>\n",
       "<td style=\"font-family:monospace;white-space: pre;\" title=\"(4, 3)\"><center>28</center></td>\n",
       "<td style=\"font-family:monospace;white-space: pre;\" title=\"(4, 4)\"><center>29</center></td>\n",
       "<td style=\"font-family:monospace;white-space: pre;\" title=\"(4, 5)\"><center>30</center></td>\n",
       "</tr>\n",
       "<tr>\n",
       "<td style=\"font-family:monospace;white-space: pre;\" title=\"(5, 0)\"><center>31</center></td>\n",
       "<td style=\"font-family:monospace;white-space: pre;\" title=\"(5, 1)\"><center>32</center></td>\n",
       "<td style=\"font-family:monospace;white-space: pre;\" title=\"(5, 2)\"><center>33</center></td>\n",
       "<td style=\"font-family:monospace;white-space: pre;\" title=\"(5, 3)\"><center>34</center></td>\n",
       "<td style=\"font-family:monospace;white-space: pre;\" title=\"(5, 4)\"><center>35</center></td>\n",
       "<td style=\"font-family:monospace;white-space: pre;\" title=\"(5, 5)\"><center>36</center></td>\n",
       "</tr>\n",
       "</table>"
      ],
      "text/plain": [
       "array([[ 1,  2,  3,  4,  5,  6],\n",
       "       [ 7,  8,  9, 10, 11, 12],\n",
       "       [13, 14, 15, 16, 17, 18],\n",
       "       [19, 20, 21, 22, 23, 24],\n",
       "       [25, 26, 27, 28, 29, 30],\n",
       "       [31, 32, 33, 34, 35, 36]])"
      ]
     },
     "execution_count": 89,
     "metadata": {},
     "output_type": "execute_result"
    }
   ],
   "source": [
    "# Create 6x6 matrix called dataset from numbers between 1-36\n",
    "dataset = np.arange(1, 37).reshape(6, 6)\n",
    "\n",
    "# Display the dataset\n",
    "dataset"
   ]
  },
  {
   "cell_type": "code",
   "execution_count": 24,
   "metadata": {},
   "outputs": [
    {
     "data": {
      "text/html": [
       "<table style='border-style:solid;border-width:1px;'>\n",
       "<tr>\n",
       "<td style=\"font-family:monospace;white-space: pre;\" title=\"(0, 0)\"><center>21</center></td>\n",
       "<td style=\"font-family:monospace;white-space: pre;\" title=\"(0, 1)\"><center>22</center></td>\n",
       "<td style=\"font-family:monospace;white-space: pre;\" title=\"(0, 2)\"><center>23</center></td>\n",
       "<td style=\"font-family:monospace;white-space: pre;\" title=\"(0, 3)\"><center>24</center></td>\n",
       "</tr>\n",
       "<tr>\n",
       "<td style=\"font-family:monospace;white-space: pre;\" title=\"(1, 0)\"><center>27</center></td>\n",
       "<td style=\"font-family:monospace;white-space: pre;\" title=\"(1, 1)\"><center>28</center></td>\n",
       "<td style=\"font-family:monospace;white-space: pre;\" title=\"(1, 2)\"><center>29</center></td>\n",
       "<td style=\"font-family:monospace;white-space: pre;\" title=\"(1, 3)\"><center>30</center></td>\n",
       "</tr>\n",
       "<tr>\n",
       "<td style=\"font-family:monospace;white-space: pre;\" title=\"(2, 0)\"><center>33</center></td>\n",
       "<td style=\"font-family:monospace;white-space: pre;\" title=\"(2, 1)\"><center>34</center></td>\n",
       "<td style=\"font-family:monospace;white-space: pre;\" title=\"(2, 2)\"><center>35</center></td>\n",
       "<td style=\"font-family:monospace;white-space: pre;\" title=\"(2, 3)\"><center>36</center></td>\n",
       "</tr>\n",
       "</table>"
      ],
      "text/plain": [
       "array([[21, 22, 23, 24],\n",
       "       [27, 28, 29, 30],\n",
       "       [33, 34, 35, 36]])"
      ]
     },
     "execution_count": 24,
     "metadata": {},
     "output_type": "execute_result"
    }
   ],
   "source": [
    "# Create a function to get values(21-36) from the data set, column 4 row 3 to column 6 row 6\n",
    "matrix_1 = dataset[3:6, 2:6]\n",
    "\n",
    "# Display the matrix\n",
    "matrix_1"
   ]
  },
  {
   "cell_type": "code",
   "execution_count": 25,
   "metadata": {},
   "outputs": [
    {
     "data": {
      "text/html": [
       "<table style='border-style:solid;border-width:1px;'>\n",
       "<tr><td style=\"font-family:monospace;white-space: pre;\" title=\"0\"><center>4 </center></td></tr>\n",
       "<tr><td style=\"font-family:monospace;white-space: pre;\" title=\"1\"><center>10</center></td></tr>\n",
       "<tr><td style=\"font-family:monospace;white-space: pre;\" title=\"2\"><center>16</center></td></tr>\n",
       "<tr><td style=\"font-family:monospace;white-space: pre;\" title=\"3\"><center>22</center></td></tr>\n",
       "</table>"
      ],
      "text/plain": [
       "array([ 4, 10, 16, 22])"
      ]
     },
     "execution_count": 25,
     "metadata": {},
     "output_type": "execute_result"
    }
   ],
   "source": [
    "# Create a function to get values(4, 10, 16 and 22) from the dataset, column 1 row 4 to column 4 row 4\n",
    "matrix_2 = dataset[0:4, 3]\n",
    "\n",
    "# Display the matrix\n",
    "matrix_2"
   ]
  },
  {
   "cell_type": "code",
   "execution_count": 26,
   "metadata": {},
   "outputs": [
    {
     "data": {
      "text/html": [
       "<table style='border-style:solid;border-width:1px;'>\n",
       "<tr><td style=\"font-family:monospace;white-space: pre;\" title=\"0\"><center>13</center></td></tr>\n",
       "<tr><td style=\"font-family:monospace;white-space: pre;\" title=\"1\"><center>14</center></td></tr>\n",
       "<tr><td style=\"font-family:monospace;white-space: pre;\" title=\"2\"><center>15</center></td></tr>\n",
       "<tr><td style=\"font-family:monospace;white-space: pre;\" title=\"3\"><center>16</center></td></tr>\n",
       "<tr><td style=\"font-family:monospace;white-space: pre;\" title=\"4\"><center>17</center></td></tr>\n",
       "<tr><td style=\"font-family:monospace;white-space: pre;\" title=\"5\"><center>18</center></td></tr>\n",
       "</table>"
      ],
      "text/plain": [
       "array([13, 14, 15, 16, 17, 18])"
      ]
     },
     "execution_count": 26,
     "metadata": {},
     "output_type": "execute_result"
    }
   ],
   "source": [
    "# Create a function to get values from 3rd column\n",
    "matrix_3 = dataset[2]\n",
    "\n",
    "# Display the matrix\n",
    "matrix_3"
   ]
  },
  {
   "cell_type": "code",
   "execution_count": 27,
   "metadata": {},
   "outputs": [
    {
     "data": {
      "text/html": [
       "<table style='border-style:solid;border-width:1px;'>\n",
       "<tr>\n",
       "<td style=\"font-family:monospace;white-space: pre;\" title=\"(0, 0)\"><center>19</center></td>\n",
       "<td style=\"font-family:monospace;white-space: pre;\" title=\"(0, 1)\"><center>20</center></td>\n",
       "<td style=\"font-family:monospace;white-space: pre;\" title=\"(0, 2)\"><center>21</center></td>\n",
       "<td style=\"font-family:monospace;white-space: pre;\" title=\"(0, 3)\"><center>22</center></td>\n",
       "<td style=\"font-family:monospace;white-space: pre;\" title=\"(0, 4)\"><center>23</center></td>\n",
       "<td style=\"font-family:monospace;white-space: pre;\" title=\"(0, 5)\"><center>24</center></td>\n",
       "</tr>\n",
       "<tr>\n",
       "<td style=\"font-family:monospace;white-space: pre;\" title=\"(1, 0)\"><center>25</center></td>\n",
       "<td style=\"font-family:monospace;white-space: pre;\" title=\"(1, 1)\"><center>26</center></td>\n",
       "<td style=\"font-family:monospace;white-space: pre;\" title=\"(1, 2)\"><center>27</center></td>\n",
       "<td style=\"font-family:monospace;white-space: pre;\" title=\"(1, 3)\"><center>28</center></td>\n",
       "<td style=\"font-family:monospace;white-space: pre;\" title=\"(1, 4)\"><center>29</center></td>\n",
       "<td style=\"font-family:monospace;white-space: pre;\" title=\"(1, 5)\"><center>30</center></td>\n",
       "</tr>\n",
       "<tr>\n",
       "<td style=\"font-family:monospace;white-space: pre;\" title=\"(2, 0)\"><center>31</center></td>\n",
       "<td style=\"font-family:monospace;white-space: pre;\" title=\"(2, 1)\"><center>32</center></td>\n",
       "<td style=\"font-family:monospace;white-space: pre;\" title=\"(2, 2)\"><center>33</center></td>\n",
       "<td style=\"font-family:monospace;white-space: pre;\" title=\"(2, 3)\"><center>34</center></td>\n",
       "<td style=\"font-family:monospace;white-space: pre;\" title=\"(2, 4)\"><center>35</center></td>\n",
       "<td style=\"font-family:monospace;white-space: pre;\" title=\"(2, 5)\"><center>36</center></td>\n",
       "</tr>\n",
       "</table>"
      ],
      "text/plain": [
       "array([[19, 20, 21, 22, 23, 24],\n",
       "       [25, 26, 27, 28, 29, 30],\n",
       "       [31, 32, 33, 34, 35, 36]])"
      ]
     },
     "execution_count": 27,
     "metadata": {},
     "output_type": "execute_result"
    }
   ],
   "source": [
    "# Get values from 4th to 7th row\n",
    "matrix_4 = dataset[3:6]\n",
    "\n",
    "# Display the matrix\n",
    "matrix_4"
   ]
  },
  {
   "cell_type": "markdown",
   "metadata": {},
   "source": [
    "<h2>Exercise 1.7<h2>"
   ]
  },
  {
   "cell_type": "code",
   "execution_count": 63,
   "metadata": {},
   "outputs": [
    {
     "data": {
      "text/html": [
       "<table style='border-style:solid;border-width:1px;'>\n",
       "<tr>\n",
       "<td style=\"font-family:monospace;white-space: pre;\" title=\"(0, 0)\"><center>1 </center></td>\n",
       "<td style=\"font-family:monospace;white-space: pre;\" title=\"(0, 1)\"><center>2 </center></td>\n",
       "<td style=\"font-family:monospace;white-space: pre;\" title=\"(0, 2)\"><center>3 </center></td>\n",
       "<td style=\"font-family:monospace;white-space: pre;\" title=\"(0, 3)\"><center>4 </center></td>\n",
       "<td style=\"font-family:monospace;white-space: pre;\" title=\"(0, 4)\"><center>5 </center></td>\n",
       "<td style=\"font-family:monospace;white-space: pre;\" title=\"(0, 5)\"><center>6 </center></td>\n",
       "<td style=\"font-family:monospace;white-space: pre;\" title=\"(0, 6)\"><center>7 </center></td>\n",
       "</tr>\n",
       "<tr>\n",
       "<td style=\"font-family:monospace;white-space: pre;\" title=\"(1, 0)\"><center>8 </center></td>\n",
       "<td style=\"font-family:monospace;white-space: pre;\" title=\"(1, 1)\"><center>9 </center></td>\n",
       "<td style=\"font-family:monospace;white-space: pre;\" title=\"(1, 2)\"><center>10</center></td>\n",
       "<td style=\"font-family:monospace;white-space: pre;\" title=\"(1, 3)\"><center>11</center></td>\n",
       "<td style=\"font-family:monospace;white-space: pre;\" title=\"(1, 4)\"><center>12</center></td>\n",
       "<td style=\"font-family:monospace;white-space: pre;\" title=\"(1, 5)\"><center>13</center></td>\n",
       "<td style=\"font-family:monospace;white-space: pre;\" title=\"(1, 6)\"><center>14</center></td>\n",
       "</tr>\n",
       "<tr>\n",
       "<td style=\"font-family:monospace;white-space: pre;\" title=\"(2, 0)\"><center>15</center></td>\n",
       "<td style=\"font-family:monospace;white-space: pre;\" title=\"(2, 1)\"><center>16</center></td>\n",
       "<td style=\"font-family:monospace;white-space: pre;\" title=\"(2, 2)\"><center>17</center></td>\n",
       "<td style=\"font-family:monospace;white-space: pre;\" title=\"(2, 3)\"><center>18</center></td>\n",
       "<td style=\"font-family:monospace;white-space: pre;\" title=\"(2, 4)\"><center>19</center></td>\n",
       "<td style=\"font-family:monospace;white-space: pre;\" title=\"(2, 5)\"><center>20</center></td>\n",
       "<td style=\"font-family:monospace;white-space: pre;\" title=\"(2, 6)\"><center>21</center></td>\n",
       "</tr>\n",
       "<tr>\n",
       "<td style=\"font-family:monospace;white-space: pre;\" title=\"(3, 0)\"><center>22</center></td>\n",
       "<td style=\"font-family:monospace;white-space: pre;\" title=\"(3, 1)\"><center>23</center></td>\n",
       "<td style=\"font-family:monospace;white-space: pre;\" title=\"(3, 2)\"><center>24</center></td>\n",
       "<td style=\"font-family:monospace;white-space: pre;\" title=\"(3, 3)\"><center>25</center></td>\n",
       "<td style=\"font-family:monospace;white-space: pre;\" title=\"(3, 4)\"><center>26</center></td>\n",
       "<td style=\"font-family:monospace;white-space: pre;\" title=\"(3, 5)\"><center>27</center></td>\n",
       "<td style=\"font-family:monospace;white-space: pre;\" title=\"(3, 6)\"><center>28</center></td>\n",
       "</tr>\n",
       "<tr>\n",
       "<td style=\"font-family:monospace;white-space: pre;\" title=\"(4, 0)\"><center>29</center></td>\n",
       "<td style=\"font-family:monospace;white-space: pre;\" title=\"(4, 1)\"><center>30</center></td>\n",
       "<td style=\"font-family:monospace;white-space: pre;\" title=\"(4, 2)\"><center>31</center></td>\n",
       "<td style=\"font-family:monospace;white-space: pre;\" title=\"(4, 3)\"><center>32</center></td>\n",
       "<td style=\"font-family:monospace;white-space: pre;\" title=\"(4, 4)\"><center>33</center></td>\n",
       "<td style=\"font-family:monospace;white-space: pre;\" title=\"(4, 5)\"><center>34</center></td>\n",
       "<td style=\"font-family:monospace;white-space: pre;\" title=\"(4, 6)\"><center>35</center></td>\n",
       "</tr>\n",
       "<tr>\n",
       "<td style=\"font-family:monospace;white-space: pre;\" title=\"(5, 0)\"><center>36</center></td>\n",
       "<td style=\"font-family:monospace;white-space: pre;\" title=\"(5, 1)\"><center>37</center></td>\n",
       "<td style=\"font-family:monospace;white-space: pre;\" title=\"(5, 2)\"><center>38</center></td>\n",
       "<td style=\"font-family:monospace;white-space: pre;\" title=\"(5, 3)\"><center>39</center></td>\n",
       "<td style=\"font-family:monospace;white-space: pre;\" title=\"(5, 4)\"><center>40</center></td>\n",
       "<td style=\"font-family:monospace;white-space: pre;\" title=\"(5, 5)\"><center>41</center></td>\n",
       "<td style=\"font-family:monospace;white-space: pre;\" title=\"(5, 6)\"><center>42</center></td>\n",
       "</tr>\n",
       "<tr>\n",
       "<td style=\"font-family:monospace;white-space: pre;\" title=\"(6, 0)\"><center>43</center></td>\n",
       "<td style=\"font-family:monospace;white-space: pre;\" title=\"(6, 1)\"><center>44</center></td>\n",
       "<td style=\"font-family:monospace;white-space: pre;\" title=\"(6, 2)\"><center>45</center></td>\n",
       "<td style=\"font-family:monospace;white-space: pre;\" title=\"(6, 3)\"><center>46</center></td>\n",
       "<td style=\"font-family:monospace;white-space: pre;\" title=\"(6, 4)\"><center>47</center></td>\n",
       "<td style=\"font-family:monospace;white-space: pre;\" title=\"(6, 5)\"><center>48</center></td>\n",
       "<td style=\"font-family:monospace;white-space: pre;\" title=\"(6, 6)\"><center>49</center></td>\n",
       "</tr>\n",
       "</table>"
      ],
      "text/plain": [
       "array([[ 1,  2,  3,  4,  5,  6,  7],\n",
       "       [ 8,  9, 10, 11, 12, 13, 14],\n",
       "       [15, 16, 17, 18, 19, 20, 21],\n",
       "       [22, 23, 24, 25, 26, 27, 28],\n",
       "       [29, 30, 31, 32, 33, 34, 35],\n",
       "       [36, 37, 38, 39, 40, 41, 42],\n",
       "       [43, 44, 45, 46, 47, 48, 49]])"
      ]
     },
     "execution_count": 63,
     "metadata": {},
     "output_type": "execute_result"
    }
   ],
   "source": [
    "# Create matrix from values between 1-50 in 7x7\n",
    "dataset = np.arange(1, 50).reshape(7, 7)\n",
    "\n",
    "# Display the dataset\n",
    "dataset"
   ]
  },
  {
   "cell_type": "code",
   "execution_count": 64,
   "metadata": {},
   "outputs": [
    {
     "data": {
      "text/html": [
       "<table style='border-style:solid;border-width:1px;'>\n",
       "<tr>\n",
       "<td style=\"font-family:monospace;white-space: pre;\" title=\"(0, 0)\"><center>51</center></td>\n",
       "<td style=\"font-family:monospace;white-space: pre;\" title=\"(0, 1)\"><center>52</center></td>\n",
       "<td style=\"font-family:monospace;white-space: pre;\" title=\"(0, 2)\"><center>53</center></td>\n",
       "<td style=\"font-family:monospace;white-space: pre;\" title=\"(0, 3)\"><center>54</center></td>\n",
       "<td style=\"font-family:monospace;white-space: pre;\" title=\"(0, 4)\"><center>55</center></td>\n",
       "<td style=\"font-family:monospace;white-space: pre;\" title=\"(0, 5)\"><center>56</center></td>\n",
       "<td style=\"font-family:monospace;white-space: pre;\" title=\"(0, 6)\"><center>57</center></td>\n",
       "</tr>\n",
       "<tr>\n",
       "<td style=\"font-family:monospace;white-space: pre;\" title=\"(1, 0)\"><center>58</center></td>\n",
       "<td style=\"font-family:monospace;white-space: pre;\" title=\"(1, 1)\"><center>59</center></td>\n",
       "<td style=\"font-family:monospace;white-space: pre;\" title=\"(1, 2)\"><center>60</center></td>\n",
       "<td style=\"font-family:monospace;white-space: pre;\" title=\"(1, 3)\"><center>61</center></td>\n",
       "<td style=\"font-family:monospace;white-space: pre;\" title=\"(1, 4)\"><center>62</center></td>\n",
       "<td style=\"font-family:monospace;white-space: pre;\" title=\"(1, 5)\"><center>63</center></td>\n",
       "<td style=\"font-family:monospace;white-space: pre;\" title=\"(1, 6)\"><center>64</center></td>\n",
       "</tr>\n",
       "<tr>\n",
       "<td style=\"font-family:monospace;white-space: pre;\" title=\"(2, 0)\"><center>65</center></td>\n",
       "<td style=\"font-family:monospace;white-space: pre;\" title=\"(2, 1)\"><center>66</center></td>\n",
       "<td style=\"font-family:monospace;white-space: pre;\" title=\"(2, 2)\"><center>67</center></td>\n",
       "<td style=\"font-family:monospace;white-space: pre;\" title=\"(2, 3)\"><center>68</center></td>\n",
       "<td style=\"font-family:monospace;white-space: pre;\" title=\"(2, 4)\"><center>69</center></td>\n",
       "<td style=\"font-family:monospace;white-space: pre;\" title=\"(2, 5)\"><center>70</center></td>\n",
       "<td style=\"font-family:monospace;white-space: pre;\" title=\"(2, 6)\"><center>71</center></td>\n",
       "</tr>\n",
       "<tr>\n",
       "<td style=\"font-family:monospace;white-space: pre;\" title=\"(3, 0)\"><center>72</center></td>\n",
       "<td style=\"font-family:monospace;white-space: pre;\" title=\"(3, 1)\"><center>73</center></td>\n",
       "<td style=\"font-family:monospace;white-space: pre;\" title=\"(3, 2)\"><center>74</center></td>\n",
       "<td style=\"font-family:monospace;white-space: pre;\" title=\"(3, 3)\"><center>75</center></td>\n",
       "<td style=\"font-family:monospace;white-space: pre;\" title=\"(3, 4)\"><center>76</center></td>\n",
       "<td style=\"font-family:monospace;white-space: pre;\" title=\"(3, 5)\"><center>77</center></td>\n",
       "<td style=\"font-family:monospace;white-space: pre;\" title=\"(3, 6)\"><center>78</center></td>\n",
       "</tr>\n",
       "<tr>\n",
       "<td style=\"font-family:monospace;white-space: pre;\" title=\"(4, 0)\"><center>79</center></td>\n",
       "<td style=\"font-family:monospace;white-space: pre;\" title=\"(4, 1)\"><center>80</center></td>\n",
       "<td style=\"font-family:monospace;white-space: pre;\" title=\"(4, 2)\"><center>81</center></td>\n",
       "<td style=\"font-family:monospace;white-space: pre;\" title=\"(4, 3)\"><center>82</center></td>\n",
       "<td style=\"font-family:monospace;white-space: pre;\" title=\"(4, 4)\"><center>83</center></td>\n",
       "<td style=\"font-family:monospace;white-space: pre;\" title=\"(4, 5)\"><center>84</center></td>\n",
       "<td style=\"font-family:monospace;white-space: pre;\" title=\"(4, 6)\"><center>85</center></td>\n",
       "</tr>\n",
       "<tr>\n",
       "<td style=\"font-family:monospace;white-space: pre;\" title=\"(5, 0)\"><center>86</center></td>\n",
       "<td style=\"font-family:monospace;white-space: pre;\" title=\"(5, 1)\"><center>87</center></td>\n",
       "<td style=\"font-family:monospace;white-space: pre;\" title=\"(5, 2)\"><center>88</center></td>\n",
       "<td style=\"font-family:monospace;white-space: pre;\" title=\"(5, 3)\"><center>89</center></td>\n",
       "<td style=\"font-family:monospace;white-space: pre;\" title=\"(5, 4)\"><center>90</center></td>\n",
       "<td style=\"font-family:monospace;white-space: pre;\" title=\"(5, 5)\"><center>91</center></td>\n",
       "<td style=\"font-family:monospace;white-space: pre;\" title=\"(5, 6)\"><center>92</center></td>\n",
       "</tr>\n",
       "<tr>\n",
       "<td style=\"font-family:monospace;white-space: pre;\" title=\"(6, 0)\"><center>93</center></td>\n",
       "<td style=\"font-family:monospace;white-space: pre;\" title=\"(6, 1)\"><center>94</center></td>\n",
       "<td style=\"font-family:monospace;white-space: pre;\" title=\"(6, 2)\"><center>95</center></td>\n",
       "<td style=\"font-family:monospace;white-space: pre;\" title=\"(6, 3)\"><center>96</center></td>\n",
       "<td style=\"font-family:monospace;white-space: pre;\" title=\"(6, 4)\"><center>97</center></td>\n",
       "<td style=\"font-family:monospace;white-space: pre;\" title=\"(6, 5)\"><center>98</center></td>\n",
       "<td style=\"font-family:monospace;white-space: pre;\" title=\"(6, 6)\"><center>99</center></td>\n",
       "</tr>\n",
       "</table>"
      ],
      "text/plain": [
       "array([[51, 52, 53, 54, 55, 56, 57],\n",
       "       [58, 59, 60, 61, 62, 63, 64],\n",
       "       [65, 66, 67, 68, 69, 70, 71],\n",
       "       [72, 73, 74, 75, 76, 77, 78],\n",
       "       [79, 80, 81, 82, 83, 84, 85],\n",
       "       [86, 87, 88, 89, 90, 91, 92],\n",
       "       [93, 94, 95, 96, 97, 98, 99]])"
      ]
     },
     "execution_count": 64,
     "metadata": {},
     "output_type": "execute_result"
    }
   ],
   "source": [
    "# Add + 50 to all numers into the matrix previously created\n",
    "new_dataset = dataset + 50\n",
    "\n",
    "# Display the new dataset\n",
    "new_dataset"
   ]
  },
  {
   "cell_type": "code",
   "execution_count": 66,
   "metadata": {},
   "outputs": [
    {
     "data": {
      "text/plain": [
       "3675"
      ]
     },
     "execution_count": 66,
     "metadata": {},
     "output_type": "execute_result"
    }
   ],
   "source": [
    "# Create sentence to get sum of all numbers in the matrix\n",
    "dataset_total1 = np.sum(new_dataset)\n",
    "\n",
    "# Display the dataset_total1 sum\n",
    "dataset_total1"
   ]
  },
  {
   "cell_type": "code",
   "execution_count": 68,
   "metadata": {},
   "outputs": [
    {
     "data": {
      "text/plain": [
       "1875"
      ]
     },
     "execution_count": 68,
     "metadata": {},
     "output_type": "execute_result"
    }
   ],
   "source": [
    "# Create a function to get total of odd values in the dataset\n",
    "odd_values = new_dataset % 2 != 0\n",
    "odd_array = new_dataset[odd_values]\n",
    "odd_values_total = np.sum(odd_array)\n",
    "\n",
    "# Display the odd values total in the dataset\n",
    "odd_values_total"
   ]
  },
  {
   "cell_type": "code",
   "execution_count": 69,
   "metadata": {},
   "outputs": [
    {
     "data": {
      "text/plain": [
       "14.142135623730951"
      ]
     },
     "execution_count": 69,
     "metadata": {},
     "output_type": "execute_result"
    }
   ],
   "source": [
    "# Create a function to get standard deviation of dataset_values\n",
    "dataset_deviation = np.std(new_dataset)\n",
    "\n",
    "# Display the dataset deviation\n",
    "dataset_deviation"
   ]
  },
  {
   "cell_type": "code",
   "execution_count": 70,
   "metadata": {},
   "outputs": [
    {
     "data": {
      "text/html": [
       "<table style='border-style:solid;border-width:1px;'>\n",
       "<tr><td style=\"font-family:monospace;white-space: pre;\" title=\"0\"><center>378</center></td></tr>\n",
       "<tr><td style=\"font-family:monospace;white-space: pre;\" title=\"1\"><center>427</center></td></tr>\n",
       "<tr><td style=\"font-family:monospace;white-space: pre;\" title=\"2\"><center>476</center></td></tr>\n",
       "<tr><td style=\"font-family:monospace;white-space: pre;\" title=\"3\"><center>525</center></td></tr>\n",
       "<tr><td style=\"font-family:monospace;white-space: pre;\" title=\"4\"><center>574</center></td></tr>\n",
       "<tr><td style=\"font-family:monospace;white-space: pre;\" title=\"5\"><center>623</center></td></tr>\n",
       "<tr><td style=\"font-family:monospace;white-space: pre;\" title=\"6\"><center>672</center></td></tr>\n",
       "</table>"
      ],
      "text/plain": [
       "array([378, 427, 476, 525, 574, 623, 672])"
      ]
     },
     "execution_count": 70,
     "metadata": {},
     "output_type": "execute_result"
    }
   ],
   "source": [
    "# Create a function to get sum by a row\n",
    "dataset_matrix = np.arange(1, 50).reshape(7, 7)\n",
    "dataset_3total = np.sum(new_dataset, axis=1)\n",
    "\n",
    "# Display the dataset_3total\n",
    "dataset_3total"
   ]
  },
  {
   "cell_type": "code",
   "execution_count": 80,
   "metadata": {},
   "outputs": [
    {
     "data": {
      "text/html": [
       "<table style='border-style:solid;border-width:1px;'>\n",
       "<tr><td style=\"font-family:monospace;white-space: pre;\" title=\"0\"><center>504</center></td></tr>\n",
       "<tr><td style=\"font-family:monospace;white-space: pre;\" title=\"1\"><center>511</center></td></tr>\n",
       "<tr><td style=\"font-family:monospace;white-space: pre;\" title=\"2\"><center>518</center></td></tr>\n",
       "<tr><td style=\"font-family:monospace;white-space: pre;\" title=\"3\"><center>525</center></td></tr>\n",
       "<tr><td style=\"font-family:monospace;white-space: pre;\" title=\"4\"><center>532</center></td></tr>\n",
       "<tr><td style=\"font-family:monospace;white-space: pre;\" title=\"5\"><center>539</center></td></tr>\n",
       "<tr><td style=\"font-family:monospace;white-space: pre;\" title=\"6\"><center>546</center></td></tr>\n",
       "</table>"
      ],
      "text/plain": [
       "array([504, 511, 518, 525, 532, 539, 546])"
      ]
     },
     "execution_count": 80,
     "metadata": {},
     "output_type": "execute_result"
    }
   ],
   "source": [
    "# Create a function to get sum by a column\n",
    "dataset_4total = np.sum(new_dataset, axis=0)\n",
    "dataset_4total"
   ]
  },
  {
   "cell_type": "code",
   "execution_count": 96,
   "metadata": {},
   "outputs": [
    {
     "name": "stdout",
     "output_type": "stream",
     "text": [
      "Sum of containtments of each row within the dataset:\n",
      "378\n",
      "427\n",
      "476\n",
      "525\n",
      "574\n",
      "623\n",
      "672\n"
     ]
    }
   ],
   "source": [
    "# Create variable to store the sum of each row within the dataset\n",
    "row_sums = []\n",
    "\n",
    "# Create for loop to go through the new_dataset and sum row containtments together, append the sum of each row into the storage variable above\n",
    "for row in new_dataset:\n",
    "    row_sum = sum(row)\n",
    "    row_sums.append(row_sum)\n",
    "\n",
    "# Create text to inform user about what the information is for\n",
    "print(\"Sum of containtments of each row within the dataset:\")\n",
    "    \n",
    "# Create for loop to go through each row, enumerate them and print each row one by one\n",
    "for i, row_sum in enumerate(row_sums):\n",
    "    print(row_sum)"
   ]
  },
  {
   "cell_type": "code",
   "execution_count": 87,
   "metadata": {},
   "outputs": [
    {
     "name": "stdout",
     "output_type": "stream",
     "text": [
      "504\n",
      "511\n",
      "518\n",
      "525\n",
      "532\n",
      "539\n",
      "546\n"
     ]
    }
   ],
   "source": [
    "# Create variable to store the sum of each column within the dataset\n",
    "column_sums = [0] * len(new_dataset[0])\n",
    "\n",
    "# Create for loop to go through the new_dataset and sum column values containtments together, append the sum of each column values into the storage variable above\n",
    "for row in new_dataset:\n",
    "    for i, value in enumerate(row):\n",
    "        column_sums[i] += value\n",
    "        \n",
    "# Create for loop to go through each column, enumerate them and print each row one by one\n",
    "for i, column_sum in enumerate(column_sums):\n",
    "    print(column_sum)"
   ]
  },
  {
   "cell_type": "markdown",
   "metadata": {},
   "source": [
    "<h2>Here are all extra exercises from exercise set 1.<h2>"
   ]
  },
  {
   "cell_type": "markdown",
   "metadata": {},
   "source": [
    "<h3>1.3b extra<h3>"
   ]
  },
  {
   "cell_type": "code",
   "execution_count": 35,
   "metadata": {},
   "outputs": [
    {
     "name": "stdout",
     "output_type": "stream",
     "text": [
      "[1, 2, 3, 4, 5, 6, 7]\n",
      "[8, 9, 10, 11, 12, 13, 14]\n",
      "[15, 16, 17, 18, 19, 20, 21]\n",
      "[22, 23, 24, 25, 26, 27, 28]\n",
      "[29, 30, 31, 32, 33, 34, 35]\n",
      "[36, 37, 38, 39, 40, 41, 42]\n",
      "[43, 44, 45, 46, 47, 48, 49]\n"
     ]
    }
   ],
   "source": [
    "# Create a list to store values of the matrix\n",
    "matrix = []\n",
    "\n",
    "# Create starting value to be used in creating the variables\n",
    "start_value = 1\n",
    "\n",
    "# Create a statement to define values of rows in the matrix\n",
    "for x in range(7):\n",
    "    row = []\n",
    "    # Create statement to add +1 to starting value and add starting value into row\n",
    "    for x in range(7):\n",
    "        row.append(start_value)\n",
    "        start_value += 1\n",
    "    # Add row into the matrix\n",
    "    matrix.append(row)\n",
    "\n",
    "# Create statement to display matrix\n",
    "for row in matrix:\n",
    "    print(row)\n"
   ]
  },
  {
   "cell_type": "markdown",
   "metadata": {},
   "source": [
    "<h3>1.4b extra<h3>"
   ]
  },
  {
   "cell_type": "code",
   "execution_count": 88,
   "metadata": {},
   "outputs": [
    {
     "name": "stdout",
     "output_type": "stream",
     "text": [
      "[0.05, 0.1, 0.15000000000000002, 0.2, 0.25, 0.3, 0.35000000000000003, 0.4, 0.45, 0.5]\n",
      "[0.55, 0.6000000000000001, 0.6500000000000001, 0.7000000000000001, 0.7500000000000001, 0.8, 0.8500000000000001, 0.9000000000000001, 0.9500000000000001, 1.0]\n",
      "[1.05, 1.1, 1.1500000000000001, 1.2000000000000002, 1.2500000000000002, 1.3, 1.35, 1.4000000000000001, 1.4500000000000002, 1.5000000000000002]\n",
      "[1.55, 1.6, 1.6500000000000001, 1.7000000000000002, 1.7500000000000002, 1.8, 1.85, 1.9000000000000001, 1.9500000000000002, 2.0]\n",
      "[2.05, 2.1, 2.15, 2.1999999999999997, 2.25, 2.3, 2.35, 2.4, 2.45, 2.5]\n",
      "[2.55, 2.6, 2.65, 2.7, 2.75, 2.8, 2.85, 2.9, 2.95, 3.0]\n",
      "[3.05, 3.1, 3.15, 3.2, 3.25, 3.3, 3.35, 3.4, 3.45, 3.5]\n",
      "[3.55, 3.6, 3.65, 3.7, 3.75, 3.8, 3.85, 3.9, 3.95, 4.0]\n",
      "[4.05, 4.1, 4.15, 4.2, 4.25, 4.3, 4.35, 4.4, 4.45, 4.5]\n",
      "[4.55, 4.6, 4.65, 4.7, 4.75, 4.8, 4.8500000000000005, 4.9, 4.95, 5.0]\n"
     ]
    }
   ],
   "source": [
    "# Create a function to calculate linearly spaced list\n",
    "def linspace(start, stop, num):\n",
    "    # Calculate the step size\n",
    "    values = (stop - start) / (num - 1)\n",
    "    values_list = []\n",
    "    # Generate linearly spaced values and append them to the result list\n",
    "    for i in range(num):\n",
    "        values_list.append(start + values * i)\n",
    "    return values_list\n",
    "\n",
    "# Generate linearly spaced list between 0 and 5 with 100 values\n",
    "matrix_05values = linspace(0.05, 5, 100)\n",
    "\n",
    "# Create a list to store the 10x10 matrix\n",
    "matrix_05 = []\n",
    "# Create statement to create rows into the matrix list, there are 10 rows, which each hold 10 values\n",
    "for i in range(0, 100, 10):\n",
    "    # Slice the list into 10 rows and add them to the matrix list\n",
    "    row = matrix_05values[i:i+10]\n",
    "    matrix_05.append(row)\n",
    "\n",
    "# Create statement to display the result to the user\n",
    "for row in matrix_05:\n",
    "    print(row)\n"
   ]
  },
  {
   "cell_type": "markdown",
   "metadata": {},
   "source": [
    "Advanced exercises "
   ]
  },
  {
   "cell_type": "markdown",
   "metadata": {},
   "source": [
    "1.1"
   ]
  },
  {
   "cell_type": "code",
   "execution_count": 98,
   "metadata": {},
   "outputs": [],
   "source": [
    "# Create a 15x15 matrix\n",
    "matrix = np.random.random((15, 15))\n",
    "\n",
    "# Save the matrix to a file (matrix.txt)\n",
    "np.savetxt('matrix.txt', matrix)"
   ]
  },
  {
   "cell_type": "code",
   "execution_count": 102,
   "metadata": {},
   "outputs": [
    {
     "name": "stdout",
     "output_type": "stream",
     "text": [
      "[[0.3092725  0.86438159 0.06427758 0.30303947 0.42707657 0.44159115\n",
      "  0.84319612 0.93282498 0.57385876 0.56604426 0.91422164 0.08719277\n",
      "  0.91656103 0.13152739 0.36701734]\n",
      " [0.31212052 0.42913563 0.32823435 0.67336475 0.65272037 0.65949147\n",
      "  0.74870622 0.64323509 0.61678311 0.63930664 0.47618145 0.37949879\n",
      "  0.79839227 0.04325364 0.40996743]\n",
      " [0.15314005 0.58437595 0.15716345 0.516737   0.87917892 0.90046055\n",
      "  0.86682534 0.76804564 0.23525519 0.99581618 0.20911781 0.80606391\n",
      "  0.21201669 0.22258413 0.80483278]\n",
      " [0.08822831 0.11260455 0.44132344 0.79136747 0.51653972 0.6281723\n",
      "  0.43811666 0.59402165 0.96524834 0.75250614 0.86628747 0.20791977\n",
      "  0.79484212 0.99175317 0.17330243]\n",
      " [0.80442265 0.85366386 0.97839709 0.45508854 0.91504016 0.39226181\n",
      "  0.38479739 0.21735771 0.14680619 0.6952212  0.53949496 0.27885575\n",
      "  0.93796739 0.55747757 0.86467094]\n",
      " [0.62383946 0.75662972 0.11376635 0.98702771 0.38567713 0.58916616\n",
      "  0.6035494  0.14523382 0.69196139 0.93470522 0.98313223 0.88491048\n",
      "  0.8555154  0.43752694 0.01599754]\n",
      " [0.22479506 0.32554615 0.91592313 0.08858546 0.58779343 0.68400983\n",
      "  0.93681671 0.9711244  0.24012737 0.00698104 0.05646156 0.14774048\n",
      "  0.97034388 0.49476108 0.97503811]\n",
      " [0.20788983 0.04991852 0.67878894 0.27030011 0.95350324 0.23909446\n",
      "  0.21841504 0.53362429 0.19980814 0.94754122 0.76426383 0.14795243\n",
      "  0.81498488 0.40154112 0.09535274]\n",
      " [0.83143689 0.80409544 0.08731213 0.23629946 0.23080654 0.85765823\n",
      "  0.04497526 0.09961171 0.91827544 0.12703649 0.08464704 0.86545237\n",
      "  0.84679894 0.84895635 0.24557953]\n",
      " [0.4827562  0.95577792 0.21740699 0.41666753 0.36910905 0.06217678\n",
      "  0.54942784 0.03912046 0.22019813 0.98876253 0.46549171 0.96737236\n",
      "  0.61499522 0.63765507 0.12044969]\n",
      " [0.17561472 0.09689757 0.73944732 0.62280423 0.78127326 0.4302757\n",
      "  0.92334108 0.27144127 0.34719949 0.73651068 0.06301817 0.55913985\n",
      "  0.3513749  0.82829948 0.04838732]\n",
      " [0.2894491  0.11454106 0.14507615 0.77683092 0.38448403 0.31094842\n",
      "  0.89938702 0.28929846 0.34871757 0.20841812 0.82105644 0.5060315\n",
      "  0.11633233 0.72988547 0.84885753]\n",
      " [0.13498144 0.32228847 0.86414983 0.54579219 0.21273502 0.75028158\n",
      "  0.79991298 0.09738929 0.79065883 0.23436421 0.17342342 0.28254157\n",
      "  0.08906852 0.05329675 0.41891995]\n",
      " [0.58752368 0.42352998 0.9573744  0.22820967 0.7035183  0.02763895\n",
      "  0.18019966 0.62910628 0.32104552 0.28524139 0.13694245 0.06321044\n",
      "  0.3106629  0.88137187 0.9710646 ]\n",
      " [0.32116691 0.61634973 0.46979306 0.05538032 0.52579071 0.71863007\n",
      "  0.50028123 0.41934393 0.26989464 0.73044651 0.23852573 0.37792096\n",
      "  0.01065079 0.47152477 0.54717553]]\n"
     ]
    }
   ],
   "source": [
    "# Load matrix.txt and store it into variable\n",
    "loaded_matrix = np.loadtxt('matrix.txt')\n",
    "\n",
    "# Convert it back to a NumPy matrix\n",
    "loaded_matrix = np.matrix(loaded_matrix)\n",
    "\n",
    "# Display using print\n",
    "print(loaded_matrix)"
   ]
  },
  {
   "cell_type": "code",
   "execution_count": 103,
   "metadata": {},
   "outputs": [
    {
     "data": {
      "text/html": [
       "<table style='border-style:solid;border-width:1px;'>\n",
       "<tr>\n",
       "<td style=\"font-family:monospace;white-space: pre;\" title=\"(0, 0)\"><center>[[0.3092725  0.86438159 0.06427758 0.30303947 0.42707657 0.44159115\n",
       "  0.84319612 0.93282498 0.57385876 0.56604426 0.91422164 0.08719277\n",
       "  0.91656103 0.13152739 0.36701734]]</center></td>\n",
       "</tr>\n",
       "<tr>\n",
       "<td style=\"font-family:monospace;white-space: pre;\" title=\"(1, 0)\"><center>[[0.31212052 0.42913563 0.32823435 0.67336475 0.65272037 0.65949147\n",
       "  0.74870622 0.64323509 0.61678311 0.63930664 0.47618145 0.37949879\n",
       "  0.79839227 0.04325364 0.40996743]]</center></td>\n",
       "</tr>\n",
       "<tr>\n",
       "<td style=\"font-family:monospace;white-space: pre;\" title=\"(2, 0)\"><center>[[0.15314005 0.58437595 0.15716345 0.516737   0.87917892 0.90046055\n",
       "  0.86682534 0.76804564 0.23525519 0.99581618 0.20911781 0.80606391\n",
       "  0.21201669 0.22258413 0.80483278]]</center></td>\n",
       "</tr>\n",
       "<tr>\n",
       "<td style=\"font-family:monospace;white-space: pre;\" title=\"(3, 0)\"><center>[[0.08822831 0.11260455 0.44132344 0.79136747 0.51653972 0.6281723\n",
       "  0.43811666 0.59402165 0.96524834 0.75250614 0.86628747 0.20791977\n",
       "  0.79484212 0.99175317 0.17330243]] </center></td>\n",
       "</tr>\n",
       "<tr>\n",
       "<td style=\"font-family:monospace;white-space: pre;\" title=\"(4, 0)\"><center>[[0.80442265 0.85366386 0.97839709 0.45508854 0.91504016 0.39226181\n",
       "  0.38479739 0.21735771 0.14680619 0.6952212  0.53949496 0.27885575\n",
       "  0.93796739 0.55747757 0.86467094]]</center></td>\n",
       "</tr>\n",
       "<tr>\n",
       "<td style=\"font-family:monospace;white-space: pre;\" title=\"(5, 0)\"><center>[[0.62383946 0.75662972 0.11376635 0.98702771 0.38567713 0.58916616\n",
       "  0.6035494  0.14523382 0.69196139 0.93470522 0.98313223 0.88491048\n",
       "  0.8555154  0.43752694 0.01599754]]</center></td>\n",
       "</tr>\n",
       "<tr>\n",
       "<td style=\"font-family:monospace;white-space: pre;\" title=\"(6, 0)\"><center>[[0.22479506 0.32554615 0.91592313 0.08858546 0.58779343 0.68400983\n",
       "  0.93681671 0.9711244  0.24012737 0.00698104 0.05646156 0.14774048\n",
       "  0.97034388 0.49476108 0.97503811]]</center></td>\n",
       "</tr>\n",
       "<tr>\n",
       "<td style=\"font-family:monospace;white-space: pre;\" title=\"(7, 0)\"><center>[[0.20788983 0.04991852 0.67878894 0.27030011 0.95350324 0.23909446\n",
       "  0.21841504 0.53362429 0.19980814 0.94754122 0.76426383 0.14795243\n",
       "  0.81498488 0.40154112 0.09535274]]</center></td>\n",
       "</tr>\n",
       "<tr>\n",
       "<td style=\"font-family:monospace;white-space: pre;\" title=\"(8, 0)\"><center>[[0.83143689 0.80409544 0.08731213 0.23629946 0.23080654 0.85765823\n",
       "  0.04497526 0.09961171 0.91827544 0.12703649 0.08464704 0.86545237\n",
       "  0.84679894 0.84895635 0.24557953]]</center></td>\n",
       "</tr>\n",
       "<tr>\n",
       "<td style=\"font-family:monospace;white-space: pre;\" title=\"(9, 0)\"><center>[[0.4827562  0.95577792 0.21740699 0.41666753 0.36910905 0.06217678\n",
       "  0.54942784 0.03912046 0.22019813 0.98876253 0.46549171 0.96737236\n",
       "  0.61499522 0.63765507 0.12044969]]</center></td>\n",
       "</tr>\n",
       "<tr>\n",
       "<td style=\"font-family:monospace;white-space: pre;\" title=\"(10, 0)\"><center>[[0.17561472 0.09689757 0.73944732 0.62280423 0.78127326 0.4302757\n",
       "  0.92334108 0.27144127 0.34719949 0.73651068 0.06301817 0.55913985\n",
       "  0.3513749  0.82829948 0.04838732]] </center></td>\n",
       "</tr>\n",
       "<tr>\n",
       "<td style=\"font-family:monospace;white-space: pre;\" title=\"(11, 0)\"><center>[[0.2894491  0.11454106 0.14507615 0.77683092 0.38448403 0.31094842\n",
       "  0.89938702 0.28929846 0.34871757 0.20841812 0.82105644 0.5060315\n",
       "  0.11633233 0.72988547 0.84885753]] </center></td>\n",
       "</tr>\n",
       "<tr>\n",
       "<td style=\"font-family:monospace;white-space: pre;\" title=\"(12, 0)\"><center>[[0.13498144 0.32228847 0.86414983 0.54579219 0.21273502 0.75028158\n",
       "  0.79991298 0.09738929 0.79065883 0.23436421 0.17342342 0.28254157\n",
       "  0.08906852 0.05329675 0.41891995]]</center></td>\n",
       "</tr>\n",
       "<tr>\n",
       "<td style=\"font-family:monospace;white-space: pre;\" title=\"(13, 0)\"><center>[[0.58752368 0.42352998 0.9573744  0.22820967 0.7035183  0.02763895\n",
       "  0.18019966 0.62910628 0.32104552 0.28524139 0.13694245 0.06321044\n",
       "  0.3106629  0.88137187 0.9710646 ]]</center></td>\n",
       "</tr>\n",
       "<tr>\n",
       "<td style=\"font-family:monospace;white-space: pre;\" title=\"(14, 0)\"><center>[[0.32116691 0.61634973 0.46979306 0.05538032 0.52579071 0.71863007\n",
       "  0.50028123 0.41934393 0.26989464 0.73044651 0.23852573 0.37792096\n",
       "  0.01065079 0.47152477 0.54717553]]</center></td>\n",
       "</tr>\n",
       "</table>"
      ],
      "text/plain": [
       "matrix([[0.3092725 , 0.86438159, 0.06427758, 0.30303947, 0.42707657,\n",
       "         0.44159115, 0.84319612, 0.93282498, 0.57385876, 0.56604426,\n",
       "         0.91422164, 0.08719277, 0.91656103, 0.13152739, 0.36701734],\n",
       "        [0.31212052, 0.42913563, 0.32823435, 0.67336475, 0.65272037,\n",
       "         0.65949147, 0.74870622, 0.64323509, 0.61678311, 0.63930664,\n",
       "         0.47618145, 0.37949879, 0.79839227, 0.04325364, 0.40996743],\n",
       "        [0.15314005, 0.58437595, 0.15716345, 0.516737  , 0.87917892,\n",
       "         0.90046055, 0.86682534, 0.76804564, 0.23525519, 0.99581618,\n",
       "         0.20911781, 0.80606391, 0.21201669, 0.22258413, 0.80483278],\n",
       "        [0.08822831, 0.11260455, 0.44132344, 0.79136747, 0.51653972,\n",
       "         0.6281723 , 0.43811666, 0.59402165, 0.96524834, 0.75250614,\n",
       "         0.86628747, 0.20791977, 0.79484212, 0.99175317, 0.17330243],\n",
       "        [0.80442265, 0.85366386, 0.97839709, 0.45508854, 0.91504016,\n",
       "         0.39226181, 0.38479739, 0.21735771, 0.14680619, 0.6952212 ,\n",
       "         0.53949496, 0.27885575, 0.93796739, 0.55747757, 0.86467094],\n",
       "        [0.62383946, 0.75662972, 0.11376635, 0.98702771, 0.38567713,\n",
       "         0.58916616, 0.6035494 , 0.14523382, 0.69196139, 0.93470522,\n",
       "         0.98313223, 0.88491048, 0.8555154 , 0.43752694, 0.01599754],\n",
       "        [0.22479506, 0.32554615, 0.91592313, 0.08858546, 0.58779343,\n",
       "         0.68400983, 0.93681671, 0.9711244 , 0.24012737, 0.00698104,\n",
       "         0.05646156, 0.14774048, 0.97034388, 0.49476108, 0.97503811],\n",
       "        [0.20788983, 0.04991852, 0.67878894, 0.27030011, 0.95350324,\n",
       "         0.23909446, 0.21841504, 0.53362429, 0.19980814, 0.94754122,\n",
       "         0.76426383, 0.14795243, 0.81498488, 0.40154112, 0.09535274],\n",
       "        [0.83143689, 0.80409544, 0.08731213, 0.23629946, 0.23080654,\n",
       "         0.85765823, 0.04497526, 0.09961171, 0.91827544, 0.12703649,\n",
       "         0.08464704, 0.86545237, 0.84679894, 0.84895635, 0.24557953],\n",
       "        [0.4827562 , 0.95577792, 0.21740699, 0.41666753, 0.36910905,\n",
       "         0.06217678, 0.54942784, 0.03912046, 0.22019813, 0.98876253,\n",
       "         0.46549171, 0.96737236, 0.61499522, 0.63765507, 0.12044969],\n",
       "        [0.17561472, 0.09689757, 0.73944732, 0.62280423, 0.78127326,\n",
       "         0.4302757 , 0.92334108, 0.27144127, 0.34719949, 0.73651068,\n",
       "         0.06301817, 0.55913985, 0.3513749 , 0.82829948, 0.04838732],\n",
       "        [0.2894491 , 0.11454106, 0.14507615, 0.77683092, 0.38448403,\n",
       "         0.31094842, 0.89938702, 0.28929846, 0.34871757, 0.20841812,\n",
       "         0.82105644, 0.5060315 , 0.11633233, 0.72988547, 0.84885753],\n",
       "        [0.13498144, 0.32228847, 0.86414983, 0.54579219, 0.21273502,\n",
       "         0.75028158, 0.79991298, 0.09738929, 0.79065883, 0.23436421,\n",
       "         0.17342342, 0.28254157, 0.08906852, 0.05329675, 0.41891995],\n",
       "        [0.58752368, 0.42352998, 0.9573744 , 0.22820967, 0.7035183 ,\n",
       "         0.02763895, 0.18019966, 0.62910628, 0.32104552, 0.28524139,\n",
       "         0.13694245, 0.06321044, 0.3106629 , 0.88137187, 0.9710646 ],\n",
       "        [0.32116691, 0.61634973, 0.46979306, 0.05538032, 0.52579071,\n",
       "         0.71863007, 0.50028123, 0.41934393, 0.26989464, 0.73044651,\n",
       "         0.23852573, 0.37792096, 0.01065079, 0.47152477, 0.54717553]])"
      ]
     },
     "execution_count": 103,
     "metadata": {},
     "output_type": "execute_result"
    }
   ],
   "source": [
    "# Display the loaded_matrix\n",
    "loaded_matrix"
   ]
  },
  {
   "cell_type": "code",
   "execution_count": 123,
   "metadata": {},
   "outputs": [
    {
     "data": {
      "text/html": [
       "<table style='border-style:solid;border-width:1px;'>\n",
       "<tr>\n",
       "<td style=\"font-family:monospace;white-space: pre;\" title=\"(0, 0)\"><center>40</center></td>\n",
       "<td style=\"font-family:monospace;white-space: pre;\" title=\"(0, 1)\"><center>46</center></td>\n",
       "<td style=\"font-family:monospace;white-space: pre;\" title=\"(0, 2)\"><center>5 </center></td>\n",
       "<td style=\"font-family:monospace;white-space: pre;\" title=\"(0, 3)\"><center>7 </center></td>\n",
       "<td style=\"font-family:monospace;white-space: pre;\" title=\"(0, 4)\"><center>41</center></td>\n",
       "<td style=\"font-family:monospace;white-space: pre;\" title=\"(0, 5)\"><center>3 </center></td>\n",
       "<td style=\"font-family:monospace;white-space: pre;\" title=\"(0, 6)\"><center>37</center></td>\n",
       "<td style=\"font-family:monospace;white-space: pre;\" title=\"(0, 7)\"><center>28</center></td>\n",
       "<td style=\"font-family:monospace;white-space: pre;\" title=\"(0, 8)\"><center>42</center></td>\n",
       "<td style=\"font-family:monospace;white-space: pre;\" title=\"(0, 9)\"><center>34</center></td>\n",
       "</tr>\n",
       "<tr>\n",
       "<td style=\"font-family:monospace;white-space: pre;\" title=\"(1, 0)\"><center>49</center></td>\n",
       "<td style=\"font-family:monospace;white-space: pre;\" title=\"(1, 1)\"><center>35</center></td>\n",
       "<td style=\"font-family:monospace;white-space: pre;\" title=\"(1, 2)\"><center>3 </center></td>\n",
       "<td style=\"font-family:monospace;white-space: pre;\" title=\"(1, 3)\"><center>43</center></td>\n",
       "<td style=\"font-family:monospace;white-space: pre;\" title=\"(1, 4)\"><center>49</center></td>\n",
       "<td style=\"font-family:monospace;white-space: pre;\" title=\"(1, 5)\"><center>47</center></td>\n",
       "<td style=\"font-family:monospace;white-space: pre;\" title=\"(1, 6)\"><center>12</center></td>\n",
       "<td style=\"font-family:monospace;white-space: pre;\" title=\"(1, 7)\"><center>42</center></td>\n",
       "<td style=\"font-family:monospace;white-space: pre;\" title=\"(1, 8)\"><center>34</center></td>\n",
       "<td style=\"font-family:monospace;white-space: pre;\" title=\"(1, 9)\"><center>23</center></td>\n",
       "</tr>\n",
       "<tr>\n",
       "<td style=\"font-family:monospace;white-space: pre;\" title=\"(2, 0)\"><center>46</center></td>\n",
       "<td style=\"font-family:monospace;white-space: pre;\" title=\"(2, 1)\"><center>9 </center></td>\n",
       "<td style=\"font-family:monospace;white-space: pre;\" title=\"(2, 2)\"><center>49</center></td>\n",
       "<td style=\"font-family:monospace;white-space: pre;\" title=\"(2, 3)\"><center>36</center></td>\n",
       "<td style=\"font-family:monospace;white-space: pre;\" title=\"(2, 4)\"><center>0 </center></td>\n",
       "<td style=\"font-family:monospace;white-space: pre;\" title=\"(2, 5)\"><center>3 </center></td>\n",
       "<td style=\"font-family:monospace;white-space: pre;\" title=\"(2, 6)\"><center>48</center></td>\n",
       "<td style=\"font-family:monospace;white-space: pre;\" title=\"(2, 7)\"><center>44</center></td>\n",
       "<td style=\"font-family:monospace;white-space: pre;\" title=\"(2, 8)\"><center>47</center></td>\n",
       "<td style=\"font-family:monospace;white-space: pre;\" title=\"(2, 9)\"><center>8 </center></td>\n",
       "</tr>\n",
       "<tr>\n",
       "<td style=\"font-family:monospace;white-space: pre;\" title=\"(3, 0)\"><center>21</center></td>\n",
       "<td style=\"font-family:monospace;white-space: pre;\" title=\"(3, 1)\"><center>47</center></td>\n",
       "<td style=\"font-family:monospace;white-space: pre;\" title=\"(3, 2)\"><center>42</center></td>\n",
       "<td style=\"font-family:monospace;white-space: pre;\" title=\"(3, 3)\"><center>18</center></td>\n",
       "<td style=\"font-family:monospace;white-space: pre;\" title=\"(3, 4)\"><center>19</center></td>\n",
       "<td style=\"font-family:monospace;white-space: pre;\" title=\"(3, 5)\"><center>30</center></td>\n",
       "<td style=\"font-family:monospace;white-space: pre;\" title=\"(3, 6)\"><center>44</center></td>\n",
       "<td style=\"font-family:monospace;white-space: pre;\" title=\"(3, 7)\"><center>15</center></td>\n",
       "<td style=\"font-family:monospace;white-space: pre;\" title=\"(3, 8)\"><center>20</center></td>\n",
       "<td style=\"font-family:monospace;white-space: pre;\" title=\"(3, 9)\"><center>2 </center></td>\n",
       "</tr>\n",
       "<tr>\n",
       "<td style=\"font-family:monospace;white-space: pre;\" title=\"(4, 0)\"><center>25</center></td>\n",
       "<td style=\"font-family:monospace;white-space: pre;\" title=\"(4, 1)\"><center>13</center></td>\n",
       "<td style=\"font-family:monospace;white-space: pre;\" title=\"(4, 2)\"><center>9 </center></td>\n",
       "<td style=\"font-family:monospace;white-space: pre;\" title=\"(4, 3)\"><center>37</center></td>\n",
       "<td style=\"font-family:monospace;white-space: pre;\" title=\"(4, 4)\"><center>28</center></td>\n",
       "<td style=\"font-family:monospace;white-space: pre;\" title=\"(4, 5)\"><center>47</center></td>\n",
       "<td style=\"font-family:monospace;white-space: pre;\" title=\"(4, 6)\"><center>1 </center></td>\n",
       "<td style=\"font-family:monospace;white-space: pre;\" title=\"(4, 7)\"><center>48</center></td>\n",
       "<td style=\"font-family:monospace;white-space: pre;\" title=\"(4, 8)\"><center>24</center></td>\n",
       "<td style=\"font-family:monospace;white-space: pre;\" title=\"(4, 9)\"><center>28</center></td>\n",
       "</tr>\n",
       "</table>"
      ],
      "text/plain": [
       "array([[40, 46,  5,  7, 41,  3, 37, 28, 42, 34],\n",
       "       [49, 35,  3, 43, 49, 47, 12, 42, 34, 23],\n",
       "       [46,  9, 49, 36,  0,  3, 48, 44, 47,  8],\n",
       "       [21, 47, 42, 18, 19, 30, 44, 15, 20,  2],\n",
       "       [25, 13,  9, 37, 28, 47,  1, 48, 24, 28]])"
      ]
     },
     "execution_count": 123,
     "metadata": {},
     "output_type": "execute_result"
    }
   ],
   "source": [
    "# Create variable for 5x10 matrix, for the matrix use random numbers from 0-50,\n",
    "matrix = np.random.randint(0, 50, (5, 10))\n",
    "\n",
    "# Create for loop to go through the matrix values and put faulty numbers(-100) to some of them\n",
    "for i in range(10):\n",
    "    x, y = np.random.randint(0, 5, 2)\n",
    "    matrix[x, y] = -100\n",
    "\n",
    "# Create a masked array to handle the -100 values\n",
    "masked_matrix = np.ma.masked_equal(matrix, -100)\n",
    "\n",
    "# Replace every -100 with 0\n",
    "masked_matrix = np.ma.filled(masked_matrix, 0)\n",
    "\n",
    "# Print the original matrix and the masked matrix\n",
    "print(\"Original matrix with faulty numbers:\")\n",
    "print(matrix)\n",
    "print(\"Masked matrix with faulty numbers replaced:\")\n",
    "print(masked_matrix)"
   ]
  },
  {
   "cell_type": "code",
   "execution_count": 125,
   "metadata": {},
   "outputs": [
    {
     "name": "stdout",
     "output_type": "stream",
     "text": [
      "Manufacturing years:\n",
      "[2010 2011 2011 2012 2014 2015 2016 2017 2018 2019]\n",
      "Selling prices:\n",
      "[48538 59232  3643 44872 51583 59053 14768 24805 14438 48414]\n"
     ]
    }
   ],
   "source": [
    "# Create dataset years, use random randint for years between 2010-2021\n",
    "years = np.random.randint(2010, 2021, 10)\n",
    "\n",
    "# Create dataset prices, use random randint for prices between 2000-60000\n",
    "prices = np.random.randint(2000, 60000, 10)\n",
    "\n",
    "# Sort both datasets according to years\n",
    "sort_arg = np.argsort(years)\n",
    "years = years[sort_arg]\n",
    "prices = prices[sort_arg]\n",
    "\n",
    "# Display both of the sorted datasets\n",
    "print(\"Manufacturing years:\")\n",
    "print(years)\n",
    "print(\"Selling prices:\")\n",
    "print(prices)"
   ]
  },
  {
   "cell_type": "code",
   "execution_count": 126,
   "metadata": {},
   "outputs": [
    {
     "data": {
      "text/html": [
       "<table style='border-style:solid;border-width:1px;'>\n",
       "<tr>\n",
       "<td style=\"font-family:monospace;white-space: pre;\" title=\"(0, 0)\"><center>1 </center></td>\n",
       "<td style=\"font-family:monospace;white-space: pre;\" title=\"(0, 1)\"><center>2 </center></td>\n",
       "<td style=\"font-family:monospace;white-space: pre;\" title=\"(0, 2)\"><center>3 </center></td>\n",
       "<td style=\"font-family:monospace;white-space: pre;\" title=\"(0, 3)\"><center>4 </center></td>\n",
       "</tr>\n",
       "<tr>\n",
       "<td style=\"font-family:monospace;white-space: pre;\" title=\"(1, 0)\"><center>5 </center></td>\n",
       "<td style=\"font-family:monospace;white-space: pre;\" title=\"(1, 1)\"><center>6 </center></td>\n",
       "<td style=\"font-family:monospace;white-space: pre;\" title=\"(1, 2)\"><center>7 </center></td>\n",
       "<td style=\"font-family:monospace;white-space: pre;\" title=\"(1, 3)\"><center>8 </center></td>\n",
       "</tr>\n",
       "<tr>\n",
       "<td style=\"font-family:monospace;white-space: pre;\" title=\"(2, 0)\"><center>9 </center></td>\n",
       "<td style=\"font-family:monospace;white-space: pre;\" title=\"(2, 1)\"><center>10</center></td>\n",
       "<td style=\"font-family:monospace;white-space: pre;\" title=\"(2, 2)\"><center>11</center></td>\n",
       "<td style=\"font-family:monospace;white-space: pre;\" title=\"(2, 3)\"><center>12</center></td>\n",
       "</tr>\n",
       "</table>"
      ],
      "text/plain": [
       "array([[ 1,  2,  3,  4],\n",
       "       [ 5,  6,  7,  8],\n",
       "       [ 9, 10, 11, 12]])"
      ]
     },
     "execution_count": 126,
     "metadata": {},
     "output_type": "execute_result"
    }
   ],
   "source": [
    "# Create array of \n",
    "advanced4_array = np.array([[1, 2, 3, 4], [5, 6, 7, 8], [9, 10, 11, 12]])\n",
    "\n",
    "# Display the advanced_array\n",
    "advanced4_array"
   ]
  },
  {
   "cell_type": "code",
   "execution_count": 127,
   "metadata": {},
   "outputs": [
    {
     "name": "stdout",
     "output_type": "stream",
     "text": [
      "[ 1  1  1  2  2  2  3  3  3  4  4  4  5  5  5  6  6  6  7  7  7  8  8  8\n",
      "  9  9  9 10 10 10 11 11 11 12 12 12]\n"
     ]
    }
   ],
   "source": [
    "# Try np.repeat() function\n",
    "advanced4_repeated = np.repeat(advanced4_array, 3)\n",
    "print(advanced4_repeated)"
   ]
  },
  {
   "cell_type": "code",
   "execution_count": 128,
   "metadata": {},
   "outputs": [
    {
     "name": "stdout",
     "output_type": "stream",
     "text": [
      "[ 1  2  3  4  5  6  7  8  9 10 11 12]\n"
     ]
    }
   ],
   "source": [
    "# Try np.ravel() function\n",
    "advanced4_flattened = np.ravel(advanced4_array)\n",
    "print(advanced4_flattened)"
   ]
  },
  {
   "cell_type": "code",
   "execution_count": 129,
   "metadata": {},
   "outputs": [
    {
     "name": "stdout",
     "output_type": "stream",
     "text": [
      "[array([[ 1,  2],\n",
      "       [ 5,  6],\n",
      "       [ 9, 10]]), array([[ 3,  4],\n",
      "       [ 7,  8],\n",
      "       [11, 12]])]\n"
     ]
    }
   ],
   "source": [
    "# Try np.hsplit() function\n",
    "advanced4_hsplit = np.hsplit(advanced4_array, 2)\n",
    "print(advanced4_hsplit)"
   ]
  },
  {
   "cell_type": "code",
   "execution_count": 130,
   "metadata": {},
   "outputs": [
    {
     "name": "stdout",
     "output_type": "stream",
     "text": [
      "[array([[1, 2, 3, 4]]), array([[5, 6, 7, 8]]), array([[ 9, 10, 11, 12]])]\n"
     ]
    }
   ],
   "source": [
    "# Try np.vsplit() function\n",
    "advanced4_vsplit = np.vsplit(advanced4_array, 3)\n",
    "print(advanced4_vsplit)"
   ]
  },
  {
   "cell_type": "code",
   "execution_count": 131,
   "metadata": {},
   "outputs": [
    {
     "name": "stdout",
     "output_type": "stream",
     "text": [
      "[[ 1  2  3  4]\n",
      " [ 5  6  7  8]\n",
      " [ 9 10 11 12]]\n"
     ]
    }
   ],
   "source": [
    "# Try np.hstack() function\n",
    "advanced4_hstack = np.hstack(advanced4_hsplit)\n",
    "print(advanced4_hstack)"
   ]
  },
  {
   "cell_type": "code",
   "execution_count": 132,
   "metadata": {},
   "outputs": [
    {
     "name": "stdout",
     "output_type": "stream",
     "text": [
      "[[ 1  2  3  4]\n",
      " [ 5  6  7  8]\n",
      " [ 9 10 11 12]]\n"
     ]
    }
   ],
   "source": [
    "# Try np.vstack() function\n",
    "advanced4_vstack = np.vstack(advanced4_vsplit)\n",
    "print(advanced4_vstack)"
   ]
  },
  {
   "cell_type": "code",
   "execution_count": 133,
   "metadata": {},
   "outputs": [
    {
     "name": "stdout",
     "output_type": "stream",
     "text": [
      "[[ 1  5  9]\n",
      " [ 2  6 10]\n",
      " [ 3  7 11]\n",
      " [ 4  8 12]]\n"
     ]
    }
   ],
   "source": [
    "# Try np.transpose() function\n",
    "advanced4_array_transposed = np.transpose(advanced4_array)\n",
    "print(advanced4_array_transposed)"
   ]
  },
  {
   "cell_type": "code",
   "execution_count": 137,
   "metadata": {},
   "outputs": [
    {
     "name": "stdout",
     "output_type": "stream",
     "text": [
      "Rounded Array:\n",
      " [[ 1  2  3  4]\n",
      " [ 5  6  7  8]\n",
      " [ 9 10 11 12]]\n"
     ]
    }
   ],
   "source": [
    "# Try np.round() function\n",
    "advanced4_rounded_array = np.round(advanced4_array, decimals=2)\n",
    "print(\"Rounded Array:\\n\", advanced4_rounded_array)"
   ]
  },
  {
   "cell_type": "code",
   "execution_count": 139,
   "metadata": {},
   "outputs": [
    {
     "name": "stdout",
     "output_type": "stream",
     "text": [
      "Expanded Array:\n",
      " [[[ 1]\n",
      "  [ 2]\n",
      "  [ 3]\n",
      "  [ 4]]\n",
      "\n",
      " [[ 5]\n",
      "  [ 6]\n",
      "  [ 7]\n",
      "  [ 8]]\n",
      "\n",
      " [[ 9]\n",
      "  [10]\n",
      "  [11]\n",
      "  [12]]]\n"
     ]
    }
   ],
   "source": [
    "# Try np.expanded() function\n",
    "advanced4_expanded_array = np.expand_dims(advanced4_array, axis=2)\n",
    "print(\"Expanded Array:\\n\", advanced4_expanded_array)"
   ]
  },
  {
   "cell_type": "code",
   "execution_count": 140,
   "metadata": {},
   "outputs": [
    {
     "name": "stdout",
     "output_type": "stream",
     "text": [
      "Squeezed Array:\n",
      " [[ 1  2  3  4]\n",
      " [ 5  6  7  8]\n",
      " [ 9 10 11 12]]\n"
     ]
    }
   ],
   "source": [
    "# Try np.squeezed() function\n",
    "advanced4_squeezed_array = np.squeeze(advanced4_expanded_array, axis=2)\n",
    "print(\"Squeezed Array:\\n\", advanced4_squeezed_array)"
   ]
  },
  {
   "cell_type": "code",
   "execution_count": 142,
   "metadata": {},
   "outputs": [
    {
     "name": "stdout",
     "output_type": "stream",
     "text": [
      "Digitized Array:\n",
      " [[1 1 1 2]\n",
      " [2 2 2 3]\n",
      " [3 3 3 4]]\n"
     ]
    }
   ],
   "source": [
    "# Try np.digitize() function\n",
    "bins = [0, 4, 8, 12]\n",
    "advanced4_digitized_array = np.digitize(advanced4_array, bins)\n",
    "print(\"Digitized Array:\\n\", advanced4_digitized_array)"
   ]
  }
 ],
 "metadata": {
  "kernelspec": {
   "display_name": ".venv",
   "language": "python",
   "name": "python3"
  },
  "language_info": {
   "codemirror_mode": {
    "name": "ipython",
    "version": 3
   },
   "file_extension": ".py",
   "mimetype": "text/x-python",
   "name": "python",
   "nbconvert_exporter": "python",
   "pygments_lexer": "ipython3",
   "version": "3.10.11"
  }
 },
 "nbformat": 4,
 "nbformat_minor": 2
}
